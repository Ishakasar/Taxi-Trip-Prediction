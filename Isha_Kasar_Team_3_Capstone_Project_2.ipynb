{
  "nbformat": 4,
  "nbformat_minor": 0,
  "metadata": {
    "kernelspec": {
      "display_name": "Python 3",
      "language": "python",
      "name": "python3"
    },
    "language_info": {
      "codemirror_mode": {
        "name": "ipython",
        "version": 3
      },
      "file_extension": ".py",
      "mimetype": "text/x-python",
      "name": "python",
      "nbconvert_exporter": "python",
      "pygments_lexer": "ipython3",
      "version": "3.6.6"
    },
    "colab": {
      "name": "Isha Kasar  - Team 3 - Capstone Project 2.ipynb",
      "provenance": [],
      "collapsed_sections": [],
      "include_colab_link": true
    }
  },
  "cells": [
    {
      "cell_type": "markdown",
      "metadata": {
        "id": "view-in-github",
        "colab_type": "text"
      },
      "source": [
        "<a href=\"https://colab.research.google.com/github/Ishakasar/Taxi-Trip-Prediction/blob/main/Isha_Kasar_Team_3_Capstone_Project_2.ipynb\" target=\"_parent\"><img src=\"https://colab.research.google.com/assets/colab-badge.svg\" alt=\"Open In Colab\"/></a>"
      ]
    },
    {
      "cell_type": "markdown",
      "metadata": {
        "id": "tOGC-qoyhJeX"
      },
      "source": [
        "# <b><u> Project Title : Taxi trip time Prediction : Predicting total ride duration of taxi trips in New York City</u></b>"
      ]
    },
    {
      "cell_type": "code",
      "metadata": {
        "colab": {
          "base_uri": "https://localhost:8080/"
        },
        "id": "2OjTuaX6gwVf",
        "outputId": "fd7d766c-007d-4198-ccc9-369e66badf88"
      },
      "source": [
        "\n",
        "from google.colab import drive\n",
        "drive.mount('/content/drive')"
      ],
      "execution_count": 11,
      "outputs": [
        {
          "output_type": "stream",
          "text": [
            "Drive already mounted at /content/drive; to attempt to forcibly remount, call drive.mount(\"/content/drive\", force_remount=True).\n"
          ],
          "name": "stdout"
        }
      ]
    },
    {
      "cell_type": "markdown",
      "metadata": {
        "id": "Y06xIdG26kRF"
      },
      "source": [
        "## <b> Problem Description </b>\n",
        "\n",
        "### Your task is to build a model that predicts the total ride duration of taxi trips in New York City. Your primary df is one released by the NYC Taxi and Limousine Commission, which includes pickup time, geo-coordinates, number of passengers, and several other variables."
      ]
    },
    {
      "cell_type": "markdown",
      "metadata": {
        "id": "WWeU1f9bwqQq"
      },
      "source": [
        "## <b> Data Description </b>\r\n",
        "\r\n",
        "### The dataset is based on the 2016 NYC Yellow Cab trip record data made available in Big Query on Google Cloud Platform. The data was originally published by the NYC Taxi and Limousine Commission (TLC). The data was sampled and cleaned for the purposes of this project. Based on individual trip attributes, you should predict the duration of each trip in the test set.\r\n",
        "\r\n",
        "### <b>NYC Taxi Data.csv</b> - the training set (contains 1458644 trip records)\r\n",
        "\r\n",
        "\r\n",
        "### Data fields\r\n",
        "* #### id - a unique identifier for each trip\r\n",
        "* #### vendor_id - a code indicating the provider associated with the trip record\r\n",
        "* #### pickup_datetime - date and time when the meter was engaged\r\n",
        "* #### dropoff_datetime - date and time when the meter was disengaged\r\n",
        "* #### passenger_count - the number of passengers in the vehicle (driver entered value)\r\n",
        "* #### pickup_longitude - the longitude where the meter was engaged\r\n",
        "* #### pickup_latitude - the latitude where the meter was engaged\r\n",
        "* #### dropoff_longitude - the longitude where the meter was disengaged\r\n",
        "* #### dropoff_latitude - the latitude where the meter was disengaged\r\n",
        "* #### store_and_fwd_flag - This flag indicates whether the trip record was held in vehicle memory before sending to the vendor because the vehicle did not have a connection to the server - Y=store and forward; N=not a store and forward trip\r\n",
        "* #### trip_duration - duration of the trip in seconds"
      ]
    },
    {
      "cell_type": "code",
      "metadata": {
        "id": "dByMsuzT8Tnw"
      },
      "source": [
        "import pandas as pd\r\n",
        "import seaborn as sns\r\n",
        "import numpy as np\r\n",
        "import matplotlib.pyplot as plt"
      ],
      "execution_count": 12,
      "outputs": []
    },
    {
      "cell_type": "code",
      "metadata": {
        "id": "CLTj3sDBg59s"
      },
      "source": [
        "df=pd.read_csv('/content/drive/MyDrive/AlmaBetter/Cohort Aravali/Module 4/Week 1/NYC Taxi Data.csv')"
      ],
      "execution_count": 13,
      "outputs": []
    },
    {
      "cell_type": "code",
      "metadata": {
        "colab": {
          "base_uri": "https://localhost:8080/",
          "height": 305
        },
        "id": "K4W_9owDhGit",
        "outputId": "9902104c-aeca-4c45-fc01-c8598896e1cc"
      },
      "source": [
        "df.head()"
      ],
      "execution_count": 14,
      "outputs": [
        {
          "output_type": "execute_result",
          "data": {
            "text/html": [
              "<div>\n",
              "<style scoped>\n",
              "    .dataframe tbody tr th:only-of-type {\n",
              "        vertical-align: middle;\n",
              "    }\n",
              "\n",
              "    .dataframe tbody tr th {\n",
              "        vertical-align: top;\n",
              "    }\n",
              "\n",
              "    .dataframe thead th {\n",
              "        text-align: right;\n",
              "    }\n",
              "</style>\n",
              "<table border=\"1\" class=\"dataframe\">\n",
              "  <thead>\n",
              "    <tr style=\"text-align: right;\">\n",
              "      <th></th>\n",
              "      <th>id</th>\n",
              "      <th>vendor_id</th>\n",
              "      <th>pickup_datetime</th>\n",
              "      <th>dropoff_datetime</th>\n",
              "      <th>passenger_count</th>\n",
              "      <th>pickup_longitude</th>\n",
              "      <th>pickup_latitude</th>\n",
              "      <th>dropoff_longitude</th>\n",
              "      <th>dropoff_latitude</th>\n",
              "      <th>store_and_fwd_flag</th>\n",
              "      <th>trip_duration</th>\n",
              "    </tr>\n",
              "  </thead>\n",
              "  <tbody>\n",
              "    <tr>\n",
              "      <th>0</th>\n",
              "      <td>id2875421</td>\n",
              "      <td>2</td>\n",
              "      <td>2016-03-14 17:24:55</td>\n",
              "      <td>2016-03-14 17:32:30</td>\n",
              "      <td>1</td>\n",
              "      <td>-73.982155</td>\n",
              "      <td>40.767937</td>\n",
              "      <td>-73.964630</td>\n",
              "      <td>40.765602</td>\n",
              "      <td>N</td>\n",
              "      <td>455</td>\n",
              "    </tr>\n",
              "    <tr>\n",
              "      <th>1</th>\n",
              "      <td>id2377394</td>\n",
              "      <td>1</td>\n",
              "      <td>2016-06-12 00:43:35</td>\n",
              "      <td>2016-06-12 00:54:38</td>\n",
              "      <td>1</td>\n",
              "      <td>-73.980415</td>\n",
              "      <td>40.738564</td>\n",
              "      <td>-73.999481</td>\n",
              "      <td>40.731152</td>\n",
              "      <td>N</td>\n",
              "      <td>663</td>\n",
              "    </tr>\n",
              "    <tr>\n",
              "      <th>2</th>\n",
              "      <td>id3858529</td>\n",
              "      <td>2</td>\n",
              "      <td>2016-01-19 11:35:24</td>\n",
              "      <td>2016-01-19 12:10:48</td>\n",
              "      <td>1</td>\n",
              "      <td>-73.979027</td>\n",
              "      <td>40.763939</td>\n",
              "      <td>-74.005333</td>\n",
              "      <td>40.710087</td>\n",
              "      <td>N</td>\n",
              "      <td>2124</td>\n",
              "    </tr>\n",
              "    <tr>\n",
              "      <th>3</th>\n",
              "      <td>id3504673</td>\n",
              "      <td>2</td>\n",
              "      <td>2016-04-06 19:32:31</td>\n",
              "      <td>2016-04-06 19:39:40</td>\n",
              "      <td>1</td>\n",
              "      <td>-74.010040</td>\n",
              "      <td>40.719971</td>\n",
              "      <td>-74.012268</td>\n",
              "      <td>40.706718</td>\n",
              "      <td>N</td>\n",
              "      <td>429</td>\n",
              "    </tr>\n",
              "    <tr>\n",
              "      <th>4</th>\n",
              "      <td>id2181028</td>\n",
              "      <td>2</td>\n",
              "      <td>2016-03-26 13:30:55</td>\n",
              "      <td>2016-03-26 13:38:10</td>\n",
              "      <td>1</td>\n",
              "      <td>-73.973053</td>\n",
              "      <td>40.793209</td>\n",
              "      <td>-73.972923</td>\n",
              "      <td>40.782520</td>\n",
              "      <td>N</td>\n",
              "      <td>435</td>\n",
              "    </tr>\n",
              "  </tbody>\n",
              "</table>\n",
              "</div>"
            ],
            "text/plain": [
              "          id  vendor_id  ... store_and_fwd_flag trip_duration\n",
              "0  id2875421          2  ...                  N           455\n",
              "1  id2377394          1  ...                  N           663\n",
              "2  id3858529          2  ...                  N          2124\n",
              "3  id3504673          2  ...                  N           429\n",
              "4  id2181028          2  ...                  N           435\n",
              "\n",
              "[5 rows x 11 columns]"
            ]
          },
          "metadata": {
            "tags": []
          },
          "execution_count": 14
        }
      ]
    },
    {
      "cell_type": "code",
      "metadata": {
        "colab": {
          "base_uri": "https://localhost:8080/"
        },
        "id": "l_1WomhUhJaV",
        "outputId": "4924a8d8-5d89-4e70-c45a-6148d09fab93"
      },
      "source": [
        "df.info()"
      ],
      "execution_count": 15,
      "outputs": [
        {
          "output_type": "stream",
          "text": [
            "<class 'pandas.core.frame.DataFrame'>\n",
            "RangeIndex: 1458644 entries, 0 to 1458643\n",
            "Data columns (total 11 columns):\n",
            " #   Column              Non-Null Count    Dtype  \n",
            "---  ------              --------------    -----  \n",
            " 0   id                  1458644 non-null  object \n",
            " 1   vendor_id           1458644 non-null  int64  \n",
            " 2   pickup_datetime     1458644 non-null  object \n",
            " 3   dropoff_datetime    1458644 non-null  object \n",
            " 4   passenger_count     1458644 non-null  int64  \n",
            " 5   pickup_longitude    1458644 non-null  float64\n",
            " 6   pickup_latitude     1458644 non-null  float64\n",
            " 7   dropoff_longitude   1458644 non-null  float64\n",
            " 8   dropoff_latitude    1458644 non-null  float64\n",
            " 9   store_and_fwd_flag  1458644 non-null  object \n",
            " 10  trip_duration       1458644 non-null  int64  \n",
            "dtypes: float64(4), int64(3), object(4)\n",
            "memory usage: 122.4+ MB\n"
          ],
          "name": "stdout"
        }
      ]
    },
    {
      "cell_type": "code",
      "metadata": {
        "colab": {
          "base_uri": "https://localhost:8080/",
          "height": 288
        },
        "id": "64ptKdzNhKwD",
        "outputId": "5a6d54bc-7e2f-4f74-8ff3-abbd1c2fedf7"
      },
      "source": [
        "df.describe()"
      ],
      "execution_count": 16,
      "outputs": [
        {
          "output_type": "execute_result",
          "data": {
            "text/html": [
              "<div>\n",
              "<style scoped>\n",
              "    .dataframe tbody tr th:only-of-type {\n",
              "        vertical-align: middle;\n",
              "    }\n",
              "\n",
              "    .dataframe tbody tr th {\n",
              "        vertical-align: top;\n",
              "    }\n",
              "\n",
              "    .dataframe thead th {\n",
              "        text-align: right;\n",
              "    }\n",
              "</style>\n",
              "<table border=\"1\" class=\"dataframe\">\n",
              "  <thead>\n",
              "    <tr style=\"text-align: right;\">\n",
              "      <th></th>\n",
              "      <th>vendor_id</th>\n",
              "      <th>passenger_count</th>\n",
              "      <th>pickup_longitude</th>\n",
              "      <th>pickup_latitude</th>\n",
              "      <th>dropoff_longitude</th>\n",
              "      <th>dropoff_latitude</th>\n",
              "      <th>trip_duration</th>\n",
              "    </tr>\n",
              "  </thead>\n",
              "  <tbody>\n",
              "    <tr>\n",
              "      <th>count</th>\n",
              "      <td>1.458644e+06</td>\n",
              "      <td>1.458644e+06</td>\n",
              "      <td>1.458644e+06</td>\n",
              "      <td>1.458644e+06</td>\n",
              "      <td>1.458644e+06</td>\n",
              "      <td>1.458644e+06</td>\n",
              "      <td>1.458644e+06</td>\n",
              "    </tr>\n",
              "    <tr>\n",
              "      <th>mean</th>\n",
              "      <td>1.534950e+00</td>\n",
              "      <td>1.664530e+00</td>\n",
              "      <td>-7.397349e+01</td>\n",
              "      <td>4.075092e+01</td>\n",
              "      <td>-7.397342e+01</td>\n",
              "      <td>4.075180e+01</td>\n",
              "      <td>9.594923e+02</td>\n",
              "    </tr>\n",
              "    <tr>\n",
              "      <th>std</th>\n",
              "      <td>4.987772e-01</td>\n",
              "      <td>1.314242e+00</td>\n",
              "      <td>7.090186e-02</td>\n",
              "      <td>3.288119e-02</td>\n",
              "      <td>7.064327e-02</td>\n",
              "      <td>3.589056e-02</td>\n",
              "      <td>5.237432e+03</td>\n",
              "    </tr>\n",
              "    <tr>\n",
              "      <th>min</th>\n",
              "      <td>1.000000e+00</td>\n",
              "      <td>0.000000e+00</td>\n",
              "      <td>-1.219333e+02</td>\n",
              "      <td>3.435970e+01</td>\n",
              "      <td>-1.219333e+02</td>\n",
              "      <td>3.218114e+01</td>\n",
              "      <td>1.000000e+00</td>\n",
              "    </tr>\n",
              "    <tr>\n",
              "      <th>25%</th>\n",
              "      <td>1.000000e+00</td>\n",
              "      <td>1.000000e+00</td>\n",
              "      <td>-7.399187e+01</td>\n",
              "      <td>4.073735e+01</td>\n",
              "      <td>-7.399133e+01</td>\n",
              "      <td>4.073588e+01</td>\n",
              "      <td>3.970000e+02</td>\n",
              "    </tr>\n",
              "    <tr>\n",
              "      <th>50%</th>\n",
              "      <td>2.000000e+00</td>\n",
              "      <td>1.000000e+00</td>\n",
              "      <td>-7.398174e+01</td>\n",
              "      <td>4.075410e+01</td>\n",
              "      <td>-7.397975e+01</td>\n",
              "      <td>4.075452e+01</td>\n",
              "      <td>6.620000e+02</td>\n",
              "    </tr>\n",
              "    <tr>\n",
              "      <th>75%</th>\n",
              "      <td>2.000000e+00</td>\n",
              "      <td>2.000000e+00</td>\n",
              "      <td>-7.396733e+01</td>\n",
              "      <td>4.076836e+01</td>\n",
              "      <td>-7.396301e+01</td>\n",
              "      <td>4.076981e+01</td>\n",
              "      <td>1.075000e+03</td>\n",
              "    </tr>\n",
              "    <tr>\n",
              "      <th>max</th>\n",
              "      <td>2.000000e+00</td>\n",
              "      <td>9.000000e+00</td>\n",
              "      <td>-6.133553e+01</td>\n",
              "      <td>5.188108e+01</td>\n",
              "      <td>-6.133553e+01</td>\n",
              "      <td>4.392103e+01</td>\n",
              "      <td>3.526282e+06</td>\n",
              "    </tr>\n",
              "  </tbody>\n",
              "</table>\n",
              "</div>"
            ],
            "text/plain": [
              "          vendor_id  passenger_count  ...  dropoff_latitude  trip_duration\n",
              "count  1.458644e+06     1.458644e+06  ...      1.458644e+06   1.458644e+06\n",
              "mean   1.534950e+00     1.664530e+00  ...      4.075180e+01   9.594923e+02\n",
              "std    4.987772e-01     1.314242e+00  ...      3.589056e-02   5.237432e+03\n",
              "min    1.000000e+00     0.000000e+00  ...      3.218114e+01   1.000000e+00\n",
              "25%    1.000000e+00     1.000000e+00  ...      4.073588e+01   3.970000e+02\n",
              "50%    2.000000e+00     1.000000e+00  ...      4.075452e+01   6.620000e+02\n",
              "75%    2.000000e+00     2.000000e+00  ...      4.076981e+01   1.075000e+03\n",
              "max    2.000000e+00     9.000000e+00  ...      4.392103e+01   3.526282e+06\n",
              "\n",
              "[8 rows x 7 columns]"
            ]
          },
          "metadata": {
            "tags": []
          },
          "execution_count": 16
        }
      ]
    },
    {
      "cell_type": "code",
      "metadata": {
        "colab": {
          "base_uri": "https://localhost:8080/"
        },
        "id": "s9OqK24yhNlS",
        "outputId": "2fa8489a-fa92-449b-ed12-769204937028"
      },
      "source": [
        "df['trip_duration'].value_counts()"
      ],
      "execution_count": 17,
      "outputs": [
        {
          "output_type": "execute_result",
          "data": {
            "text/plain": [
              "368      1624\n",
              "408      1584\n",
              "348      1582\n",
              "367      1581\n",
              "358      1577\n",
              "         ... \n",
              "85305       1\n",
              "83256       1\n",
              "83884       1\n",
              "6419        1\n",
              "8522        1\n",
              "Name: trip_duration, Length: 7417, dtype: int64"
            ]
          },
          "metadata": {
            "tags": []
          },
          "execution_count": 17
        }
      ]
    },
    {
      "cell_type": "code",
      "metadata": {
        "colab": {
          "base_uri": "https://localhost:8080/"
        },
        "id": "YnmhTEFWhTTE",
        "outputId": "10086952-7e2e-4845-d4df-4b6701b14388"
      },
      "source": [
        "df['passenger_count'].value_counts()"
      ],
      "execution_count": 18,
      "outputs": [
        {
          "output_type": "execute_result",
          "data": {
            "text/plain": [
              "1    1033540\n",
              "2     210318\n",
              "5      78088\n",
              "3      59896\n",
              "6      48333\n",
              "4      28404\n",
              "0         60\n",
              "7          3\n",
              "9          1\n",
              "8          1\n",
              "Name: passenger_count, dtype: int64"
            ]
          },
          "metadata": {
            "tags": []
          },
          "execution_count": 18
        }
      ]
    },
    {
      "cell_type": "code",
      "metadata": {
        "colab": {
          "base_uri": "https://localhost:8080/"
        },
        "id": "mPYqpaNbhaVn",
        "outputId": "08e2344e-8ba9-448a-e2b9-35d75fde7ff1"
      },
      "source": [
        "df['vendor_id'].value_counts()"
      ],
      "execution_count": 19,
      "outputs": [
        {
          "output_type": "execute_result",
          "data": {
            "text/plain": [
              "2    780302\n",
              "1    678342\n",
              "Name: vendor_id, dtype: int64"
            ]
          },
          "metadata": {
            "tags": []
          },
          "execution_count": 19
        }
      ]
    },
    {
      "cell_type": "code",
      "metadata": {
        "colab": {
          "base_uri": "https://localhost:8080/",
          "height": 68
        },
        "id": "F5faniKdhwmS",
        "outputId": "0b76df39-ec7f-4190-ee11-d9ea4b208dad"
      },
      "source": [
        "df[df.duplicated()]"
      ],
      "execution_count": 20,
      "outputs": [
        {
          "output_type": "execute_result",
          "data": {
            "text/html": [
              "<div>\n",
              "<style scoped>\n",
              "    .dataframe tbody tr th:only-of-type {\n",
              "        vertical-align: middle;\n",
              "    }\n",
              "\n",
              "    .dataframe tbody tr th {\n",
              "        vertical-align: top;\n",
              "    }\n",
              "\n",
              "    .dataframe thead th {\n",
              "        text-align: right;\n",
              "    }\n",
              "</style>\n",
              "<table border=\"1\" class=\"dataframe\">\n",
              "  <thead>\n",
              "    <tr style=\"text-align: right;\">\n",
              "      <th></th>\n",
              "      <th>id</th>\n",
              "      <th>vendor_id</th>\n",
              "      <th>pickup_datetime</th>\n",
              "      <th>dropoff_datetime</th>\n",
              "      <th>passenger_count</th>\n",
              "      <th>pickup_longitude</th>\n",
              "      <th>pickup_latitude</th>\n",
              "      <th>dropoff_longitude</th>\n",
              "      <th>dropoff_latitude</th>\n",
              "      <th>store_and_fwd_flag</th>\n",
              "      <th>trip_duration</th>\n",
              "    </tr>\n",
              "  </thead>\n",
              "  <tbody>\n",
              "  </tbody>\n",
              "</table>\n",
              "</div>"
            ],
            "text/plain": [
              "Empty DataFrame\n",
              "Columns: [id, vendor_id, pickup_datetime, dropoff_datetime, passenger_count, pickup_longitude, pickup_latitude, dropoff_longitude, dropoff_latitude, store_and_fwd_flag, trip_duration]\n",
              "Index: []"
            ]
          },
          "metadata": {
            "tags": []
          },
          "execution_count": 20
        }
      ]
    },
    {
      "cell_type": "code",
      "metadata": {
        "colab": {
          "base_uri": "https://localhost:8080/",
          "height": 713
        },
        "id": "3-ncHCrotLXd",
        "outputId": "bd9b839a-4dcf-41cb-d1dd-6fc21ad62854"
      },
      "source": [
        "plt.figure(figsize=(15,10))\r\n",
        "sns.distplot(df['vendor_id'\t],color=\"B\")"
      ],
      "execution_count": 21,
      "outputs": [
        {
          "output_type": "stream",
          "text": [
            "/usr/local/lib/python3.6/dist-packages/seaborn/distributions.py:2551: FutureWarning: `distplot` is a deprecated function and will be removed in a future version. Please adapt your code to use either `displot` (a figure-level function with similar flexibility) or `histplot` (an axes-level function for histograms).\n",
            "  warnings.warn(msg, FutureWarning)\n",
            "/usr/local/lib/python3.6/dist-packages/seaborn/distributions.py:2613: MatplotlibDeprecationWarning: Support for uppercase single-letter colors is deprecated since Matplotlib 3.1 and will be removed in 3.3; please use lowercase instead.\n",
            "  color=hist_color, **hist_kws)\n"
          ],
          "name": "stderr"
        },
        {
          "output_type": "execute_result",
          "data": {
            "text/plain": [
              "<matplotlib.axes._subplots.AxesSubplot at 0x7f282435b668>"
            ]
          },
          "metadata": {
            "tags": []
          },
          "execution_count": 21
        },
        {
          "output_type": "display_data",
          "data": {
            "image/png": "[encoded data removed]",
            "text/plain": [
              "<Figure size 1080x720 with 1 Axes>"
            ]
          },
          "metadata": {
            "tags": [],
            "needs_background": "light"
          }
        }
      ]
    },
    {
      "cell_type": "code",
      "metadata": {
        "colab": {
          "base_uri": "https://localhost:8080/",
          "height": 678
        },
        "id": "6GgaljVTvLsM",
        "outputId": "ab07971f-9bb3-454e-ea68-d8a24ea8eafe"
      },
      "source": [
        "plt.figure(figsize=(15,10))\r\n",
        "sns.distplot(df['passenger_count'\t],color=\"B\")"
      ],
      "execution_count": 22,
      "outputs": [
        {
          "output_type": "stream",
          "text": [
            "/usr/local/lib/python3.6/dist-packages/seaborn/distributions.py:2551: FutureWarning: `distplot` is a deprecated function and will be removed in a future version. Please adapt your code to use either `displot` (a figure-level function with similar flexibility) or `histplot` (an axes-level function for histograms).\n",
            "  warnings.warn(msg, FutureWarning)\n"
          ],
          "name": "stderr"
        },
        {
          "output_type": "execute_result",
          "data": {
            "text/plain": [
              "<matplotlib.axes._subplots.AxesSubplot at 0x7f28242026a0>"
            ]
          },
          "metadata": {
            "tags": []
          },
          "execution_count": 22
        },
        {
          "output_type": "display_data",
          "data": {
            "image/png": "[encoded data removed]",
            "text/plain": [
              "<Figure size 1080x720 with 1 Axes>"
            ]
          },
          "metadata": {
            "tags": [],
            "needs_background": "light"
          }
        }
      ]
    },
    {
      "cell_type": "code",
      "metadata": {
        "colab": {
          "base_uri": "https://localhost:8080/",
          "height": 678
        },
        "id": "IsDSFdvIvLeJ",
        "outputId": "cb2b505c-7ab3-401c-ccc8-52fe24e77581"
      },
      "source": [
        "plt.figure(figsize=(15,10))\r\n",
        "sns.distplot(df['pickup_longitude'\t],color=\"B\")"
      ],
      "execution_count": 23,
      "outputs": [
        {
          "output_type": "stream",
          "text": [
            "/usr/local/lib/python3.6/dist-packages/seaborn/distributions.py:2551: FutureWarning: `distplot` is a deprecated function and will be removed in a future version. Please adapt your code to use either `displot` (a figure-level function with similar flexibility) or `histplot` (an axes-level function for histograms).\n",
            "  warnings.warn(msg, FutureWarning)\n"
          ],
          "name": "stderr"
        },
        {
          "output_type": "execute_result",
          "data": {
            "text/plain": [
              "<matplotlib.axes._subplots.AxesSubplot at 0x7f28209dc278>"
            ]
          },
          "metadata": {
            "tags": []
          },
          "execution_count": 23
        },
        {
          "output_type": "display_data",
          "data": {
            "image/png": "[encoded data removed]",
            "text/plain": [
              "<Figure size 1080x720 with 1 Axes>"
            ]
          },
          "metadata": {
            "tags": [],
            "needs_background": "light"
          }
        }
      ]
    },
    {
      "cell_type": "code",
      "metadata": {
        "colab": {
          "base_uri": "https://localhost:8080/",
          "height": 678
        },
        "id": "C_D0kSYEvRid",
        "outputId": "52d7be4d-a075-4f32-f293-8606ab47a0f1"
      },
      "source": [
        "plt.figure(figsize=(15,10))\r\n",
        "sns.distplot(df['pickup_latitude'\t],color=\"B\")"
      ],
      "execution_count": 24,
      "outputs": [
        {
          "output_type": "stream",
          "text": [
            "/usr/local/lib/python3.6/dist-packages/seaborn/distributions.py:2551: FutureWarning: `distplot` is a deprecated function and will be removed in a future version. Please adapt your code to use either `displot` (a figure-level function with similar flexibility) or `histplot` (an axes-level function for histograms).\n",
            "  warnings.warn(msg, FutureWarning)\n"
          ],
          "name": "stderr"
        },
        {
          "output_type": "execute_result",
          "data": {
            "text/plain": [
              "<matplotlib.axes._subplots.AxesSubplot at 0x7f28209aab70>"
            ]
          },
          "metadata": {
            "tags": []
          },
          "execution_count": 24
        },
        {
          "output_type": "display_data",
          "data": {
            "image/png": "[encoded data removed]",
            "text/plain": [
              "<Figure size 1080x720 with 1 Axes>"
            ]
          },
          "metadata": {
            "tags": [],
            "needs_background": "light"
          }
        }
      ]
    },
    {
      "cell_type": "code",
      "metadata": {
        "colab": {
          "base_uri": "https://localhost:8080/",
          "height": 678
        },
        "id": "1TJkNqPWvUZ9",
        "outputId": "a324e76e-1199-4d51-c189-c7aa678745d3"
      },
      "source": [
        "plt.figure(figsize=(15,10))\r\n",
        "sns.distplot(df['dropoff_longitude'\t],color=\"B\")"
      ],
      "execution_count": 25,
      "outputs": [
        {
          "output_type": "stream",
          "text": [
            "/usr/local/lib/python3.6/dist-packages/seaborn/distributions.py:2551: FutureWarning: `distplot` is a deprecated function and will be removed in a future version. Please adapt your code to use either `displot` (a figure-level function with similar flexibility) or `histplot` (an axes-level function for histograms).\n",
            "  warnings.warn(msg, FutureWarning)\n"
          ],
          "name": "stderr"
        },
        {
          "output_type": "execute_result",
          "data": {
            "text/plain": [
              "<matplotlib.axes._subplots.AxesSubplot at 0x7f28207edf98>"
            ]
          },
          "metadata": {
            "tags": []
          },
          "execution_count": 25
        },
        {
          "output_type": "display_data",
          "data": {
            "image/png": "[encoded data removed]",
            "text/plain": [
              "<Figure size 1080x720 with 1 Axes>"
            ]
          },
          "metadata": {
            "tags": [],
            "needs_background": "light"
          }
        }
      ]
    },
    {
      "cell_type": "code",
      "metadata": {
        "colab": {
          "base_uri": "https://localhost:8080/",
          "height": 678
        },
        "id": "98QqIFlavV_O",
        "outputId": "13933373-44ad-4deb-d4f3-9f5163f60f9c"
      },
      "source": [
        "plt.figure(figsize=(15,10))\r\n",
        "sns.distplot(df['dropoff_latitude'\t],color=\"B\")"
      ],
      "execution_count": 26,
      "outputs": [
        {
          "output_type": "stream",
          "text": [
            "/usr/local/lib/python3.6/dist-packages/seaborn/distributions.py:2551: FutureWarning: `distplot` is a deprecated function and will be removed in a future version. Please adapt your code to use either `displot` (a figure-level function with similar flexibility) or `histplot` (an axes-level function for histograms).\n",
            "  warnings.warn(msg, FutureWarning)\n"
          ],
          "name": "stderr"
        },
        {
          "output_type": "execute_result",
          "data": {
            "text/plain": [
              "<matplotlib.axes._subplots.AxesSubplot at 0x7f28207a4358>"
            ]
          },
          "metadata": {
            "tags": []
          },
          "execution_count": 26
        },
        {
          "output_type": "display_data",
          "data": {
            "image/png": "[encoded data removed]",
            "text/plain": [
              "<Figure size 1080x720 with 1 Axes>"
            ]
          },
          "metadata": {
            "tags": [],
            "needs_background": "light"
          }
        }
      ]
    },
    {
      "cell_type": "code",
      "metadata": {
        "colab": {
          "base_uri": "https://localhost:8080/",
          "height": 689
        },
        "id": "qYYyHmDXuuxF",
        "outputId": "d5a12cbc-80f5-46bc-e798-2c359d5abe8b"
      },
      "source": [
        "plt.figure(figsize=(15,10))\r\n",
        "sns.distplot(df['trip_duration'\t],color=\"B\")"
      ],
      "execution_count": 27,
      "outputs": [
        {
          "output_type": "stream",
          "text": [
            "/usr/local/lib/python3.6/dist-packages/seaborn/distributions.py:2551: FutureWarning: `distplot` is a deprecated function and will be removed in a future version. Please adapt your code to use either `displot` (a figure-level function with similar flexibility) or `histplot` (an axes-level function for histograms).\n",
            "  warnings.warn(msg, FutureWarning)\n"
          ],
          "name": "stderr"
        },
        {
          "output_type": "execute_result",
          "data": {
            "text/plain": [
              "<matplotlib.axes._subplots.AxesSubplot at 0x7f28205ce7b8>"
            ]
          },
          "metadata": {
            "tags": []
          },
          "execution_count": 27
        },
        {
          "output_type": "display_data",
          "data": {
            "image/png": "[encoded data removed]",
            "text/plain": [
              "<Figure size 1080x720 with 1 Axes>"
            ]
          },
          "metadata": {
            "tags": [],
            "needs_background": "light"
          }
        }
      ]
    },
    {
      "cell_type": "markdown",
      "metadata": {
        "id": "1YiZaq7Cx6m-"
      },
      "source": [
        "##Making new features"
      ]
    },
    {
      "cell_type": "code",
      "metadata": {
        "id": "eEmai_4jwHsK"
      },
      "source": [
        "from math import sin, cos, sqrt, atan2, radians\r\n",
        "\r\n",
        "def get_distance(lon_1, lon_2, lat_1, lat_2):\r\n",
        "\r\n",
        "    # approximate radius of earth in km\r\n",
        "    R = 6373.0\r\n",
        "\r\n",
        "    lat1 = radians(lat_1)\r\n",
        "    lon1 = radians(lon_1)\r\n",
        "    lat2 = radians(lat_2)\r\n",
        "    lon2 = radians(lon_2)\r\n",
        "\r\n",
        "    dlon = lon2 - lon1\r\n",
        "    dlat = lat2 - lat1\r\n",
        "\r\n",
        "    a = sin(dlat / 2)**2 + cos(lat1) * cos(lat2) * sin(dlon / 2)**2\r\n",
        "    c = 2 * atan2(sqrt(a), sqrt(1 - a))\r\n",
        "\r\n",
        "    distance = R * c\r\n",
        "\r\n",
        "    return distance"
      ],
      "execution_count": 28,
      "outputs": []
    },
    {
      "cell_type": "code",
      "metadata": {
        "id": "Zd9PXPtYwK1r"
      },
      "source": [
        "df[\"Travel_distance\"] = df.apply(lambda x: get_distance(x[\"pickup_longitude\"],x[\"dropoff_longitude\"],x[\"pickup_latitude\"],x[\"dropoff_latitude\"]),axis=1)"
      ],
      "execution_count": 29,
      "outputs": []
    },
    {
      "cell_type": "code",
      "metadata": {
        "id": "oOXOcQjXwVMo"
      },
      "source": [
        "df[\"pickup_datetime\"] = pd.to_datetime(df[\"pickup_datetime\"], format=\"%Y-%m-%d %H:%M:%S\")"
      ],
      "execution_count": 30,
      "outputs": []
    },
    {
      "cell_type": "code",
      "metadata": {
        "id": "i26p3wCFw1vU"
      },
      "source": [
        "df['Day']=df['pickup_datetime'].dt.day_name()"
      ],
      "execution_count": 31,
      "outputs": []
    },
    {
      "cell_type": "code",
      "metadata": {
        "id": "0tjfBfJQw6Nc"
      },
      "source": [
        "df[\"pick_year\"] = df[\"pickup_datetime\"].apply(lambda x: x.year)\r\n",
        "df[\"pick_month\"] = df[\"pickup_datetime\"].apply(lambda x: x.month)\r\n",
        "df[\"pick_day_num\"] = df[\"pickup_datetime\"].apply(lambda x: x.day)\r\n",
        "df[\"pick_hour\"] = df[\"pickup_datetime\"].apply(lambda x: x.hour)\r\n",
        "df[\"pick_minute\"] = df[\"pickup_datetime\"].apply(lambda x: x.minute)"
      ],
      "execution_count": 32,
      "outputs": []
    },
    {
      "cell_type": "code",
      "metadata": {
        "id": "FCi1lvsILDUD"
      },
      "source": [
        "df[\"dropoff_datetime\"] = pd.to_datetime(df[\"pickup_datetime\"], format=\"%Y-%m-%d %H:%M:%S\")\r\n",
        "df[\"drop_year\"] = df[\"dropoff_datetime\"].apply(lambda x: x.year)\r\n",
        "df[\"drop_month\"] = df[\"dropoff_datetime\"].apply(lambda x: x.month)\r\n",
        "df[\"drop_day_num\"] = df[\"dropoff_datetime\"].apply(lambda x: x.day)\r\n",
        "df[\"drop_hour\"] = df[\"dropoff_datetime\"].apply(lambda x: x.hour)\r\n",
        "df[\"drop_minute\"] = df[\"dropoff_datetime\"].apply(lambda x: x.minute)"
      ],
      "execution_count": 33,
      "outputs": []
    },
    {
      "cell_type": "code",
      "metadata": {
        "id": "VggBKompLJKt"
      },
      "source": [
        "df['pick_Day']=df['pickup_datetime'].dt.day_name()"
      ],
      "execution_count": 34,
      "outputs": []
    },
    {
      "cell_type": "code",
      "metadata": {
        "colab": {
          "base_uri": "https://localhost:8080/",
          "height": 305
        },
        "id": "HXsq4Udyxzwg",
        "outputId": "5e9418e4-1e89-462d-8a7b-76d3cea33f1c"
      },
      "source": [
        "df.head()"
      ],
      "execution_count": 35,
      "outputs": [
        {
          "output_type": "execute_result",
          "data": {
            "text/html": [
              "<div>\n",
              "<style scoped>\n",
              "    .dataframe tbody tr th:only-of-type {\n",
              "        vertical-align: middle;\n",
              "    }\n",
              "\n",
              "    .dataframe tbody tr th {\n",
              "        vertical-align: top;\n",
              "    }\n",
              "\n",
              "    .dataframe thead th {\n",
              "        text-align: right;\n",
              "    }\n",
              "</style>\n",
              "<table border=\"1\" class=\"dataframe\">\n",
              "  <thead>\n",
              "    <tr style=\"text-align: right;\">\n",
              "      <th></th>\n",
              "      <th>id</th>\n",
              "      <th>vendor_id</th>\n",
              "      <th>pickup_datetime</th>\n",
              "      <th>dropoff_datetime</th>\n",
              "      <th>passenger_count</th>\n",
              "      <th>pickup_longitude</th>\n",
              "      <th>pickup_latitude</th>\n",
              "      <th>dropoff_longitude</th>\n",
              "      <th>dropoff_latitude</th>\n",
              "      <th>store_and_fwd_flag</th>\n",
              "      <th>trip_duration</th>\n",
              "      <th>Travel_distance</th>\n",
              "      <th>Day</th>\n",
              "      <th>pick_year</th>\n",
              "      <th>pick_month</th>\n",
              "      <th>pick_day_num</th>\n",
              "      <th>pick_hour</th>\n",
              "      <th>pick_minute</th>\n",
              "      <th>drop_year</th>\n",
              "      <th>drop_month</th>\n",
              "      <th>drop_day_num</th>\n",
              "      <th>drop_hour</th>\n",
              "      <th>drop_minute</th>\n",
              "      <th>pick_Day</th>\n",
              "    </tr>\n",
              "  </thead>\n",
              "  <tbody>\n",
              "    <tr>\n",
              "      <th>0</th>\n",
              "      <td>id2875421</td>\n",
              "      <td>2</td>\n",
              "      <td>2016-03-14 17:24:55</td>\n",
              "      <td>2016-03-14 17:24:55</td>\n",
              "      <td>1</td>\n",
              "      <td>-73.982155</td>\n",
              "      <td>40.767937</td>\n",
              "      <td>-73.964630</td>\n",
              "      <td>40.765602</td>\n",
              "      <td>N</td>\n",
              "      <td>455</td>\n",
              "      <td>1.498991</td>\n",
              "      <td>Monday</td>\n",
              "      <td>2016</td>\n",
              "      <td>3</td>\n",
              "      <td>14</td>\n",
              "      <td>17</td>\n",
              "      <td>24</td>\n",
              "      <td>2016</td>\n",
              "      <td>3</td>\n",
              "      <td>14</td>\n",
              "      <td>17</td>\n",
              "      <td>24</td>\n",
              "      <td>Monday</td>\n",
              "    </tr>\n",
              "    <tr>\n",
              "      <th>1</th>\n",
              "      <td>id2377394</td>\n",
              "      <td>1</td>\n",
              "      <td>2016-06-12 00:43:35</td>\n",
              "      <td>2016-06-12 00:43:35</td>\n",
              "      <td>1</td>\n",
              "      <td>-73.980415</td>\n",
              "      <td>40.738564</td>\n",
              "      <td>-73.999481</td>\n",
              "      <td>40.731152</td>\n",
              "      <td>N</td>\n",
              "      <td>663</td>\n",
              "      <td>1.806074</td>\n",
              "      <td>Sunday</td>\n",
              "      <td>2016</td>\n",
              "      <td>6</td>\n",
              "      <td>12</td>\n",
              "      <td>0</td>\n",
              "      <td>43</td>\n",
              "      <td>2016</td>\n",
              "      <td>6</td>\n",
              "      <td>12</td>\n",
              "      <td>0</td>\n",
              "      <td>43</td>\n",
              "      <td>Sunday</td>\n",
              "    </tr>\n",
              "    <tr>\n",
              "      <th>2</th>\n",
              "      <td>id3858529</td>\n",
              "      <td>2</td>\n",
              "      <td>2016-01-19 11:35:24</td>\n",
              "      <td>2016-01-19 11:35:24</td>\n",
              "      <td>1</td>\n",
              "      <td>-73.979027</td>\n",
              "      <td>40.763939</td>\n",
              "      <td>-74.005333</td>\n",
              "      <td>40.710087</td>\n",
              "      <td>N</td>\n",
              "      <td>2124</td>\n",
              "      <td>6.387103</td>\n",
              "      <td>Tuesday</td>\n",
              "      <td>2016</td>\n",
              "      <td>1</td>\n",
              "      <td>19</td>\n",
              "      <td>11</td>\n",
              "      <td>35</td>\n",
              "      <td>2016</td>\n",
              "      <td>1</td>\n",
              "      <td>19</td>\n",
              "      <td>11</td>\n",
              "      <td>35</td>\n",
              "      <td>Tuesday</td>\n",
              "    </tr>\n",
              "    <tr>\n",
              "      <th>3</th>\n",
              "      <td>id3504673</td>\n",
              "      <td>2</td>\n",
              "      <td>2016-04-06 19:32:31</td>\n",
              "      <td>2016-04-06 19:32:31</td>\n",
              "      <td>1</td>\n",
              "      <td>-74.010040</td>\n",
              "      <td>40.719971</td>\n",
              "      <td>-74.012268</td>\n",
              "      <td>40.706718</td>\n",
              "      <td>N</td>\n",
              "      <td>429</td>\n",
              "      <td>1.485965</td>\n",
              "      <td>Wednesday</td>\n",
              "      <td>2016</td>\n",
              "      <td>4</td>\n",
              "      <td>6</td>\n",
              "      <td>19</td>\n",
              "      <td>32</td>\n",
              "      <td>2016</td>\n",
              "      <td>4</td>\n",
              "      <td>6</td>\n",
              "      <td>19</td>\n",
              "      <td>32</td>\n",
              "      <td>Wednesday</td>\n",
              "    </tr>\n",
              "    <tr>\n",
              "      <th>4</th>\n",
              "      <td>id2181028</td>\n",
              "      <td>2</td>\n",
              "      <td>2016-03-26 13:30:55</td>\n",
              "      <td>2016-03-26 13:30:55</td>\n",
              "      <td>1</td>\n",
              "      <td>-73.973053</td>\n",
              "      <td>40.793209</td>\n",
              "      <td>-73.972923</td>\n",
              "      <td>40.782520</td>\n",
              "      <td>N</td>\n",
              "      <td>435</td>\n",
              "      <td>1.188962</td>\n",
              "      <td>Saturday</td>\n",
              "      <td>2016</td>\n",
              "      <td>3</td>\n",
              "      <td>26</td>\n",
              "      <td>13</td>\n",
              "      <td>30</td>\n",
              "      <td>2016</td>\n",
              "      <td>3</td>\n",
              "      <td>26</td>\n",
              "      <td>13</td>\n",
              "      <td>30</td>\n",
              "      <td>Saturday</td>\n",
              "    </tr>\n",
              "  </tbody>\n",
              "</table>\n",
              "</div>"
            ],
            "text/plain": [
              "          id  vendor_id     pickup_datetime  ... drop_hour  drop_minute   pick_Day\n",
              "0  id2875421          2 2016-03-14 17:24:55  ...        17           24     Monday\n",
              "1  id2377394          1 2016-06-12 00:43:35  ...         0           43     Sunday\n",
              "2  id3858529          2 2016-01-19 11:35:24  ...        11           35    Tuesday\n",
              "3  id3504673          2 2016-04-06 19:32:31  ...        19           32  Wednesday\n",
              "4  id2181028          2 2016-03-26 13:30:55  ...        13           30   Saturday\n",
              "\n",
              "[5 rows x 24 columns]"
            ]
          },
          "metadata": {
            "tags": []
          },
          "execution_count": 35
        }
      ]
    },
    {
      "cell_type": "code",
      "metadata": {
        "colab": {
          "base_uri": "https://localhost:8080/"
        },
        "id": "QjrriUwbx1FM",
        "outputId": "4595c7bb-0d72-4863-c681-bc205d9cd69f"
      },
      "source": [
        "df['pick_month'].value_counts()"
      ],
      "execution_count": 36,
      "outputs": [
        {
          "output_type": "execute_result",
          "data": {
            "text/plain": [
              "3    256189\n",
              "4    251645\n",
              "5    248487\n",
              "2    238300\n",
              "6    234316\n",
              "1    229707\n",
              "Name: pick_month, dtype: int64"
            ]
          },
          "metadata": {
            "tags": []
          },
          "execution_count": 36
        }
      ]
    },
    {
      "cell_type": "code",
      "metadata": {
        "colab": {
          "base_uri": "https://localhost:8080/"
        },
        "id": "BObraDDpyD3g",
        "outputId": "08d36381-c16d-4728-b7e6-08b33dfd987c"
      },
      "source": [
        "df['pick_hour'].value_counts()"
      ],
      "execution_count": 37,
      "outputs": [
        {
          "output_type": "execute_result",
          "data": {
            "text/plain": [
              "18    90600\n",
              "19    90308\n",
              "21    84185\n",
              "20    84072\n",
              "22    80492\n",
              "17    76483\n",
              "14    74292\n",
              "12    71873\n",
              "15    71811\n",
              "13    71473\n",
              "23    69785\n",
              "11    68476\n",
              "9     67663\n",
              "8     67053\n",
              "10    65437\n",
              "16    64313\n",
              "7     55600\n",
              "0     53248\n",
              "1     38571\n",
              "6     33248\n",
              "2     27972\n",
              "3     20895\n",
              "4     15792\n",
              "5     15002\n",
              "Name: pick_hour, dtype: int64"
            ]
          },
          "metadata": {
            "tags": []
          },
          "execution_count": 37
        }
      ]
    },
    {
      "cell_type": "code",
      "metadata": {
        "colab": {
          "base_uri": "https://localhost:8080/"
        },
        "id": "Wb5cEwYLyPQG",
        "outputId": "a9b591a8-f5e7-4479-e5dd-b79d384bbc92"
      },
      "source": [
        "df['Day'].value_counts()"
      ],
      "execution_count": 38,
      "outputs": [
        {
          "output_type": "execute_result",
          "data": {
            "text/plain": [
              "Friday       223533\n",
              "Saturday     220868\n",
              "Thursday     218574\n",
              "Wednesday    210136\n",
              "Tuesday      202749\n",
              "Sunday       195366\n",
              "Monday       187418\n",
              "Name: Day, dtype: int64"
            ]
          },
          "metadata": {
            "tags": []
          },
          "execution_count": 38
        }
      ]
    },
    {
      "cell_type": "code",
      "metadata": {
        "id": "xkOd7Vzny0eB",
        "colab": {
          "base_uri": "https://localhost:8080/",
          "height": 515
        },
        "outputId": "e23f29ce-d858-4952-f067-677c5f234ec0"
      },
      "source": [
        "vendor_df=df['vendor_id'].value_counts().reset_index()\r\n",
        "plt.figure(figsize=(13,8))\r\n",
        "sns.barplot(x='index',y='vendor_id',data=vendor_df)"
      ],
      "execution_count": 39,
      "outputs": [
        {
          "output_type": "execute_result",
          "data": {
            "text/plain": [
              "<matplotlib.axes._subplots.AxesSubplot at 0x7f2815d56f28>"
            ]
          },
          "metadata": {
            "tags": []
          },
          "execution_count": 39
        },
        {
          "output_type": "display_data",
          "data": {
            "image/png": "[encoded data removed]",
            "text/plain": [
              "<Figure size 936x576 with 1 Axes>"
            ]
          },
          "metadata": {
            "tags": [],
            "needs_background": "light"
          }
        }
      ]
    },
    {
      "cell_type": "code",
      "metadata": {
        "colab": {
          "base_uri": "https://localhost:8080/",
          "height": 525
        },
        "id": "e98gf6ll-Two",
        "outputId": "c616aaed-56d0-4223-b334-12be14e9bb89"
      },
      "source": [
        "store_and_fwd_flag_df=df['store_and_fwd_flag'].value_counts().reset_index()\r\n",
        "plt.figure(figsize=(13,8))\r\n",
        "sns.barplot(x='index',y='store_and_fwd_flag',data=store_and_fwd_flag_df)"
      ],
      "execution_count": 40,
      "outputs": [
        {
          "output_type": "execute_result",
          "data": {
            "text/plain": [
              "<matplotlib.axes._subplots.AxesSubplot at 0x7f2815d31c50>"
            ]
          },
          "metadata": {
            "tags": []
          },
          "execution_count": 40
        },
        {
          "output_type": "display_data",
          "data": {
            "image/png": "[encoded data removed]",
            "text/plain": [
              "<Figure size 936x576 with 1 Axes>"
            ]
          },
          "metadata": {
            "tags": [],
            "needs_background": "light"
          }
        }
      ]
    },
    {
      "cell_type": "code",
      "metadata": {
        "colab": {
          "base_uri": "https://localhost:8080/",
          "height": 515
        },
        "id": "95XLluth-sPD",
        "outputId": "57433429-ff56-4cd6-840e-4617eee70d94"
      },
      "source": [
        "Day_df=df['Day'].value_counts().reset_index()\r\n",
        "plt.figure(figsize=(13,8))\r\n",
        "sns.barplot(x='index',y='Day',data=Day_df)"
      ],
      "execution_count": 41,
      "outputs": [
        {
          "output_type": "execute_result",
          "data": {
            "text/plain": [
              "<matplotlib.axes._subplots.AxesSubplot at 0x7f2820529358>"
            ]
          },
          "metadata": {
            "tags": []
          },
          "execution_count": 41
        },
        {
          "output_type": "display_data",
          "data": {
            "image/png": "[encoded data removed]",
            "text/plain": [
              "<Figure size 936x576 with 1 Axes>"
            ]
          },
          "metadata": {
            "tags": [],
            "needs_background": "light"
          }
        }
      ]
    },
    {
      "cell_type": "code",
      "metadata": {
        "colab": {
          "base_uri": "https://localhost:8080/",
          "height": 515
        },
        "id": "bxM4Sr7F-7eA",
        "outputId": "dfc8e8dd-4f24-40f6-df0a-4989f592557f"
      },
      "source": [
        "month_df=df['pick_month'].value_counts().reset_index()\r\n",
        "plt.figure(figsize=(13,8))\r\n",
        "sns.barplot(x='index',y='pick_month',data=month_df)"
      ],
      "execution_count": 42,
      "outputs": [
        {
          "output_type": "execute_result",
          "data": {
            "text/plain": [
              "<matplotlib.axes._subplots.AxesSubplot at 0x7f2815c22518>"
            ]
          },
          "metadata": {
            "tags": []
          },
          "execution_count": 42
        },
        {
          "output_type": "display_data",
          "data": {
            "image/png": "[encoded data removed]",
            "text/plain": [
              "<Figure size 936x576 with 1 Axes>"
            ]
          },
          "metadata": {
            "tags": [],
            "needs_background": "light"
          }
        }
      ]
    },
    {
      "cell_type": "code",
      "metadata": {
        "colab": {
          "base_uri": "https://localhost:8080/",
          "height": 515
        },
        "id": "src4gN1i_Ghs",
        "outputId": "231f652e-0471-4c18-c381-85c49bdbb407"
      },
      "source": [
        "hour_df=df['pick_hour'].value_counts().reset_index()\r\n",
        "plt.figure(figsize=(13,8))\r\n",
        "sns.barplot(x='index',y='pick_hour',data=hour_df)"
      ],
      "execution_count": 43,
      "outputs": [
        {
          "output_type": "execute_result",
          "data": {
            "text/plain": [
              "<matplotlib.axes._subplots.AxesSubplot at 0x7f2815b94978>"
            ]
          },
          "metadata": {
            "tags": []
          },
          "execution_count": 43
        },
        {
          "output_type": "display_data",
          "data": {
            "image/png": "[encoded data removed]",
            "text/plain": [
              "<Figure size 936x576 with 1 Axes>"
            ]
          },
          "metadata": {
            "tags": [],
            "needs_background": "light"
          }
        }
      ]
    },
    {
      "cell_type": "code",
      "metadata": {
        "colab": {
          "base_uri": "https://localhost:8080/",
          "height": 515
        },
        "id": "9-mapuSrRcVg",
        "outputId": "b5ac9879-0f97-426c-8289-358fd7216a03"
      },
      "source": [
        "hour_df=df['drop_hour'].value_counts().reset_index()\r\n",
        "plt.figure(figsize=(13,8))\r\n",
        "sns.barplot(x='index',y='drop_hour',data=hour_df)"
      ],
      "execution_count": 44,
      "outputs": [
        {
          "output_type": "execute_result",
          "data": {
            "text/plain": [
              "<matplotlib.axes._subplots.AxesSubplot at 0x7f2815aa4b70>"
            ]
          },
          "metadata": {
            "tags": []
          },
          "execution_count": 44
        },
        {
          "output_type": "display_data",
          "data": {
            "image/png": "[encoded data removed]",
            "text/plain": [
              "<Figure size 936x576 with 1 Axes>"
            ]
          },
          "metadata": {
            "tags": [],
            "needs_background": "light"
          }
        }
      ]
    },
    {
      "cell_type": "code",
      "metadata": {
        "colab": {
          "base_uri": "https://localhost:8080/",
          "height": 525
        },
        "id": "o61lxviyFXBL",
        "outputId": "522ba80d-5f78-4f05-be55-b96e9a68a8d3"
      },
      "source": [
        "passenger_count_df=df['passenger_count'].value_counts().reset_index()\r\n",
        "plt.figure(figsize=(13,8))\r\n",
        "sns.barplot(x='index',y='passenger_count',data=passenger_count_df)"
      ],
      "execution_count": 45,
      "outputs": [
        {
          "output_type": "execute_result",
          "data": {
            "text/plain": [
              "<matplotlib.axes._subplots.AxesSubplot at 0x7f2815a02400>"
            ]
          },
          "metadata": {
            "tags": []
          },
          "execution_count": 45
        },
        {
          "output_type": "display_data",
          "data": {
            "image/png": "[encoded data removed]",
            "text/plain": [
              "<Figure size 936x576 with 1 Axes>"
            ]
          },
          "metadata": {
            "tags": [],
            "needs_background": "light"
          }
        }
      ]
    },
    {
      "cell_type": "code",
      "metadata": {
        "colab": {
          "base_uri": "https://localhost:8080/"
        },
        "id": "Tc-bTCMK-JbC",
        "outputId": "cebf2c57-50fa-4c81-99c4-93b70ec9674b"
      },
      "source": [
        "df.columns"
      ],
      "execution_count": 46,
      "outputs": [
        {
          "output_type": "execute_result",
          "data": {
            "text/plain": [
              "Index(['id', 'vendor_id', 'pickup_datetime', 'dropoff_datetime',\n",
              "       'passenger_count', 'pickup_longitude', 'pickup_latitude',\n",
              "       'dropoff_longitude', 'dropoff_latitude', 'store_and_fwd_flag',\n",
              "       'trip_duration', 'Travel_distance', 'Day', 'pick_year', 'pick_month',\n",
              "       'pick_day_num', 'pick_hour', 'pick_minute', 'drop_year', 'drop_month',\n",
              "       'drop_day_num', 'drop_hour', 'drop_minute', 'pick_Day'],\n",
              "      dtype='object')"
            ]
          },
          "metadata": {
            "tags": []
          },
          "execution_count": 46
        }
      ]
    },
    {
      "cell_type": "code",
      "metadata": {
        "colab": {
          "base_uri": "https://localhost:8080/",
          "height": 1000
        },
        "id": "az-hf7nB_v_f",
        "outputId": "5919b973-0270-43be-f625-a947d2f2e1f9"
      },
      "source": [
        "box_df = pd.DataFrame(data = df, columns = ['pickup_longitude', 'pickup_latitude',\r\n",
        "       'dropoff_longitude', 'dropoff_latitude',\r\n",
        "       'trip_duration', 'Travel_distance',  \r\n",
        "       ])\r\n",
        "for col in box_df.columns:\r\n",
        "  plt.figure(figsize=(15,8))\r\n",
        "  plt.title(\"Box plot of  distance \")\r\n",
        "  ax = sns.boxplot(data=box_df[col],orient='h')\r\n"
      ],
      "execution_count": 47,
      "outputs": [
        {
          "output_type": "display_data",
          "data": {
            "image/png": "[encoded data removed]",
            "text/plain": [
              "<Figure size 1080x576 with 1 Axes>"
            ]
          },
          "metadata": {
            "tags": [],
            "needs_background": "light"
          }
        },
        {
          "output_type": "display_data",
          "data": {
            "image/png": "[encoded data removed]",
            "text/plain": [
              "<Figure size 1080x576 with 1 Axes>"
            ]
          },
          "metadata": {
            "tags": [],
            "needs_background": "light"
          }
        },
        {
          "output_type": "display_data",
          "data": {
            "image/png": "[encoded data removed]",
            "text/plain": [
              "<Figure size 1080x576 with 1 Axes>"
            ]
          },
          "metadata": {
            "tags": [],
            "needs_background": "light"
          }
        },
        {
          "output_type": "display_data",
          "data": {
            "image/png": "[encoded data removed]",
            "text/plain": [
              "<Figure size 1080x576 with 1 Axes>"
            ]
          },
          "metadata": {
            "tags": [],
            "needs_background": "light"
          }
        },
        {
          "output_type": "display_data",
          "data": {
            "image/png": "[encoded data removed]",
            "text/plain": [
              "<Figure size 1080x576 with 1 Axes>"
            ]
          },
          "metadata": {
            "tags": [],
            "needs_background": "light"
          }
        },
        {
          "output_type": "display_data",
          "data": {
            "image/png": "[encoded data removed]",
            "text/plain": [
              "<Figure size 1080x576 with 1 Axes>"
            ]
          },
          "metadata": {
            "tags": [],
            "needs_background": "light"
          }
        }
      ]
    },
    {
      "cell_type": "code",
      "metadata": {
        "colab": {
          "base_uri": "https://localhost:8080/",
          "height": 308
        },
        "id": "1yX0-GpXCdqT",
        "outputId": "0afc6298-9399-49c4-c8f5-851156fd6b05"
      },
      "source": [
        "df.describe()"
      ],
      "execution_count": 48,
      "outputs": [
        {
          "output_type": "execute_result",
          "data": {
            "text/html": [
              "<div>\n",
              "<style scoped>\n",
              "    .dataframe tbody tr th:only-of-type {\n",
              "        vertical-align: middle;\n",
              "    }\n",
              "\n",
              "    .dataframe tbody tr th {\n",
              "        vertical-align: top;\n",
              "    }\n",
              "\n",
              "    .dataframe thead th {\n",
              "        text-align: right;\n",
              "    }\n",
              "</style>\n",
              "<table border=\"1\" class=\"dataframe\">\n",
              "  <thead>\n",
              "    <tr style=\"text-align: right;\">\n",
              "      <th></th>\n",
              "      <th>vendor_id</th>\n",
              "      <th>passenger_count</th>\n",
              "      <th>pickup_longitude</th>\n",
              "      <th>pickup_latitude</th>\n",
              "      <th>dropoff_longitude</th>\n",
              "      <th>dropoff_latitude</th>\n",
              "      <th>trip_duration</th>\n",
              "      <th>Travel_distance</th>\n",
              "      <th>pick_year</th>\n",
              "      <th>pick_month</th>\n",
              "      <th>pick_day_num</th>\n",
              "      <th>pick_hour</th>\n",
              "      <th>pick_minute</th>\n",
              "      <th>drop_year</th>\n",
              "      <th>drop_month</th>\n",
              "      <th>drop_day_num</th>\n",
              "      <th>drop_hour</th>\n",
              "      <th>drop_minute</th>\n",
              "    </tr>\n",
              "  </thead>\n",
              "  <tbody>\n",
              "    <tr>\n",
              "      <th>count</th>\n",
              "      <td>1.458644e+06</td>\n",
              "      <td>1.458644e+06</td>\n",
              "      <td>1.458644e+06</td>\n",
              "      <td>1.458644e+06</td>\n",
              "      <td>1.458644e+06</td>\n",
              "      <td>1.458644e+06</td>\n",
              "      <td>1.458644e+06</td>\n",
              "      <td>1.458644e+06</td>\n",
              "      <td>1458644.0</td>\n",
              "      <td>1.458644e+06</td>\n",
              "      <td>1.458644e+06</td>\n",
              "      <td>1.458644e+06</td>\n",
              "      <td>1.458644e+06</td>\n",
              "      <td>1458644.0</td>\n",
              "      <td>1.458644e+06</td>\n",
              "      <td>1.458644e+06</td>\n",
              "      <td>1.458644e+06</td>\n",
              "      <td>1.458644e+06</td>\n",
              "    </tr>\n",
              "    <tr>\n",
              "      <th>mean</th>\n",
              "      <td>1.534950e+00</td>\n",
              "      <td>1.664530e+00</td>\n",
              "      <td>-7.397349e+01</td>\n",
              "      <td>4.075092e+01</td>\n",
              "      <td>-7.397342e+01</td>\n",
              "      <td>4.075180e+01</td>\n",
              "      <td>9.594923e+02</td>\n",
              "      <td>3.441944e+00</td>\n",
              "      <td>2016.0</td>\n",
              "      <td>3.516818e+00</td>\n",
              "      <td>1.550402e+01</td>\n",
              "      <td>1.360648e+01</td>\n",
              "      <td>2.959016e+01</td>\n",
              "      <td>2016.0</td>\n",
              "      <td>3.516818e+00</td>\n",
              "      <td>1.550402e+01</td>\n",
              "      <td>1.360648e+01</td>\n",
              "      <td>2.959016e+01</td>\n",
              "    </tr>\n",
              "    <tr>\n",
              "      <th>std</th>\n",
              "      <td>4.987772e-01</td>\n",
              "      <td>1.314242e+00</td>\n",
              "      <td>7.090186e-02</td>\n",
              "      <td>3.288119e-02</td>\n",
              "      <td>7.064327e-02</td>\n",
              "      <td>3.589056e-02</td>\n",
              "      <td>5.237432e+03</td>\n",
              "      <td>4.297887e+00</td>\n",
              "      <td>0.0</td>\n",
              "      <td>1.681038e+00</td>\n",
              "      <td>8.703135e+00</td>\n",
              "      <td>6.399693e+00</td>\n",
              "      <td>1.732471e+01</td>\n",
              "      <td>0.0</td>\n",
              "      <td>1.681038e+00</td>\n",
              "      <td>8.703135e+00</td>\n",
              "      <td>6.399693e+00</td>\n",
              "      <td>1.732471e+01</td>\n",
              "    </tr>\n",
              "    <tr>\n",
              "      <th>min</th>\n",
              "      <td>1.000000e+00</td>\n",
              "      <td>0.000000e+00</td>\n",
              "      <td>-1.219333e+02</td>\n",
              "      <td>3.435970e+01</td>\n",
              "      <td>-1.219333e+02</td>\n",
              "      <td>3.218114e+01</td>\n",
              "      <td>1.000000e+00</td>\n",
              "      <td>0.000000e+00</td>\n",
              "      <td>2016.0</td>\n",
              "      <td>1.000000e+00</td>\n",
              "      <td>1.000000e+00</td>\n",
              "      <td>0.000000e+00</td>\n",
              "      <td>0.000000e+00</td>\n",
              "      <td>2016.0</td>\n",
              "      <td>1.000000e+00</td>\n",
              "      <td>1.000000e+00</td>\n",
              "      <td>0.000000e+00</td>\n",
              "      <td>0.000000e+00</td>\n",
              "    </tr>\n",
              "    <tr>\n",
              "      <th>25%</th>\n",
              "      <td>1.000000e+00</td>\n",
              "      <td>1.000000e+00</td>\n",
              "      <td>-7.399187e+01</td>\n",
              "      <td>4.073735e+01</td>\n",
              "      <td>-7.399133e+01</td>\n",
              "      <td>4.073588e+01</td>\n",
              "      <td>3.970000e+02</td>\n",
              "      <td>1.232223e+00</td>\n",
              "      <td>2016.0</td>\n",
              "      <td>2.000000e+00</td>\n",
              "      <td>8.000000e+00</td>\n",
              "      <td>9.000000e+00</td>\n",
              "      <td>1.500000e+01</td>\n",
              "      <td>2016.0</td>\n",
              "      <td>2.000000e+00</td>\n",
              "      <td>8.000000e+00</td>\n",
              "      <td>9.000000e+00</td>\n",
              "      <td>1.500000e+01</td>\n",
              "    </tr>\n",
              "    <tr>\n",
              "      <th>50%</th>\n",
              "      <td>2.000000e+00</td>\n",
              "      <td>1.000000e+00</td>\n",
              "      <td>-7.398174e+01</td>\n",
              "      <td>4.075410e+01</td>\n",
              "      <td>-7.397975e+01</td>\n",
              "      <td>4.075452e+01</td>\n",
              "      <td>6.620000e+02</td>\n",
              "      <td>2.094374e+00</td>\n",
              "      <td>2016.0</td>\n",
              "      <td>4.000000e+00</td>\n",
              "      <td>1.500000e+01</td>\n",
              "      <td>1.400000e+01</td>\n",
              "      <td>3.000000e+01</td>\n",
              "      <td>2016.0</td>\n",
              "      <td>4.000000e+00</td>\n",
              "      <td>1.500000e+01</td>\n",
              "      <td>1.400000e+01</td>\n",
              "      <td>3.000000e+01</td>\n",
              "    </tr>\n",
              "    <tr>\n",
              "      <th>75%</th>\n",
              "      <td>2.000000e+00</td>\n",
              "      <td>2.000000e+00</td>\n",
              "      <td>-7.396733e+01</td>\n",
              "      <td>4.076836e+01</td>\n",
              "      <td>-7.396301e+01</td>\n",
              "      <td>4.076981e+01</td>\n",
              "      <td>1.075000e+03</td>\n",
              "      <td>3.876554e+00</td>\n",
              "      <td>2016.0</td>\n",
              "      <td>5.000000e+00</td>\n",
              "      <td>2.300000e+01</td>\n",
              "      <td>1.900000e+01</td>\n",
              "      <td>4.500000e+01</td>\n",
              "      <td>2016.0</td>\n",
              "      <td>5.000000e+00</td>\n",
              "      <td>2.300000e+01</td>\n",
              "      <td>1.900000e+01</td>\n",
              "      <td>4.500000e+01</td>\n",
              "    </tr>\n",
              "    <tr>\n",
              "      <th>max</th>\n",
              "      <td>2.000000e+00</td>\n",
              "      <td>9.000000e+00</td>\n",
              "      <td>-6.133553e+01</td>\n",
              "      <td>5.188108e+01</td>\n",
              "      <td>-6.133553e+01</td>\n",
              "      <td>4.392103e+01</td>\n",
              "      <td>3.526282e+06</td>\n",
              "      <td>1.241298e+03</td>\n",
              "      <td>2016.0</td>\n",
              "      <td>6.000000e+00</td>\n",
              "      <td>3.100000e+01</td>\n",
              "      <td>2.300000e+01</td>\n",
              "      <td>5.900000e+01</td>\n",
              "      <td>2016.0</td>\n",
              "      <td>6.000000e+00</td>\n",
              "      <td>3.100000e+01</td>\n",
              "      <td>2.300000e+01</td>\n",
              "      <td>5.900000e+01</td>\n",
              "    </tr>\n",
              "  </tbody>\n",
              "</table>\n",
              "</div>"
            ],
            "text/plain": [
              "          vendor_id  passenger_count  ...     drop_hour   drop_minute\n",
              "count  1.458644e+06     1.458644e+06  ...  1.458644e+06  1.458644e+06\n",
              "mean   1.534950e+00     1.664530e+00  ...  1.360648e+01  2.959016e+01\n",
              "std    4.987772e-01     1.314242e+00  ...  6.399693e+00  1.732471e+01\n",
              "min    1.000000e+00     0.000000e+00  ...  0.000000e+00  0.000000e+00\n",
              "25%    1.000000e+00     1.000000e+00  ...  9.000000e+00  1.500000e+01\n",
              "50%    2.000000e+00     1.000000e+00  ...  1.400000e+01  3.000000e+01\n",
              "75%    2.000000e+00     2.000000e+00  ...  1.900000e+01  4.500000e+01\n",
              "max    2.000000e+00     9.000000e+00  ...  2.300000e+01  5.900000e+01\n",
              "\n",
              "[8 rows x 18 columns]"
            ]
          },
          "metadata": {
            "tags": []
          },
          "execution_count": 48
        }
      ]
    },
    {
      "cell_type": "markdown",
      "metadata": {
        "id": "eZZoQwkNJXZ5"
      },
      "source": [
        "#Remove outliers based on trip duration and travel distance"
      ]
    },
    {
      "cell_type": "code",
      "metadata": {
        "colab": {
          "base_uri": "https://localhost:8080/",
          "height": 308
        },
        "id": "IAMRZEWcORYD",
        "outputId": "e8c2b218-baf4-4fa9-d890-281e716a532f"
      },
      "source": [
        "df.describe()"
      ],
      "execution_count": 49,
      "outputs": [
        {
          "output_type": "execute_result",
          "data": {
            "text/html": [
              "<div>\n",
              "<style scoped>\n",
              "    .dataframe tbody tr th:only-of-type {\n",
              "        vertical-align: middle;\n",
              "    }\n",
              "\n",
              "    .dataframe tbody tr th {\n",
              "        vertical-align: top;\n",
              "    }\n",
              "\n",
              "    .dataframe thead th {\n",
              "        text-align: right;\n",
              "    }\n",
              "</style>\n",
              "<table border=\"1\" class=\"dataframe\">\n",
              "  <thead>\n",
              "    <tr style=\"text-align: right;\">\n",
              "      <th></th>\n",
              "      <th>vendor_id</th>\n",
              "      <th>passenger_count</th>\n",
              "      <th>pickup_longitude</th>\n",
              "      <th>pickup_latitude</th>\n",
              "      <th>dropoff_longitude</th>\n",
              "      <th>dropoff_latitude</th>\n",
              "      <th>trip_duration</th>\n",
              "      <th>Travel_distance</th>\n",
              "      <th>pick_year</th>\n",
              "      <th>pick_month</th>\n",
              "      <th>pick_day_num</th>\n",
              "      <th>pick_hour</th>\n",
              "      <th>pick_minute</th>\n",
              "      <th>drop_year</th>\n",
              "      <th>drop_month</th>\n",
              "      <th>drop_day_num</th>\n",
              "      <th>drop_hour</th>\n",
              "      <th>drop_minute</th>\n",
              "    </tr>\n",
              "  </thead>\n",
              "  <tbody>\n",
              "    <tr>\n",
              "      <th>count</th>\n",
              "      <td>1.458644e+06</td>\n",
              "      <td>1.458644e+06</td>\n",
              "      <td>1.458644e+06</td>\n",
              "      <td>1.458644e+06</td>\n",
              "      <td>1.458644e+06</td>\n",
              "      <td>1.458644e+06</td>\n",
              "      <td>1.458644e+06</td>\n",
              "      <td>1.458644e+06</td>\n",
              "      <td>1458644.0</td>\n",
              "      <td>1.458644e+06</td>\n",
              "      <td>1.458644e+06</td>\n",
              "      <td>1.458644e+06</td>\n",
              "      <td>1.458644e+06</td>\n",
              "      <td>1458644.0</td>\n",
              "      <td>1.458644e+06</td>\n",
              "      <td>1.458644e+06</td>\n",
              "      <td>1.458644e+06</td>\n",
              "      <td>1.458644e+06</td>\n",
              "    </tr>\n",
              "    <tr>\n",
              "      <th>mean</th>\n",
              "      <td>1.534950e+00</td>\n",
              "      <td>1.664530e+00</td>\n",
              "      <td>-7.397349e+01</td>\n",
              "      <td>4.075092e+01</td>\n",
              "      <td>-7.397342e+01</td>\n",
              "      <td>4.075180e+01</td>\n",
              "      <td>9.594923e+02</td>\n",
              "      <td>3.441944e+00</td>\n",
              "      <td>2016.0</td>\n",
              "      <td>3.516818e+00</td>\n",
              "      <td>1.550402e+01</td>\n",
              "      <td>1.360648e+01</td>\n",
              "      <td>2.959016e+01</td>\n",
              "      <td>2016.0</td>\n",
              "      <td>3.516818e+00</td>\n",
              "      <td>1.550402e+01</td>\n",
              "      <td>1.360648e+01</td>\n",
              "      <td>2.959016e+01</td>\n",
              "    </tr>\n",
              "    <tr>\n",
              "      <th>std</th>\n",
              "      <td>4.987772e-01</td>\n",
              "      <td>1.314242e+00</td>\n",
              "      <td>7.090186e-02</td>\n",
              "      <td>3.288119e-02</td>\n",
              "      <td>7.064327e-02</td>\n",
              "      <td>3.589056e-02</td>\n",
              "      <td>5.237432e+03</td>\n",
              "      <td>4.297887e+00</td>\n",
              "      <td>0.0</td>\n",
              "      <td>1.681038e+00</td>\n",
              "      <td>8.703135e+00</td>\n",
              "      <td>6.399693e+00</td>\n",
              "      <td>1.732471e+01</td>\n",
              "      <td>0.0</td>\n",
              "      <td>1.681038e+00</td>\n",
              "      <td>8.703135e+00</td>\n",
              "      <td>6.399693e+00</td>\n",
              "      <td>1.732471e+01</td>\n",
              "    </tr>\n",
              "    <tr>\n",
              "      <th>min</th>\n",
              "      <td>1.000000e+00</td>\n",
              "      <td>0.000000e+00</td>\n",
              "      <td>-1.219333e+02</td>\n",
              "      <td>3.435970e+01</td>\n",
              "      <td>-1.219333e+02</td>\n",
              "      <td>3.218114e+01</td>\n",
              "      <td>1.000000e+00</td>\n",
              "      <td>0.000000e+00</td>\n",
              "      <td>2016.0</td>\n",
              "      <td>1.000000e+00</td>\n",
              "      <td>1.000000e+00</td>\n",
              "      <td>0.000000e+00</td>\n",
              "      <td>0.000000e+00</td>\n",
              "      <td>2016.0</td>\n",
              "      <td>1.000000e+00</td>\n",
              "      <td>1.000000e+00</td>\n",
              "      <td>0.000000e+00</td>\n",
              "      <td>0.000000e+00</td>\n",
              "    </tr>\n",
              "    <tr>\n",
              "      <th>25%</th>\n",
              "      <td>1.000000e+00</td>\n",
              "      <td>1.000000e+00</td>\n",
              "      <td>-7.399187e+01</td>\n",
              "      <td>4.073735e+01</td>\n",
              "      <td>-7.399133e+01</td>\n",
              "      <td>4.073588e+01</td>\n",
              "      <td>3.970000e+02</td>\n",
              "      <td>1.232223e+00</td>\n",
              "      <td>2016.0</td>\n",
              "      <td>2.000000e+00</td>\n",
              "      <td>8.000000e+00</td>\n",
              "      <td>9.000000e+00</td>\n",
              "      <td>1.500000e+01</td>\n",
              "      <td>2016.0</td>\n",
              "      <td>2.000000e+00</td>\n",
              "      <td>8.000000e+00</td>\n",
              "      <td>9.000000e+00</td>\n",
              "      <td>1.500000e+01</td>\n",
              "    </tr>\n",
              "    <tr>\n",
              "      <th>50%</th>\n",
              "      <td>2.000000e+00</td>\n",
              "      <td>1.000000e+00</td>\n",
              "      <td>-7.398174e+01</td>\n",
              "      <td>4.075410e+01</td>\n",
              "      <td>-7.397975e+01</td>\n",
              "      <td>4.075452e+01</td>\n",
              "      <td>6.620000e+02</td>\n",
              "      <td>2.094374e+00</td>\n",
              "      <td>2016.0</td>\n",
              "      <td>4.000000e+00</td>\n",
              "      <td>1.500000e+01</td>\n",
              "      <td>1.400000e+01</td>\n",
              "      <td>3.000000e+01</td>\n",
              "      <td>2016.0</td>\n",
              "      <td>4.000000e+00</td>\n",
              "      <td>1.500000e+01</td>\n",
              "      <td>1.400000e+01</td>\n",
              "      <td>3.000000e+01</td>\n",
              "    </tr>\n",
              "    <tr>\n",
              "      <th>75%</th>\n",
              "      <td>2.000000e+00</td>\n",
              "      <td>2.000000e+00</td>\n",
              "      <td>-7.396733e+01</td>\n",
              "      <td>4.076836e+01</td>\n",
              "      <td>-7.396301e+01</td>\n",
              "      <td>4.076981e+01</td>\n",
              "      <td>1.075000e+03</td>\n",
              "      <td>3.876554e+00</td>\n",
              "      <td>2016.0</td>\n",
              "      <td>5.000000e+00</td>\n",
              "      <td>2.300000e+01</td>\n",
              "      <td>1.900000e+01</td>\n",
              "      <td>4.500000e+01</td>\n",
              "      <td>2016.0</td>\n",
              "      <td>5.000000e+00</td>\n",
              "      <td>2.300000e+01</td>\n",
              "      <td>1.900000e+01</td>\n",
              "      <td>4.500000e+01</td>\n",
              "    </tr>\n",
              "    <tr>\n",
              "      <th>max</th>\n",
              "      <td>2.000000e+00</td>\n",
              "      <td>9.000000e+00</td>\n",
              "      <td>-6.133553e+01</td>\n",
              "      <td>5.188108e+01</td>\n",
              "      <td>-6.133553e+01</td>\n",
              "      <td>4.392103e+01</td>\n",
              "      <td>3.526282e+06</td>\n",
              "      <td>1.241298e+03</td>\n",
              "      <td>2016.0</td>\n",
              "      <td>6.000000e+00</td>\n",
              "      <td>3.100000e+01</td>\n",
              "      <td>2.300000e+01</td>\n",
              "      <td>5.900000e+01</td>\n",
              "      <td>2016.0</td>\n",
              "      <td>6.000000e+00</td>\n",
              "      <td>3.100000e+01</td>\n",
              "      <td>2.300000e+01</td>\n",
              "      <td>5.900000e+01</td>\n",
              "    </tr>\n",
              "  </tbody>\n",
              "</table>\n",
              "</div>"
            ],
            "text/plain": [
              "          vendor_id  passenger_count  ...     drop_hour   drop_minute\n",
              "count  1.458644e+06     1.458644e+06  ...  1.458644e+06  1.458644e+06\n",
              "mean   1.534950e+00     1.664530e+00  ...  1.360648e+01  2.959016e+01\n",
              "std    4.987772e-01     1.314242e+00  ...  6.399693e+00  1.732471e+01\n",
              "min    1.000000e+00     0.000000e+00  ...  0.000000e+00  0.000000e+00\n",
              "25%    1.000000e+00     1.000000e+00  ...  9.000000e+00  1.500000e+01\n",
              "50%    2.000000e+00     1.000000e+00  ...  1.400000e+01  3.000000e+01\n",
              "75%    2.000000e+00     2.000000e+00  ...  1.900000e+01  4.500000e+01\n",
              "max    2.000000e+00     9.000000e+00  ...  2.300000e+01  5.900000e+01\n",
              "\n",
              "[8 rows x 18 columns]"
            ]
          },
          "metadata": {
            "tags": []
          },
          "execution_count": 49
        }
      ]
    },
    {
      "cell_type": "code",
      "metadata": {
        "colab": {
          "base_uri": "https://localhost:8080/"
        },
        "id": "5I7PcSYMPPDq",
        "outputId": "c7706edc-0721-4cb1-f3ce-132699ae2d10"
      },
      "source": [
        "df.shape"
      ],
      "execution_count": 50,
      "outputs": [
        {
          "output_type": "execute_result",
          "data": {
            "text/plain": [
              "(1458644, 24)"
            ]
          },
          "metadata": {
            "tags": []
          },
          "execution_count": 50
        }
      ]
    },
    {
      "cell_type": "markdown",
      "metadata": {
        "id": "xwagpoyaPKbl"
      },
      "source": [
        "#Travel dist 0 means no trip"
      ]
    },
    {
      "cell_type": "code",
      "metadata": {
        "colab": {
          "base_uri": "https://localhost:8080/",
          "height": 600
        },
        "id": "EC4T0x-xOXkG",
        "outputId": "067b081f-b68c-406f-bd5e-60dc1bf282a5"
      },
      "source": [
        "df[df['Travel_distance']<=0.5]"
      ],
      "execution_count": 51,
      "outputs": [
        {
          "output_type": "execute_result",
          "data": {
            "text/html": [
              "<div>\n",
              "<style scoped>\n",
              "    .dataframe tbody tr th:only-of-type {\n",
              "        vertical-align: middle;\n",
              "    }\n",
              "\n",
              "    .dataframe tbody tr th {\n",
              "        vertical-align: top;\n",
              "    }\n",
              "\n",
              "    .dataframe thead th {\n",
              "        text-align: right;\n",
              "    }\n",
              "</style>\n",
              "<table border=\"1\" class=\"dataframe\">\n",
              "  <thead>\n",
              "    <tr style=\"text-align: right;\">\n",
              "      <th></th>\n",
              "      <th>id</th>\n",
              "      <th>vendor_id</th>\n",
              "      <th>pickup_datetime</th>\n",
              "      <th>dropoff_datetime</th>\n",
              "      <th>passenger_count</th>\n",
              "      <th>pickup_longitude</th>\n",
              "      <th>pickup_latitude</th>\n",
              "      <th>dropoff_longitude</th>\n",
              "      <th>dropoff_latitude</th>\n",
              "      <th>store_and_fwd_flag</th>\n",
              "      <th>trip_duration</th>\n",
              "      <th>Travel_distance</th>\n",
              "      <th>Day</th>\n",
              "      <th>pick_year</th>\n",
              "      <th>pick_month</th>\n",
              "      <th>pick_day_num</th>\n",
              "      <th>pick_hour</th>\n",
              "      <th>pick_minute</th>\n",
              "      <th>drop_year</th>\n",
              "      <th>drop_month</th>\n",
              "      <th>drop_day_num</th>\n",
              "      <th>drop_hour</th>\n",
              "      <th>drop_minute</th>\n",
              "      <th>pick_Day</th>\n",
              "    </tr>\n",
              "  </thead>\n",
              "  <tbody>\n",
              "    <tr>\n",
              "      <th>72</th>\n",
              "      <td>id1510700</td>\n",
              "      <td>2</td>\n",
              "      <td>2016-02-20 21:58:13</td>\n",
              "      <td>2016-02-20 21:58:13</td>\n",
              "      <td>1</td>\n",
              "      <td>-73.958397</td>\n",
              "      <td>40.772629</td>\n",
              "      <td>-73.955132</td>\n",
              "      <td>40.774242</td>\n",
              "      <td>N</td>\n",
              "      <td>57</td>\n",
              "      <td>0.328436</td>\n",
              "      <td>Saturday</td>\n",
              "      <td>2016</td>\n",
              "      <td>2</td>\n",
              "      <td>20</td>\n",
              "      <td>21</td>\n",
              "      <td>58</td>\n",
              "      <td>2016</td>\n",
              "      <td>2</td>\n",
              "      <td>20</td>\n",
              "      <td>21</td>\n",
              "      <td>58</td>\n",
              "      <td>Saturday</td>\n",
              "    </tr>\n",
              "    <tr>\n",
              "      <th>127</th>\n",
              "      <td>id2209089</td>\n",
              "      <td>1</td>\n",
              "      <td>2016-02-24 22:56:43</td>\n",
              "      <td>2016-02-24 22:56:43</td>\n",
              "      <td>1</td>\n",
              "      <td>-74.006912</td>\n",
              "      <td>40.730362</td>\n",
              "      <td>-74.005943</td>\n",
              "      <td>40.727070</td>\n",
              "      <td>N</td>\n",
              "      <td>416</td>\n",
              "      <td>0.375175</td>\n",
              "      <td>Wednesday</td>\n",
              "      <td>2016</td>\n",
              "      <td>2</td>\n",
              "      <td>24</td>\n",
              "      <td>22</td>\n",
              "      <td>56</td>\n",
              "      <td>2016</td>\n",
              "      <td>2</td>\n",
              "      <td>24</td>\n",
              "      <td>22</td>\n",
              "      <td>56</td>\n",
              "      <td>Wednesday</td>\n",
              "    </tr>\n",
              "    <tr>\n",
              "      <th>246</th>\n",
              "      <td>id3487442</td>\n",
              "      <td>2</td>\n",
              "      <td>2016-02-29 18:39:12</td>\n",
              "      <td>2016-02-29 18:39:12</td>\n",
              "      <td>1</td>\n",
              "      <td>-73.981819</td>\n",
              "      <td>40.768963</td>\n",
              "      <td>-73.981819</td>\n",
              "      <td>40.768963</td>\n",
              "      <td>N</td>\n",
              "      <td>227</td>\n",
              "      <td>0.000000</td>\n",
              "      <td>Monday</td>\n",
              "      <td>2016</td>\n",
              "      <td>2</td>\n",
              "      <td>29</td>\n",
              "      <td>18</td>\n",
              "      <td>39</td>\n",
              "      <td>2016</td>\n",
              "      <td>2</td>\n",
              "      <td>29</td>\n",
              "      <td>18</td>\n",
              "      <td>39</td>\n",
              "      <td>Monday</td>\n",
              "    </tr>\n",
              "    <tr>\n",
              "      <th>251</th>\n",
              "      <td>id0171820</td>\n",
              "      <td>2</td>\n",
              "      <td>2016-05-25 06:40:04</td>\n",
              "      <td>2016-05-25 06:40:04</td>\n",
              "      <td>1</td>\n",
              "      <td>-74.004524</td>\n",
              "      <td>40.724194</td>\n",
              "      <td>-74.004494</td>\n",
              "      <td>40.724667</td>\n",
              "      <td>N</td>\n",
              "      <td>189</td>\n",
              "      <td>0.052677</td>\n",
              "      <td>Wednesday</td>\n",
              "      <td>2016</td>\n",
              "      <td>5</td>\n",
              "      <td>25</td>\n",
              "      <td>6</td>\n",
              "      <td>40</td>\n",
              "      <td>2016</td>\n",
              "      <td>5</td>\n",
              "      <td>25</td>\n",
              "      <td>6</td>\n",
              "      <td>40</td>\n",
              "      <td>Wednesday</td>\n",
              "    </tr>\n",
              "    <tr>\n",
              "      <th>269</th>\n",
              "      <td>id0747713</td>\n",
              "      <td>2</td>\n",
              "      <td>2016-01-17 03:24:53</td>\n",
              "      <td>2016-01-17 03:24:53</td>\n",
              "      <td>1</td>\n",
              "      <td>-74.006691</td>\n",
              "      <td>40.737640</td>\n",
              "      <td>-74.003883</td>\n",
              "      <td>40.738091</td>\n",
              "      <td>N</td>\n",
              "      <td>156</td>\n",
              "      <td>0.241863</td>\n",
              "      <td>Sunday</td>\n",
              "      <td>2016</td>\n",
              "      <td>1</td>\n",
              "      <td>17</td>\n",
              "      <td>3</td>\n",
              "      <td>24</td>\n",
              "      <td>2016</td>\n",
              "      <td>1</td>\n",
              "      <td>17</td>\n",
              "      <td>3</td>\n",
              "      <td>24</td>\n",
              "      <td>Sunday</td>\n",
              "    </tr>\n",
              "    <tr>\n",
              "      <th>...</th>\n",
              "      <td>...</td>\n",
              "      <td>...</td>\n",
              "      <td>...</td>\n",
              "      <td>...</td>\n",
              "      <td>...</td>\n",
              "      <td>...</td>\n",
              "      <td>...</td>\n",
              "      <td>...</td>\n",
              "      <td>...</td>\n",
              "      <td>...</td>\n",
              "      <td>...</td>\n",
              "      <td>...</td>\n",
              "      <td>...</td>\n",
              "      <td>...</td>\n",
              "      <td>...</td>\n",
              "      <td>...</td>\n",
              "      <td>...</td>\n",
              "      <td>...</td>\n",
              "      <td>...</td>\n",
              "      <td>...</td>\n",
              "      <td>...</td>\n",
              "      <td>...</td>\n",
              "      <td>...</td>\n",
              "      <td>...</td>\n",
              "    </tr>\n",
              "    <tr>\n",
              "      <th>1458438</th>\n",
              "      <td>id2559393</td>\n",
              "      <td>1</td>\n",
              "      <td>2016-05-28 21:37:09</td>\n",
              "      <td>2016-05-28 21:37:09</td>\n",
              "      <td>1</td>\n",
              "      <td>-73.969505</td>\n",
              "      <td>40.757195</td>\n",
              "      <td>-73.965706</td>\n",
              "      <td>40.754257</td>\n",
              "      <td>N</td>\n",
              "      <td>219</td>\n",
              "      <td>0.457412</td>\n",
              "      <td>Saturday</td>\n",
              "      <td>2016</td>\n",
              "      <td>5</td>\n",
              "      <td>28</td>\n",
              "      <td>21</td>\n",
              "      <td>37</td>\n",
              "      <td>2016</td>\n",
              "      <td>5</td>\n",
              "      <td>28</td>\n",
              "      <td>21</td>\n",
              "      <td>37</td>\n",
              "      <td>Saturday</td>\n",
              "    </tr>\n",
              "    <tr>\n",
              "      <th>1458539</th>\n",
              "      <td>id3985942</td>\n",
              "      <td>1</td>\n",
              "      <td>2016-06-03 07:41:14</td>\n",
              "      <td>2016-06-03 07:41:14</td>\n",
              "      <td>1</td>\n",
              "      <td>-73.957047</td>\n",
              "      <td>40.774696</td>\n",
              "      <td>-73.959740</td>\n",
              "      <td>40.778294</td>\n",
              "      <td>N</td>\n",
              "      <td>167</td>\n",
              "      <td>0.459954</td>\n",
              "      <td>Friday</td>\n",
              "      <td>2016</td>\n",
              "      <td>6</td>\n",
              "      <td>3</td>\n",
              "      <td>7</td>\n",
              "      <td>41</td>\n",
              "      <td>2016</td>\n",
              "      <td>6</td>\n",
              "      <td>3</td>\n",
              "      <td>7</td>\n",
              "      <td>41</td>\n",
              "      <td>Friday</td>\n",
              "    </tr>\n",
              "    <tr>\n",
              "      <th>1458544</th>\n",
              "      <td>id3958653</td>\n",
              "      <td>1</td>\n",
              "      <td>2016-06-16 15:10:11</td>\n",
              "      <td>2016-06-16 15:10:11</td>\n",
              "      <td>1</td>\n",
              "      <td>-73.956459</td>\n",
              "      <td>40.767231</td>\n",
              "      <td>-73.956589</td>\n",
              "      <td>40.767269</td>\n",
              "      <td>N</td>\n",
              "      <td>38</td>\n",
              "      <td>0.011721</td>\n",
              "      <td>Thursday</td>\n",
              "      <td>2016</td>\n",
              "      <td>6</td>\n",
              "      <td>16</td>\n",
              "      <td>15</td>\n",
              "      <td>10</td>\n",
              "      <td>2016</td>\n",
              "      <td>6</td>\n",
              "      <td>16</td>\n",
              "      <td>15</td>\n",
              "      <td>10</td>\n",
              "      <td>Thursday</td>\n",
              "    </tr>\n",
              "    <tr>\n",
              "      <th>1458551</th>\n",
              "      <td>id3517858</td>\n",
              "      <td>1</td>\n",
              "      <td>2016-05-10 07:13:21</td>\n",
              "      <td>2016-05-10 07:13:21</td>\n",
              "      <td>1</td>\n",
              "      <td>-73.975151</td>\n",
              "      <td>40.752602</td>\n",
              "      <td>-73.971947</td>\n",
              "      <td>40.754333</td>\n",
              "      <td>N</td>\n",
              "      <td>185</td>\n",
              "      <td>0.331672</td>\n",
              "      <td>Tuesday</td>\n",
              "      <td>2016</td>\n",
              "      <td>5</td>\n",
              "      <td>10</td>\n",
              "      <td>7</td>\n",
              "      <td>13</td>\n",
              "      <td>2016</td>\n",
              "      <td>5</td>\n",
              "      <td>10</td>\n",
              "      <td>7</td>\n",
              "      <td>13</td>\n",
              "      <td>Tuesday</td>\n",
              "    </tr>\n",
              "    <tr>\n",
              "      <th>1458602</th>\n",
              "      <td>id2089150</td>\n",
              "      <td>1</td>\n",
              "      <td>2016-05-30 14:42:12</td>\n",
              "      <td>2016-05-30 14:42:12</td>\n",
              "      <td>1</td>\n",
              "      <td>-74.015457</td>\n",
              "      <td>40.708027</td>\n",
              "      <td>-74.015396</td>\n",
              "      <td>40.708138</td>\n",
              "      <td>N</td>\n",
              "      <td>26</td>\n",
              "      <td>0.013338</td>\n",
              "      <td>Monday</td>\n",
              "      <td>2016</td>\n",
              "      <td>5</td>\n",
              "      <td>30</td>\n",
              "      <td>14</td>\n",
              "      <td>42</td>\n",
              "      <td>2016</td>\n",
              "      <td>5</td>\n",
              "      <td>30</td>\n",
              "      <td>14</td>\n",
              "      <td>42</td>\n",
              "      <td>Monday</td>\n",
              "    </tr>\n",
              "  </tbody>\n",
              "</table>\n",
              "<p>48862 rows × 24 columns</p>\n",
              "</div>"
            ],
            "text/plain": [
              "                id  vendor_id  ... drop_minute   pick_Day\n",
              "72       id1510700          2  ...          58   Saturday\n",
              "127      id2209089          1  ...          56  Wednesday\n",
              "246      id3487442          2  ...          39     Monday\n",
              "251      id0171820          2  ...          40  Wednesday\n",
              "269      id0747713          2  ...          24     Sunday\n",
              "...            ...        ...  ...         ...        ...\n",
              "1458438  id2559393          1  ...          37   Saturday\n",
              "1458539  id3985942          1  ...          41     Friday\n",
              "1458544  id3958653          1  ...          10   Thursday\n",
              "1458551  id3517858          1  ...          13    Tuesday\n",
              "1458602  id2089150          1  ...          42     Monday\n",
              "\n",
              "[48862 rows x 24 columns]"
            ]
          },
          "metadata": {
            "tags": []
          },
          "execution_count": 51
        }
      ]
    },
    {
      "cell_type": "code",
      "metadata": {
        "id": "wYPmDMZUOpNT"
      },
      "source": [
        "#df.drop(df.loc[df['Travel_distance']<=0.5].index, inplace=True)\r\n"
      ],
      "execution_count": 52,
      "outputs": []
    },
    {
      "cell_type": "code",
      "metadata": {
        "colab": {
          "base_uri": "https://localhost:8080/"
        },
        "id": "CYPBJ3ZETDCy",
        "outputId": "9dd28a36-fef3-45c9-af99-ecaf210bb42c"
      },
      "source": [
        "df.columns"
      ],
      "execution_count": 53,
      "outputs": [
        {
          "output_type": "execute_result",
          "data": {
            "text/plain": [
              "Index(['id', 'vendor_id', 'pickup_datetime', 'dropoff_datetime',\n",
              "       'passenger_count', 'pickup_longitude', 'pickup_latitude',\n",
              "       'dropoff_longitude', 'dropoff_latitude', 'store_and_fwd_flag',\n",
              "       'trip_duration', 'Travel_distance', 'Day', 'pick_year', 'pick_month',\n",
              "       'pick_day_num', 'pick_hour', 'pick_minute', 'drop_year', 'drop_month',\n",
              "       'drop_day_num', 'drop_hour', 'drop_minute', 'pick_Day'],\n",
              "      dtype='object')"
            ]
          },
          "metadata": {
            "tags": []
          },
          "execution_count": 53
        }
      ]
    },
    {
      "cell_type": "code",
      "metadata": {
        "id": "ECnhgGDzTC3J"
      },
      "source": [
        ""
      ],
      "execution_count": 53,
      "outputs": []
    },
    {
      "cell_type": "code",
      "metadata": {
        "id": "Tmt13qhOXKtQ"
      },
      "source": [
        "def Peak(hour):\r\n",
        "    if hour.item()>=7 and hour.item()<=9:\r\n",
        "        return 'morning_peak_hour(7-9)'\r\n",
        "    elif hour.item()>9 and hour.item()<16:\r\n",
        "        return 'non_peak_hour_afternoon(9-16)'\r\n",
        "    elif hour.item()>=16 and hour.item()<=19:\r\n",
        "        return 'peak_hour_eve(16-19)'\r\n",
        "    elif hour.item()>19 and hour.item()<=23:\r\n",
        "        return 'non_peak_hour_eve(19-23)'\r\n",
        "    else:\r\n",
        "        return 'late_night(23 onwards)'\r\n",
        "df['pick_hour']=df[['pick_hour']].apply(Peak, axis=1)\r\n",
        "df['drop_hour']=df[['drop_hour']].apply(Peak, axis=1)"
      ],
      "execution_count": 54,
      "outputs": []
    },
    {
      "cell_type": "code",
      "metadata": {
        "id": "CWtQdU-8Rend"
      },
      "source": [
        "df = pd.get_dummies(df, columns=[\"pick_hour\"])\r\n",
        "df = pd.get_dummies(df, columns=[\"drop_hour\"])"
      ],
      "execution_count": 55,
      "outputs": []
    },
    {
      "cell_type": "code",
      "metadata": {
        "colab": {
          "base_uri": "https://localhost:8080/",
          "height": 795
        },
        "id": "9mUMzOSSThdE",
        "outputId": "addbee20-2210-40d4-e79b-5ffd2131a39c"
      },
      "source": [
        "df.head(15)"
      ],
      "execution_count": 56,
      "outputs": [
        {
          "output_type": "execute_result",
          "data": {
            "text/html": [
              "<div>\n",
              "<style scoped>\n",
              "    .dataframe tbody tr th:only-of-type {\n",
              "        vertical-align: middle;\n",
              "    }\n",
              "\n",
              "    .dataframe tbody tr th {\n",
              "        vertical-align: top;\n",
              "    }\n",
              "\n",
              "    .dataframe thead th {\n",
              "        text-align: right;\n",
              "    }\n",
              "</style>\n",
              "<table border=\"1\" class=\"dataframe\">\n",
              "  <thead>\n",
              "    <tr style=\"text-align: right;\">\n",
              "      <th></th>\n",
              "      <th>id</th>\n",
              "      <th>vendor_id</th>\n",
              "      <th>pickup_datetime</th>\n",
              "      <th>dropoff_datetime</th>\n",
              "      <th>passenger_count</th>\n",
              "      <th>pickup_longitude</th>\n",
              "      <th>pickup_latitude</th>\n",
              "      <th>dropoff_longitude</th>\n",
              "      <th>dropoff_latitude</th>\n",
              "      <th>store_and_fwd_flag</th>\n",
              "      <th>trip_duration</th>\n",
              "      <th>Travel_distance</th>\n",
              "      <th>Day</th>\n",
              "      <th>pick_year</th>\n",
              "      <th>pick_month</th>\n",
              "      <th>pick_day_num</th>\n",
              "      <th>pick_minute</th>\n",
              "      <th>drop_year</th>\n",
              "      <th>drop_month</th>\n",
              "      <th>drop_day_num</th>\n",
              "      <th>drop_minute</th>\n",
              "      <th>pick_Day</th>\n",
              "      <th>pick_hour_late_night(23 onwards)</th>\n",
              "      <th>pick_hour_morning_peak_hour(7-9)</th>\n",
              "      <th>pick_hour_non_peak_hour_afternoon(9-16)</th>\n",
              "      <th>pick_hour_non_peak_hour_eve(19-23)</th>\n",
              "      <th>pick_hour_peak_hour_eve(16-19)</th>\n",
              "      <th>drop_hour_late_night(23 onwards)</th>\n",
              "      <th>drop_hour_morning_peak_hour(7-9)</th>\n",
              "      <th>drop_hour_non_peak_hour_afternoon(9-16)</th>\n",
              "      <th>drop_hour_non_peak_hour_eve(19-23)</th>\n",
              "      <th>drop_hour_peak_hour_eve(16-19)</th>\n",
              "    </tr>\n",
              "  </thead>\n",
              "  <tbody>\n",
              "    <tr>\n",
              "      <th>0</th>\n",
              "      <td>id2875421</td>\n",
              "      <td>2</td>\n",
              "      <td>2016-03-14 17:24:55</td>\n",
              "      <td>2016-03-14 17:24:55</td>\n",
              "      <td>1</td>\n",
              "      <td>-73.982155</td>\n",
              "      <td>40.767937</td>\n",
              "      <td>-73.964630</td>\n",
              "      <td>40.765602</td>\n",
              "      <td>N</td>\n",
              "      <td>455</td>\n",
              "      <td>1.498991</td>\n",
              "      <td>Monday</td>\n",
              "      <td>2016</td>\n",
              "      <td>3</td>\n",
              "      <td>14</td>\n",
              "      <td>24</td>\n",
              "      <td>2016</td>\n",
              "      <td>3</td>\n",
              "      <td>14</td>\n",
              "      <td>24</td>\n",
              "      <td>Monday</td>\n",
              "      <td>0</td>\n",
              "      <td>0</td>\n",
              "      <td>0</td>\n",
              "      <td>0</td>\n",
              "      <td>1</td>\n",
              "      <td>0</td>\n",
              "      <td>0</td>\n",
              "      <td>0</td>\n",
              "      <td>0</td>\n",
              "      <td>1</td>\n",
              "    </tr>\n",
              "    <tr>\n",
              "      <th>1</th>\n",
              "      <td>id2377394</td>\n",
              "      <td>1</td>\n",
              "      <td>2016-06-12 00:43:35</td>\n",
              "      <td>2016-06-12 00:43:35</td>\n",
              "      <td>1</td>\n",
              "      <td>-73.980415</td>\n",
              "      <td>40.738564</td>\n",
              "      <td>-73.999481</td>\n",
              "      <td>40.731152</td>\n",
              "      <td>N</td>\n",
              "      <td>663</td>\n",
              "      <td>1.806074</td>\n",
              "      <td>Sunday</td>\n",
              "      <td>2016</td>\n",
              "      <td>6</td>\n",
              "      <td>12</td>\n",
              "      <td>43</td>\n",
              "      <td>2016</td>\n",
              "      <td>6</td>\n",
              "      <td>12</td>\n",
              "      <td>43</td>\n",
              "      <td>Sunday</td>\n",
              "      <td>1</td>\n",
              "      <td>0</td>\n",
              "      <td>0</td>\n",
              "      <td>0</td>\n",
              "      <td>0</td>\n",
              "      <td>1</td>\n",
              "      <td>0</td>\n",
              "      <td>0</td>\n",
              "      <td>0</td>\n",
              "      <td>0</td>\n",
              "    </tr>\n",
              "    <tr>\n",
              "      <th>2</th>\n",
              "      <td>id3858529</td>\n",
              "      <td>2</td>\n",
              "      <td>2016-01-19 11:35:24</td>\n",
              "      <td>2016-01-19 11:35:24</td>\n",
              "      <td>1</td>\n",
              "      <td>-73.979027</td>\n",
              "      <td>40.763939</td>\n",
              "      <td>-74.005333</td>\n",
              "      <td>40.710087</td>\n",
              "      <td>N</td>\n",
              "      <td>2124</td>\n",
              "      <td>6.387103</td>\n",
              "      <td>Tuesday</td>\n",
              "      <td>2016</td>\n",
              "      <td>1</td>\n",
              "      <td>19</td>\n",
              "      <td>35</td>\n",
              "      <td>2016</td>\n",
              "      <td>1</td>\n",
              "      <td>19</td>\n",
              "      <td>35</td>\n",
              "      <td>Tuesday</td>\n",
              "      <td>0</td>\n",
              "      <td>0</td>\n",
              "      <td>1</td>\n",
              "      <td>0</td>\n",
              "      <td>0</td>\n",
              "      <td>0</td>\n",
              "      <td>0</td>\n",
              "      <td>1</td>\n",
              "      <td>0</td>\n",
              "      <td>0</td>\n",
              "    </tr>\n",
              "    <tr>\n",
              "      <th>3</th>\n",
              "      <td>id3504673</td>\n",
              "      <td>2</td>\n",
              "      <td>2016-04-06 19:32:31</td>\n",
              "      <td>2016-04-06 19:32:31</td>\n",
              "      <td>1</td>\n",
              "      <td>-74.010040</td>\n",
              "      <td>40.719971</td>\n",
              "      <td>-74.012268</td>\n",
              "      <td>40.706718</td>\n",
              "      <td>N</td>\n",
              "      <td>429</td>\n",
              "      <td>1.485965</td>\n",
              "      <td>Wednesday</td>\n",
              "      <td>2016</td>\n",
              "      <td>4</td>\n",
              "      <td>6</td>\n",
              "      <td>32</td>\n",
              "      <td>2016</td>\n",
              "      <td>4</td>\n",
              "      <td>6</td>\n",
              "      <td>32</td>\n",
              "      <td>Wednesday</td>\n",
              "      <td>0</td>\n",
              "      <td>0</td>\n",
              "      <td>0</td>\n",
              "      <td>0</td>\n",
              "      <td>1</td>\n",
              "      <td>0</td>\n",
              "      <td>0</td>\n",
              "      <td>0</td>\n",
              "      <td>0</td>\n",
              "      <td>1</td>\n",
              "    </tr>\n",
              "    <tr>\n",
              "      <th>4</th>\n",
              "      <td>id2181028</td>\n",
              "      <td>2</td>\n",
              "      <td>2016-03-26 13:30:55</td>\n",
              "      <td>2016-03-26 13:30:55</td>\n",
              "      <td>1</td>\n",
              "      <td>-73.973053</td>\n",
              "      <td>40.793209</td>\n",
              "      <td>-73.972923</td>\n",
              "      <td>40.782520</td>\n",
              "      <td>N</td>\n",
              "      <td>435</td>\n",
              "      <td>1.188962</td>\n",
              "      <td>Saturday</td>\n",
              "      <td>2016</td>\n",
              "      <td>3</td>\n",
              "      <td>26</td>\n",
              "      <td>30</td>\n",
              "      <td>2016</td>\n",
              "      <td>3</td>\n",
              "      <td>26</td>\n",
              "      <td>30</td>\n",
              "      <td>Saturday</td>\n",
              "      <td>0</td>\n",
              "      <td>0</td>\n",
              "      <td>1</td>\n",
              "      <td>0</td>\n",
              "      <td>0</td>\n",
              "      <td>0</td>\n",
              "      <td>0</td>\n",
              "      <td>1</td>\n",
              "      <td>0</td>\n",
              "      <td>0</td>\n",
              "    </tr>\n",
              "    <tr>\n",
              "      <th>5</th>\n",
              "      <td>id0801584</td>\n",
              "      <td>2</td>\n",
              "      <td>2016-01-30 22:01:40</td>\n",
              "      <td>2016-01-30 22:01:40</td>\n",
              "      <td>6</td>\n",
              "      <td>-73.982857</td>\n",
              "      <td>40.742195</td>\n",
              "      <td>-73.992081</td>\n",
              "      <td>40.749184</td>\n",
              "      <td>N</td>\n",
              "      <td>443</td>\n",
              "      <td>1.099287</td>\n",
              "      <td>Saturday</td>\n",
              "      <td>2016</td>\n",
              "      <td>1</td>\n",
              "      <td>30</td>\n",
              "      <td>1</td>\n",
              "      <td>2016</td>\n",
              "      <td>1</td>\n",
              "      <td>30</td>\n",
              "      <td>1</td>\n",
              "      <td>Saturday</td>\n",
              "      <td>0</td>\n",
              "      <td>0</td>\n",
              "      <td>0</td>\n",
              "      <td>1</td>\n",
              "      <td>0</td>\n",
              "      <td>0</td>\n",
              "      <td>0</td>\n",
              "      <td>0</td>\n",
              "      <td>1</td>\n",
              "      <td>0</td>\n",
              "    </tr>\n",
              "    <tr>\n",
              "      <th>6</th>\n",
              "      <td>id1813257</td>\n",
              "      <td>1</td>\n",
              "      <td>2016-06-17 22:34:59</td>\n",
              "      <td>2016-06-17 22:34:59</td>\n",
              "      <td>4</td>\n",
              "      <td>-73.969017</td>\n",
              "      <td>40.757839</td>\n",
              "      <td>-73.957405</td>\n",
              "      <td>40.765896</td>\n",
              "      <td>N</td>\n",
              "      <td>341</td>\n",
              "      <td>1.326695</td>\n",
              "      <td>Friday</td>\n",
              "      <td>2016</td>\n",
              "      <td>6</td>\n",
              "      <td>17</td>\n",
              "      <td>34</td>\n",
              "      <td>2016</td>\n",
              "      <td>6</td>\n",
              "      <td>17</td>\n",
              "      <td>34</td>\n",
              "      <td>Friday</td>\n",
              "      <td>0</td>\n",
              "      <td>0</td>\n",
              "      <td>0</td>\n",
              "      <td>1</td>\n",
              "      <td>0</td>\n",
              "      <td>0</td>\n",
              "      <td>0</td>\n",
              "      <td>0</td>\n",
              "      <td>1</td>\n",
              "      <td>0</td>\n",
              "    </tr>\n",
              "    <tr>\n",
              "      <th>7</th>\n",
              "      <td>id1324603</td>\n",
              "      <td>2</td>\n",
              "      <td>2016-05-21 07:54:58</td>\n",
              "      <td>2016-05-21 07:54:58</td>\n",
              "      <td>1</td>\n",
              "      <td>-73.969276</td>\n",
              "      <td>40.797779</td>\n",
              "      <td>-73.922470</td>\n",
              "      <td>40.760559</td>\n",
              "      <td>N</td>\n",
              "      <td>1551</td>\n",
              "      <td>5.716775</td>\n",
              "      <td>Saturday</td>\n",
              "      <td>2016</td>\n",
              "      <td>5</td>\n",
              "      <td>21</td>\n",
              "      <td>54</td>\n",
              "      <td>2016</td>\n",
              "      <td>5</td>\n",
              "      <td>21</td>\n",
              "      <td>54</td>\n",
              "      <td>Saturday</td>\n",
              "      <td>0</td>\n",
              "      <td>1</td>\n",
              "      <td>0</td>\n",
              "      <td>0</td>\n",
              "      <td>0</td>\n",
              "      <td>0</td>\n",
              "      <td>1</td>\n",
              "      <td>0</td>\n",
              "      <td>0</td>\n",
              "      <td>0</td>\n",
              "    </tr>\n",
              "    <tr>\n",
              "      <th>8</th>\n",
              "      <td>id1301050</td>\n",
              "      <td>1</td>\n",
              "      <td>2016-05-27 23:12:23</td>\n",
              "      <td>2016-05-27 23:12:23</td>\n",
              "      <td>1</td>\n",
              "      <td>-73.999481</td>\n",
              "      <td>40.738400</td>\n",
              "      <td>-73.985786</td>\n",
              "      <td>40.732815</td>\n",
              "      <td>N</td>\n",
              "      <td>255</td>\n",
              "      <td>1.310765</td>\n",
              "      <td>Friday</td>\n",
              "      <td>2016</td>\n",
              "      <td>5</td>\n",
              "      <td>27</td>\n",
              "      <td>12</td>\n",
              "      <td>2016</td>\n",
              "      <td>5</td>\n",
              "      <td>27</td>\n",
              "      <td>12</td>\n",
              "      <td>Friday</td>\n",
              "      <td>0</td>\n",
              "      <td>0</td>\n",
              "      <td>0</td>\n",
              "      <td>1</td>\n",
              "      <td>0</td>\n",
              "      <td>0</td>\n",
              "      <td>0</td>\n",
              "      <td>0</td>\n",
              "      <td>1</td>\n",
              "      <td>0</td>\n",
              "    </tr>\n",
              "    <tr>\n",
              "      <th>9</th>\n",
              "      <td>id0012891</td>\n",
              "      <td>2</td>\n",
              "      <td>2016-03-10 21:45:01</td>\n",
              "      <td>2016-03-10 21:45:01</td>\n",
              "      <td>1</td>\n",
              "      <td>-73.981049</td>\n",
              "      <td>40.744339</td>\n",
              "      <td>-73.973000</td>\n",
              "      <td>40.789989</td>\n",
              "      <td>N</td>\n",
              "      <td>1225</td>\n",
              "      <td>5.122769</td>\n",
              "      <td>Thursday</td>\n",
              "      <td>2016</td>\n",
              "      <td>3</td>\n",
              "      <td>10</td>\n",
              "      <td>45</td>\n",
              "      <td>2016</td>\n",
              "      <td>3</td>\n",
              "      <td>10</td>\n",
              "      <td>45</td>\n",
              "      <td>Thursday</td>\n",
              "      <td>0</td>\n",
              "      <td>0</td>\n",
              "      <td>0</td>\n",
              "      <td>1</td>\n",
              "      <td>0</td>\n",
              "      <td>0</td>\n",
              "      <td>0</td>\n",
              "      <td>0</td>\n",
              "      <td>1</td>\n",
              "      <td>0</td>\n",
              "    </tr>\n",
              "    <tr>\n",
              "      <th>10</th>\n",
              "      <td>id1436371</td>\n",
              "      <td>2</td>\n",
              "      <td>2016-05-10 22:08:41</td>\n",
              "      <td>2016-05-10 22:08:41</td>\n",
              "      <td>1</td>\n",
              "      <td>-73.982651</td>\n",
              "      <td>40.763840</td>\n",
              "      <td>-74.002228</td>\n",
              "      <td>40.732990</td>\n",
              "      <td>N</td>\n",
              "      <td>1274</td>\n",
              "      <td>3.807334</td>\n",
              "      <td>Tuesday</td>\n",
              "      <td>2016</td>\n",
              "      <td>5</td>\n",
              "      <td>10</td>\n",
              "      <td>8</td>\n",
              "      <td>2016</td>\n",
              "      <td>5</td>\n",
              "      <td>10</td>\n",
              "      <td>8</td>\n",
              "      <td>Tuesday</td>\n",
              "      <td>0</td>\n",
              "      <td>0</td>\n",
              "      <td>0</td>\n",
              "      <td>1</td>\n",
              "      <td>0</td>\n",
              "      <td>0</td>\n",
              "      <td>0</td>\n",
              "      <td>0</td>\n",
              "      <td>1</td>\n",
              "      <td>0</td>\n",
              "    </tr>\n",
              "    <tr>\n",
              "      <th>11</th>\n",
              "      <td>id1299289</td>\n",
              "      <td>2</td>\n",
              "      <td>2016-05-15 11:16:11</td>\n",
              "      <td>2016-05-15 11:16:11</td>\n",
              "      <td>4</td>\n",
              "      <td>-73.991531</td>\n",
              "      <td>40.749439</td>\n",
              "      <td>-73.956543</td>\n",
              "      <td>40.770630</td>\n",
              "      <td>N</td>\n",
              "      <td>1128</td>\n",
              "      <td>3.774280</td>\n",
              "      <td>Sunday</td>\n",
              "      <td>2016</td>\n",
              "      <td>5</td>\n",
              "      <td>15</td>\n",
              "      <td>16</td>\n",
              "      <td>2016</td>\n",
              "      <td>5</td>\n",
              "      <td>15</td>\n",
              "      <td>16</td>\n",
              "      <td>Sunday</td>\n",
              "      <td>0</td>\n",
              "      <td>0</td>\n",
              "      <td>1</td>\n",
              "      <td>0</td>\n",
              "      <td>0</td>\n",
              "      <td>0</td>\n",
              "      <td>0</td>\n",
              "      <td>1</td>\n",
              "      <td>0</td>\n",
              "      <td>0</td>\n",
              "    </tr>\n",
              "    <tr>\n",
              "      <th>12</th>\n",
              "      <td>id1187965</td>\n",
              "      <td>2</td>\n",
              "      <td>2016-02-19 09:52:46</td>\n",
              "      <td>2016-02-19 09:52:46</td>\n",
              "      <td>2</td>\n",
              "      <td>-73.962982</td>\n",
              "      <td>40.756680</td>\n",
              "      <td>-73.984406</td>\n",
              "      <td>40.760719</td>\n",
              "      <td>N</td>\n",
              "      <td>1114</td>\n",
              "      <td>1.860067</td>\n",
              "      <td>Friday</td>\n",
              "      <td>2016</td>\n",
              "      <td>2</td>\n",
              "      <td>19</td>\n",
              "      <td>52</td>\n",
              "      <td>2016</td>\n",
              "      <td>2</td>\n",
              "      <td>19</td>\n",
              "      <td>52</td>\n",
              "      <td>Friday</td>\n",
              "      <td>0</td>\n",
              "      <td>1</td>\n",
              "      <td>0</td>\n",
              "      <td>0</td>\n",
              "      <td>0</td>\n",
              "      <td>0</td>\n",
              "      <td>1</td>\n",
              "      <td>0</td>\n",
              "      <td>0</td>\n",
              "      <td>0</td>\n",
              "    </tr>\n",
              "    <tr>\n",
              "      <th>13</th>\n",
              "      <td>id0799785</td>\n",
              "      <td>2</td>\n",
              "      <td>2016-06-01 20:58:29</td>\n",
              "      <td>2016-06-01 20:58:29</td>\n",
              "      <td>1</td>\n",
              "      <td>-73.956306</td>\n",
              "      <td>40.767941</td>\n",
              "      <td>-73.966110</td>\n",
              "      <td>40.763000</td>\n",
              "      <td>N</td>\n",
              "      <td>260</td>\n",
              "      <td>0.991996</td>\n",
              "      <td>Wednesday</td>\n",
              "      <td>2016</td>\n",
              "      <td>6</td>\n",
              "      <td>1</td>\n",
              "      <td>58</td>\n",
              "      <td>2016</td>\n",
              "      <td>6</td>\n",
              "      <td>1</td>\n",
              "      <td>58</td>\n",
              "      <td>Wednesday</td>\n",
              "      <td>0</td>\n",
              "      <td>0</td>\n",
              "      <td>0</td>\n",
              "      <td>1</td>\n",
              "      <td>0</td>\n",
              "      <td>0</td>\n",
              "      <td>0</td>\n",
              "      <td>0</td>\n",
              "      <td>1</td>\n",
              "      <td>0</td>\n",
              "    </tr>\n",
              "    <tr>\n",
              "      <th>14</th>\n",
              "      <td>id2900608</td>\n",
              "      <td>2</td>\n",
              "      <td>2016-05-27 00:43:36</td>\n",
              "      <td>2016-05-27 00:43:36</td>\n",
              "      <td>1</td>\n",
              "      <td>-73.992195</td>\n",
              "      <td>40.727226</td>\n",
              "      <td>-73.974655</td>\n",
              "      <td>40.783070</td>\n",
              "      <td>N</td>\n",
              "      <td>1414</td>\n",
              "      <td>6.384839</td>\n",
              "      <td>Friday</td>\n",
              "      <td>2016</td>\n",
              "      <td>5</td>\n",
              "      <td>27</td>\n",
              "      <td>43</td>\n",
              "      <td>2016</td>\n",
              "      <td>5</td>\n",
              "      <td>27</td>\n",
              "      <td>43</td>\n",
              "      <td>Friday</td>\n",
              "      <td>1</td>\n",
              "      <td>0</td>\n",
              "      <td>0</td>\n",
              "      <td>0</td>\n",
              "      <td>0</td>\n",
              "      <td>1</td>\n",
              "      <td>0</td>\n",
              "      <td>0</td>\n",
              "      <td>0</td>\n",
              "      <td>0</td>\n",
              "    </tr>\n",
              "  </tbody>\n",
              "</table>\n",
              "</div>"
            ],
            "text/plain": [
              "           id  ...  drop_hour_peak_hour_eve(16-19)\n",
              "0   id2875421  ...                               1\n",
              "1   id2377394  ...                               0\n",
              "2   id3858529  ...                               0\n",
              "3   id3504673  ...                               1\n",
              "4   id2181028  ...                               0\n",
              "5   id0801584  ...                               0\n",
              "6   id1813257  ...                               0\n",
              "7   id1324603  ...                               0\n",
              "8   id1301050  ...                               0\n",
              "9   id0012891  ...                               0\n",
              "10  id1436371  ...                               0\n",
              "11  id1299289  ...                               0\n",
              "12  id1187965  ...                               0\n",
              "13  id0799785  ...                               0\n",
              "14  id2900608  ...                               0\n",
              "\n",
              "[15 rows x 32 columns]"
            ]
          },
          "metadata": {
            "tags": []
          },
          "execution_count": 56
        }
      ]
    },
    {
      "cell_type": "markdown",
      "metadata": {
        "id": "XPTNzWhRcVYo"
      },
      "source": [
        "it is unlikely for people to take trips for less than 5 min and more than 8 hrs(longest trip across nyc acc to google maps is 7 hrs) so we can keep records upto 10 hrs."
      ]
    },
    {
      "cell_type": "code",
      "metadata": {
        "id": "E-7lQRzDT8wU"
      },
      "source": [
        "#convert trip duration to hrs\r\n",
        "df['trip_duration']=df['trip_duration']/3600"
      ],
      "execution_count": 57,
      "outputs": []
    },
    {
      "cell_type": "code",
      "metadata": {
        "colab": {
          "base_uri": "https://localhost:8080/",
          "height": 322
        },
        "id": "3MqchVKFek3r",
        "outputId": "2a0f88a9-87bd-4ff5-888a-fd331d7e7853"
      },
      "source": [
        "df.head()"
      ],
      "execution_count": 58,
      "outputs": [
        {
          "output_type": "execute_result",
          "data": {
            "text/html": [
              "<div>\n",
              "<style scoped>\n",
              "    .dataframe tbody tr th:only-of-type {\n",
              "        vertical-align: middle;\n",
              "    }\n",
              "\n",
              "    .dataframe tbody tr th {\n",
              "        vertical-align: top;\n",
              "    }\n",
              "\n",
              "    .dataframe thead th {\n",
              "        text-align: right;\n",
              "    }\n",
              "</style>\n",
              "<table border=\"1\" class=\"dataframe\">\n",
              "  <thead>\n",
              "    <tr style=\"text-align: right;\">\n",
              "      <th></th>\n",
              "      <th>id</th>\n",
              "      <th>vendor_id</th>\n",
              "      <th>pickup_datetime</th>\n",
              "      <th>dropoff_datetime</th>\n",
              "      <th>passenger_count</th>\n",
              "      <th>pickup_longitude</th>\n",
              "      <th>pickup_latitude</th>\n",
              "      <th>dropoff_longitude</th>\n",
              "      <th>dropoff_latitude</th>\n",
              "      <th>store_and_fwd_flag</th>\n",
              "      <th>trip_duration</th>\n",
              "      <th>Travel_distance</th>\n",
              "      <th>Day</th>\n",
              "      <th>pick_year</th>\n",
              "      <th>pick_month</th>\n",
              "      <th>pick_day_num</th>\n",
              "      <th>pick_minute</th>\n",
              "      <th>drop_year</th>\n",
              "      <th>drop_month</th>\n",
              "      <th>drop_day_num</th>\n",
              "      <th>drop_minute</th>\n",
              "      <th>pick_Day</th>\n",
              "      <th>pick_hour_late_night(23 onwards)</th>\n",
              "      <th>pick_hour_morning_peak_hour(7-9)</th>\n",
              "      <th>pick_hour_non_peak_hour_afternoon(9-16)</th>\n",
              "      <th>pick_hour_non_peak_hour_eve(19-23)</th>\n",
              "      <th>pick_hour_peak_hour_eve(16-19)</th>\n",
              "      <th>drop_hour_late_night(23 onwards)</th>\n",
              "      <th>drop_hour_morning_peak_hour(7-9)</th>\n",
              "      <th>drop_hour_non_peak_hour_afternoon(9-16)</th>\n",
              "      <th>drop_hour_non_peak_hour_eve(19-23)</th>\n",
              "      <th>drop_hour_peak_hour_eve(16-19)</th>\n",
              "    </tr>\n",
              "  </thead>\n",
              "  <tbody>\n",
              "    <tr>\n",
              "      <th>0</th>\n",
              "      <td>id2875421</td>\n",
              "      <td>2</td>\n",
              "      <td>2016-03-14 17:24:55</td>\n",
              "      <td>2016-03-14 17:24:55</td>\n",
              "      <td>1</td>\n",
              "      <td>-73.982155</td>\n",
              "      <td>40.767937</td>\n",
              "      <td>-73.964630</td>\n",
              "      <td>40.765602</td>\n",
              "      <td>N</td>\n",
              "      <td>0.126389</td>\n",
              "      <td>1.498991</td>\n",
              "      <td>Monday</td>\n",
              "      <td>2016</td>\n",
              "      <td>3</td>\n",
              "      <td>14</td>\n",
              "      <td>24</td>\n",
              "      <td>2016</td>\n",
              "      <td>3</td>\n",
              "      <td>14</td>\n",
              "      <td>24</td>\n",
              "      <td>Monday</td>\n",
              "      <td>0</td>\n",
              "      <td>0</td>\n",
              "      <td>0</td>\n",
              "      <td>0</td>\n",
              "      <td>1</td>\n",
              "      <td>0</td>\n",
              "      <td>0</td>\n",
              "      <td>0</td>\n",
              "      <td>0</td>\n",
              "      <td>1</td>\n",
              "    </tr>\n",
              "    <tr>\n",
              "      <th>1</th>\n",
              "      <td>id2377394</td>\n",
              "      <td>1</td>\n",
              "      <td>2016-06-12 00:43:35</td>\n",
              "      <td>2016-06-12 00:43:35</td>\n",
              "      <td>1</td>\n",
              "      <td>-73.980415</td>\n",
              "      <td>40.738564</td>\n",
              "      <td>-73.999481</td>\n",
              "      <td>40.731152</td>\n",
              "      <td>N</td>\n",
              "      <td>0.184167</td>\n",
              "      <td>1.806074</td>\n",
              "      <td>Sunday</td>\n",
              "      <td>2016</td>\n",
              "      <td>6</td>\n",
              "      <td>12</td>\n",
              "      <td>43</td>\n",
              "      <td>2016</td>\n",
              "      <td>6</td>\n",
              "      <td>12</td>\n",
              "      <td>43</td>\n",
              "      <td>Sunday</td>\n",
              "      <td>1</td>\n",
              "      <td>0</td>\n",
              "      <td>0</td>\n",
              "      <td>0</td>\n",
              "      <td>0</td>\n",
              "      <td>1</td>\n",
              "      <td>0</td>\n",
              "      <td>0</td>\n",
              "      <td>0</td>\n",
              "      <td>0</td>\n",
              "    </tr>\n",
              "    <tr>\n",
              "      <th>2</th>\n",
              "      <td>id3858529</td>\n",
              "      <td>2</td>\n",
              "      <td>2016-01-19 11:35:24</td>\n",
              "      <td>2016-01-19 11:35:24</td>\n",
              "      <td>1</td>\n",
              "      <td>-73.979027</td>\n",
              "      <td>40.763939</td>\n",
              "      <td>-74.005333</td>\n",
              "      <td>40.710087</td>\n",
              "      <td>N</td>\n",
              "      <td>0.590000</td>\n",
              "      <td>6.387103</td>\n",
              "      <td>Tuesday</td>\n",
              "      <td>2016</td>\n",
              "      <td>1</td>\n",
              "      <td>19</td>\n",
              "      <td>35</td>\n",
              "      <td>2016</td>\n",
              "      <td>1</td>\n",
              "      <td>19</td>\n",
              "      <td>35</td>\n",
              "      <td>Tuesday</td>\n",
              "      <td>0</td>\n",
              "      <td>0</td>\n",
              "      <td>1</td>\n",
              "      <td>0</td>\n",
              "      <td>0</td>\n",
              "      <td>0</td>\n",
              "      <td>0</td>\n",
              "      <td>1</td>\n",
              "      <td>0</td>\n",
              "      <td>0</td>\n",
              "    </tr>\n",
              "    <tr>\n",
              "      <th>3</th>\n",
              "      <td>id3504673</td>\n",
              "      <td>2</td>\n",
              "      <td>2016-04-06 19:32:31</td>\n",
              "      <td>2016-04-06 19:32:31</td>\n",
              "      <td>1</td>\n",
              "      <td>-74.010040</td>\n",
              "      <td>40.719971</td>\n",
              "      <td>-74.012268</td>\n",
              "      <td>40.706718</td>\n",
              "      <td>N</td>\n",
              "      <td>0.119167</td>\n",
              "      <td>1.485965</td>\n",
              "      <td>Wednesday</td>\n",
              "      <td>2016</td>\n",
              "      <td>4</td>\n",
              "      <td>6</td>\n",
              "      <td>32</td>\n",
              "      <td>2016</td>\n",
              "      <td>4</td>\n",
              "      <td>6</td>\n",
              "      <td>32</td>\n",
              "      <td>Wednesday</td>\n",
              "      <td>0</td>\n",
              "      <td>0</td>\n",
              "      <td>0</td>\n",
              "      <td>0</td>\n",
              "      <td>1</td>\n",
              "      <td>0</td>\n",
              "      <td>0</td>\n",
              "      <td>0</td>\n",
              "      <td>0</td>\n",
              "      <td>1</td>\n",
              "    </tr>\n",
              "    <tr>\n",
              "      <th>4</th>\n",
              "      <td>id2181028</td>\n",
              "      <td>2</td>\n",
              "      <td>2016-03-26 13:30:55</td>\n",
              "      <td>2016-03-26 13:30:55</td>\n",
              "      <td>1</td>\n",
              "      <td>-73.973053</td>\n",
              "      <td>40.793209</td>\n",
              "      <td>-73.972923</td>\n",
              "      <td>40.782520</td>\n",
              "      <td>N</td>\n",
              "      <td>0.120833</td>\n",
              "      <td>1.188962</td>\n",
              "      <td>Saturday</td>\n",
              "      <td>2016</td>\n",
              "      <td>3</td>\n",
              "      <td>26</td>\n",
              "      <td>30</td>\n",
              "      <td>2016</td>\n",
              "      <td>3</td>\n",
              "      <td>26</td>\n",
              "      <td>30</td>\n",
              "      <td>Saturday</td>\n",
              "      <td>0</td>\n",
              "      <td>0</td>\n",
              "      <td>1</td>\n",
              "      <td>0</td>\n",
              "      <td>0</td>\n",
              "      <td>0</td>\n",
              "      <td>0</td>\n",
              "      <td>1</td>\n",
              "      <td>0</td>\n",
              "      <td>0</td>\n",
              "    </tr>\n",
              "  </tbody>\n",
              "</table>\n",
              "</div>"
            ],
            "text/plain": [
              "          id  ...  drop_hour_peak_hour_eve(16-19)\n",
              "0  id2875421  ...                               1\n",
              "1  id2377394  ...                               0\n",
              "2  id3858529  ...                               0\n",
              "3  id3504673  ...                               1\n",
              "4  id2181028  ...                               0\n",
              "\n",
              "[5 rows x 32 columns]"
            ]
          },
          "metadata": {
            "tags": []
          },
          "execution_count": 58
        }
      ]
    },
    {
      "cell_type": "code",
      "metadata": {
        "colab": {
          "base_uri": "https://localhost:8080/"
        },
        "id": "XTtxUuLxfKKt",
        "outputId": "4e25a2ca-1861-4422-dd4d-7f6788575b9c"
      },
      "source": [
        "df.shape"
      ],
      "execution_count": 59,
      "outputs": [
        {
          "output_type": "execute_result",
          "data": {
            "text/plain": [
              "(1458644, 32)"
            ]
          },
          "metadata": {
            "tags": []
          },
          "execution_count": 59
        }
      ]
    },
    {
      "cell_type": "code",
      "metadata": {
        "colab": {
          "base_uri": "https://localhost:8080/",
          "height": 322
        },
        "id": "lsla4ZgIfZrZ",
        "outputId": "f1bc7e1e-30f5-42ca-95a8-067e696e6cdb"
      },
      "source": [
        "df.head()"
      ],
      "execution_count": 60,
      "outputs": [
        {
          "output_type": "execute_result",
          "data": {
            "text/html": [
              "<div>\n",
              "<style scoped>\n",
              "    .dataframe tbody tr th:only-of-type {\n",
              "        vertical-align: middle;\n",
              "    }\n",
              "\n",
              "    .dataframe tbody tr th {\n",
              "        vertical-align: top;\n",
              "    }\n",
              "\n",
              "    .dataframe thead th {\n",
              "        text-align: right;\n",
              "    }\n",
              "</style>\n",
              "<table border=\"1\" class=\"dataframe\">\n",
              "  <thead>\n",
              "    <tr style=\"text-align: right;\">\n",
              "      <th></th>\n",
              "      <th>id</th>\n",
              "      <th>vendor_id</th>\n",
              "      <th>pickup_datetime</th>\n",
              "      <th>dropoff_datetime</th>\n",
              "      <th>passenger_count</th>\n",
              "      <th>pickup_longitude</th>\n",
              "      <th>pickup_latitude</th>\n",
              "      <th>dropoff_longitude</th>\n",
              "      <th>dropoff_latitude</th>\n",
              "      <th>store_and_fwd_flag</th>\n",
              "      <th>trip_duration</th>\n",
              "      <th>Travel_distance</th>\n",
              "      <th>Day</th>\n",
              "      <th>pick_year</th>\n",
              "      <th>pick_month</th>\n",
              "      <th>pick_day_num</th>\n",
              "      <th>pick_minute</th>\n",
              "      <th>drop_year</th>\n",
              "      <th>drop_month</th>\n",
              "      <th>drop_day_num</th>\n",
              "      <th>drop_minute</th>\n",
              "      <th>pick_Day</th>\n",
              "      <th>pick_hour_late_night(23 onwards)</th>\n",
              "      <th>pick_hour_morning_peak_hour(7-9)</th>\n",
              "      <th>pick_hour_non_peak_hour_afternoon(9-16)</th>\n",
              "      <th>pick_hour_non_peak_hour_eve(19-23)</th>\n",
              "      <th>pick_hour_peak_hour_eve(16-19)</th>\n",
              "      <th>drop_hour_late_night(23 onwards)</th>\n",
              "      <th>drop_hour_morning_peak_hour(7-9)</th>\n",
              "      <th>drop_hour_non_peak_hour_afternoon(9-16)</th>\n",
              "      <th>drop_hour_non_peak_hour_eve(19-23)</th>\n",
              "      <th>drop_hour_peak_hour_eve(16-19)</th>\n",
              "    </tr>\n",
              "  </thead>\n",
              "  <tbody>\n",
              "    <tr>\n",
              "      <th>0</th>\n",
              "      <td>id2875421</td>\n",
              "      <td>2</td>\n",
              "      <td>2016-03-14 17:24:55</td>\n",
              "      <td>2016-03-14 17:24:55</td>\n",
              "      <td>1</td>\n",
              "      <td>-73.982155</td>\n",
              "      <td>40.767937</td>\n",
              "      <td>-73.964630</td>\n",
              "      <td>40.765602</td>\n",
              "      <td>N</td>\n",
              "      <td>0.126389</td>\n",
              "      <td>1.498991</td>\n",
              "      <td>Monday</td>\n",
              "      <td>2016</td>\n",
              "      <td>3</td>\n",
              "      <td>14</td>\n",
              "      <td>24</td>\n",
              "      <td>2016</td>\n",
              "      <td>3</td>\n",
              "      <td>14</td>\n",
              "      <td>24</td>\n",
              "      <td>Monday</td>\n",
              "      <td>0</td>\n",
              "      <td>0</td>\n",
              "      <td>0</td>\n",
              "      <td>0</td>\n",
              "      <td>1</td>\n",
              "      <td>0</td>\n",
              "      <td>0</td>\n",
              "      <td>0</td>\n",
              "      <td>0</td>\n",
              "      <td>1</td>\n",
              "    </tr>\n",
              "    <tr>\n",
              "      <th>1</th>\n",
              "      <td>id2377394</td>\n",
              "      <td>1</td>\n",
              "      <td>2016-06-12 00:43:35</td>\n",
              "      <td>2016-06-12 00:43:35</td>\n",
              "      <td>1</td>\n",
              "      <td>-73.980415</td>\n",
              "      <td>40.738564</td>\n",
              "      <td>-73.999481</td>\n",
              "      <td>40.731152</td>\n",
              "      <td>N</td>\n",
              "      <td>0.184167</td>\n",
              "      <td>1.806074</td>\n",
              "      <td>Sunday</td>\n",
              "      <td>2016</td>\n",
              "      <td>6</td>\n",
              "      <td>12</td>\n",
              "      <td>43</td>\n",
              "      <td>2016</td>\n",
              "      <td>6</td>\n",
              "      <td>12</td>\n",
              "      <td>43</td>\n",
              "      <td>Sunday</td>\n",
              "      <td>1</td>\n",
              "      <td>0</td>\n",
              "      <td>0</td>\n",
              "      <td>0</td>\n",
              "      <td>0</td>\n",
              "      <td>1</td>\n",
              "      <td>0</td>\n",
              "      <td>0</td>\n",
              "      <td>0</td>\n",
              "      <td>0</td>\n",
              "    </tr>\n",
              "    <tr>\n",
              "      <th>2</th>\n",
              "      <td>id3858529</td>\n",
              "      <td>2</td>\n",
              "      <td>2016-01-19 11:35:24</td>\n",
              "      <td>2016-01-19 11:35:24</td>\n",
              "      <td>1</td>\n",
              "      <td>-73.979027</td>\n",
              "      <td>40.763939</td>\n",
              "      <td>-74.005333</td>\n",
              "      <td>40.710087</td>\n",
              "      <td>N</td>\n",
              "      <td>0.590000</td>\n",
              "      <td>6.387103</td>\n",
              "      <td>Tuesday</td>\n",
              "      <td>2016</td>\n",
              "      <td>1</td>\n",
              "      <td>19</td>\n",
              "      <td>35</td>\n",
              "      <td>2016</td>\n",
              "      <td>1</td>\n",
              "      <td>19</td>\n",
              "      <td>35</td>\n",
              "      <td>Tuesday</td>\n",
              "      <td>0</td>\n",
              "      <td>0</td>\n",
              "      <td>1</td>\n",
              "      <td>0</td>\n",
              "      <td>0</td>\n",
              "      <td>0</td>\n",
              "      <td>0</td>\n",
              "      <td>1</td>\n",
              "      <td>0</td>\n",
              "      <td>0</td>\n",
              "    </tr>\n",
              "    <tr>\n",
              "      <th>3</th>\n",
              "      <td>id3504673</td>\n",
              "      <td>2</td>\n",
              "      <td>2016-04-06 19:32:31</td>\n",
              "      <td>2016-04-06 19:32:31</td>\n",
              "      <td>1</td>\n",
              "      <td>-74.010040</td>\n",
              "      <td>40.719971</td>\n",
              "      <td>-74.012268</td>\n",
              "      <td>40.706718</td>\n",
              "      <td>N</td>\n",
              "      <td>0.119167</td>\n",
              "      <td>1.485965</td>\n",
              "      <td>Wednesday</td>\n",
              "      <td>2016</td>\n",
              "      <td>4</td>\n",
              "      <td>6</td>\n",
              "      <td>32</td>\n",
              "      <td>2016</td>\n",
              "      <td>4</td>\n",
              "      <td>6</td>\n",
              "      <td>32</td>\n",
              "      <td>Wednesday</td>\n",
              "      <td>0</td>\n",
              "      <td>0</td>\n",
              "      <td>0</td>\n",
              "      <td>0</td>\n",
              "      <td>1</td>\n",
              "      <td>0</td>\n",
              "      <td>0</td>\n",
              "      <td>0</td>\n",
              "      <td>0</td>\n",
              "      <td>1</td>\n",
              "    </tr>\n",
              "    <tr>\n",
              "      <th>4</th>\n",
              "      <td>id2181028</td>\n",
              "      <td>2</td>\n",
              "      <td>2016-03-26 13:30:55</td>\n",
              "      <td>2016-03-26 13:30:55</td>\n",
              "      <td>1</td>\n",
              "      <td>-73.973053</td>\n",
              "      <td>40.793209</td>\n",
              "      <td>-73.972923</td>\n",
              "      <td>40.782520</td>\n",
              "      <td>N</td>\n",
              "      <td>0.120833</td>\n",
              "      <td>1.188962</td>\n",
              "      <td>Saturday</td>\n",
              "      <td>2016</td>\n",
              "      <td>3</td>\n",
              "      <td>26</td>\n",
              "      <td>30</td>\n",
              "      <td>2016</td>\n",
              "      <td>3</td>\n",
              "      <td>26</td>\n",
              "      <td>30</td>\n",
              "      <td>Saturday</td>\n",
              "      <td>0</td>\n",
              "      <td>0</td>\n",
              "      <td>1</td>\n",
              "      <td>0</td>\n",
              "      <td>0</td>\n",
              "      <td>0</td>\n",
              "      <td>0</td>\n",
              "      <td>1</td>\n",
              "      <td>0</td>\n",
              "      <td>0</td>\n",
              "    </tr>\n",
              "  </tbody>\n",
              "</table>\n",
              "</div>"
            ],
            "text/plain": [
              "          id  ...  drop_hour_peak_hour_eve(16-19)\n",
              "0  id2875421  ...                               1\n",
              "1  id2377394  ...                               0\n",
              "2  id3858529  ...                               0\n",
              "3  id3504673  ...                               1\n",
              "4  id2181028  ...                               0\n",
              "\n",
              "[5 rows x 32 columns]"
            ]
          },
          "metadata": {
            "tags": []
          },
          "execution_count": 60
        }
      ]
    },
    {
      "cell_type": "code",
      "metadata": {
        "colab": {
          "base_uri": "https://localhost:8080/",
          "height": 325
        },
        "id": "qtnYdnaHfcc0",
        "outputId": "701cba01-7329-40b3-cb0a-02c012429cba"
      },
      "source": [
        "df.describe()"
      ],
      "execution_count": 61,
      "outputs": [
        {
          "output_type": "execute_result",
          "data": {
            "text/html": [
              "<div>\n",
              "<style scoped>\n",
              "    .dataframe tbody tr th:only-of-type {\n",
              "        vertical-align: middle;\n",
              "    }\n",
              "\n",
              "    .dataframe tbody tr th {\n",
              "        vertical-align: top;\n",
              "    }\n",
              "\n",
              "    .dataframe thead th {\n",
              "        text-align: right;\n",
              "    }\n",
              "</style>\n",
              "<table border=\"1\" class=\"dataframe\">\n",
              "  <thead>\n",
              "    <tr style=\"text-align: right;\">\n",
              "      <th></th>\n",
              "      <th>vendor_id</th>\n",
              "      <th>passenger_count</th>\n",
              "      <th>pickup_longitude</th>\n",
              "      <th>pickup_latitude</th>\n",
              "      <th>dropoff_longitude</th>\n",
              "      <th>dropoff_latitude</th>\n",
              "      <th>trip_duration</th>\n",
              "      <th>Travel_distance</th>\n",
              "      <th>pick_year</th>\n",
              "      <th>pick_month</th>\n",
              "      <th>pick_day_num</th>\n",
              "      <th>pick_minute</th>\n",
              "      <th>drop_year</th>\n",
              "      <th>drop_month</th>\n",
              "      <th>drop_day_num</th>\n",
              "      <th>drop_minute</th>\n",
              "      <th>pick_hour_late_night(23 onwards)</th>\n",
              "      <th>pick_hour_morning_peak_hour(7-9)</th>\n",
              "      <th>pick_hour_non_peak_hour_afternoon(9-16)</th>\n",
              "      <th>pick_hour_non_peak_hour_eve(19-23)</th>\n",
              "      <th>pick_hour_peak_hour_eve(16-19)</th>\n",
              "      <th>drop_hour_late_night(23 onwards)</th>\n",
              "      <th>drop_hour_morning_peak_hour(7-9)</th>\n",
              "      <th>drop_hour_non_peak_hour_afternoon(9-16)</th>\n",
              "      <th>drop_hour_non_peak_hour_eve(19-23)</th>\n",
              "      <th>drop_hour_peak_hour_eve(16-19)</th>\n",
              "    </tr>\n",
              "  </thead>\n",
              "  <tbody>\n",
              "    <tr>\n",
              "      <th>count</th>\n",
              "      <td>1.458644e+06</td>\n",
              "      <td>1.458644e+06</td>\n",
              "      <td>1.458644e+06</td>\n",
              "      <td>1.458644e+06</td>\n",
              "      <td>1.458644e+06</td>\n",
              "      <td>1.458644e+06</td>\n",
              "      <td>1.458644e+06</td>\n",
              "      <td>1.458644e+06</td>\n",
              "      <td>1458644.0</td>\n",
              "      <td>1.458644e+06</td>\n",
              "      <td>1.458644e+06</td>\n",
              "      <td>1.458644e+06</td>\n",
              "      <td>1458644.0</td>\n",
              "      <td>1.458644e+06</td>\n",
              "      <td>1.458644e+06</td>\n",
              "      <td>1.458644e+06</td>\n",
              "      <td>1.458644e+06</td>\n",
              "      <td>1.458644e+06</td>\n",
              "      <td>1.458644e+06</td>\n",
              "      <td>1.458644e+06</td>\n",
              "      <td>1.458644e+06</td>\n",
              "      <td>1.458644e+06</td>\n",
              "      <td>1.458644e+06</td>\n",
              "      <td>1.458644e+06</td>\n",
              "      <td>1.458644e+06</td>\n",
              "      <td>1.458644e+06</td>\n",
              "    </tr>\n",
              "    <tr>\n",
              "      <th>mean</th>\n",
              "      <td>1.534950e+00</td>\n",
              "      <td>1.664530e+00</td>\n",
              "      <td>-7.397349e+01</td>\n",
              "      <td>4.075092e+01</td>\n",
              "      <td>-7.397342e+01</td>\n",
              "      <td>4.075180e+01</td>\n",
              "      <td>2.665256e-01</td>\n",
              "      <td>3.441944e+00</td>\n",
              "      <td>2016.0</td>\n",
              "      <td>3.516818e+00</td>\n",
              "      <td>1.550402e+01</td>\n",
              "      <td>2.959016e+01</td>\n",
              "      <td>2016.0</td>\n",
              "      <td>3.516818e+00</td>\n",
              "      <td>1.550402e+01</td>\n",
              "      <td>2.959016e+01</td>\n",
              "      <td>1.403550e-01</td>\n",
              "      <td>1.304746e-01</td>\n",
              "      <td>2.902435e-01</td>\n",
              "      <td>2.183768e-01</td>\n",
              "      <td>2.205500e-01</td>\n",
              "      <td>1.403550e-01</td>\n",
              "      <td>1.304746e-01</td>\n",
              "      <td>2.902435e-01</td>\n",
              "      <td>2.183768e-01</td>\n",
              "      <td>2.205500e-01</td>\n",
              "    </tr>\n",
              "    <tr>\n",
              "      <th>std</th>\n",
              "      <td>4.987772e-01</td>\n",
              "      <td>1.314242e+00</td>\n",
              "      <td>7.090186e-02</td>\n",
              "      <td>3.288119e-02</td>\n",
              "      <td>7.064327e-02</td>\n",
              "      <td>3.589056e-02</td>\n",
              "      <td>1.454842e+00</td>\n",
              "      <td>4.297887e+00</td>\n",
              "      <td>0.0</td>\n",
              "      <td>1.681038e+00</td>\n",
              "      <td>8.703135e+00</td>\n",
              "      <td>1.732471e+01</td>\n",
              "      <td>0.0</td>\n",
              "      <td>1.681038e+00</td>\n",
              "      <td>8.703135e+00</td>\n",
              "      <td>1.732471e+01</td>\n",
              "      <td>3.473551e-01</td>\n",
              "      <td>3.368250e-01</td>\n",
              "      <td>4.538748e-01</td>\n",
              "      <td>4.131446e-01</td>\n",
              "      <td>4.146177e-01</td>\n",
              "      <td>3.473551e-01</td>\n",
              "      <td>3.368250e-01</td>\n",
              "      <td>4.538748e-01</td>\n",
              "      <td>4.131446e-01</td>\n",
              "      <td>4.146177e-01</td>\n",
              "    </tr>\n",
              "    <tr>\n",
              "      <th>min</th>\n",
              "      <td>1.000000e+00</td>\n",
              "      <td>0.000000e+00</td>\n",
              "      <td>-1.219333e+02</td>\n",
              "      <td>3.435970e+01</td>\n",
              "      <td>-1.219333e+02</td>\n",
              "      <td>3.218114e+01</td>\n",
              "      <td>2.777778e-04</td>\n",
              "      <td>0.000000e+00</td>\n",
              "      <td>2016.0</td>\n",
              "      <td>1.000000e+00</td>\n",
              "      <td>1.000000e+00</td>\n",
              "      <td>0.000000e+00</td>\n",
              "      <td>2016.0</td>\n",
              "      <td>1.000000e+00</td>\n",
              "      <td>1.000000e+00</td>\n",
              "      <td>0.000000e+00</td>\n",
              "      <td>0.000000e+00</td>\n",
              "      <td>0.000000e+00</td>\n",
              "      <td>0.000000e+00</td>\n",
              "      <td>0.000000e+00</td>\n",
              "      <td>0.000000e+00</td>\n",
              "      <td>0.000000e+00</td>\n",
              "      <td>0.000000e+00</td>\n",
              "      <td>0.000000e+00</td>\n",
              "      <td>0.000000e+00</td>\n",
              "      <td>0.000000e+00</td>\n",
              "    </tr>\n",
              "    <tr>\n",
              "      <th>25%</th>\n",
              "      <td>1.000000e+00</td>\n",
              "      <td>1.000000e+00</td>\n",
              "      <td>-7.399187e+01</td>\n",
              "      <td>4.073735e+01</td>\n",
              "      <td>-7.399133e+01</td>\n",
              "      <td>4.073588e+01</td>\n",
              "      <td>1.102778e-01</td>\n",
              "      <td>1.232223e+00</td>\n",
              "      <td>2016.0</td>\n",
              "      <td>2.000000e+00</td>\n",
              "      <td>8.000000e+00</td>\n",
              "      <td>1.500000e+01</td>\n",
              "      <td>2016.0</td>\n",
              "      <td>2.000000e+00</td>\n",
              "      <td>8.000000e+00</td>\n",
              "      <td>1.500000e+01</td>\n",
              "      <td>0.000000e+00</td>\n",
              "      <td>0.000000e+00</td>\n",
              "      <td>0.000000e+00</td>\n",
              "      <td>0.000000e+00</td>\n",
              "      <td>0.000000e+00</td>\n",
              "      <td>0.000000e+00</td>\n",
              "      <td>0.000000e+00</td>\n",
              "      <td>0.000000e+00</td>\n",
              "      <td>0.000000e+00</td>\n",
              "      <td>0.000000e+00</td>\n",
              "    </tr>\n",
              "    <tr>\n",
              "      <th>50%</th>\n",
              "      <td>2.000000e+00</td>\n",
              "      <td>1.000000e+00</td>\n",
              "      <td>-7.398174e+01</td>\n",
              "      <td>4.075410e+01</td>\n",
              "      <td>-7.397975e+01</td>\n",
              "      <td>4.075452e+01</td>\n",
              "      <td>1.838889e-01</td>\n",
              "      <td>2.094374e+00</td>\n",
              "      <td>2016.0</td>\n",
              "      <td>4.000000e+00</td>\n",
              "      <td>1.500000e+01</td>\n",
              "      <td>3.000000e+01</td>\n",
              "      <td>2016.0</td>\n",
              "      <td>4.000000e+00</td>\n",
              "      <td>1.500000e+01</td>\n",
              "      <td>3.000000e+01</td>\n",
              "      <td>0.000000e+00</td>\n",
              "      <td>0.000000e+00</td>\n",
              "      <td>0.000000e+00</td>\n",
              "      <td>0.000000e+00</td>\n",
              "      <td>0.000000e+00</td>\n",
              "      <td>0.000000e+00</td>\n",
              "      <td>0.000000e+00</td>\n",
              "      <td>0.000000e+00</td>\n",
              "      <td>0.000000e+00</td>\n",
              "      <td>0.000000e+00</td>\n",
              "    </tr>\n",
              "    <tr>\n",
              "      <th>75%</th>\n",
              "      <td>2.000000e+00</td>\n",
              "      <td>2.000000e+00</td>\n",
              "      <td>-7.396733e+01</td>\n",
              "      <td>4.076836e+01</td>\n",
              "      <td>-7.396301e+01</td>\n",
              "      <td>4.076981e+01</td>\n",
              "      <td>2.986111e-01</td>\n",
              "      <td>3.876554e+00</td>\n",
              "      <td>2016.0</td>\n",
              "      <td>5.000000e+00</td>\n",
              "      <td>2.300000e+01</td>\n",
              "      <td>4.500000e+01</td>\n",
              "      <td>2016.0</td>\n",
              "      <td>5.000000e+00</td>\n",
              "      <td>2.300000e+01</td>\n",
              "      <td>4.500000e+01</td>\n",
              "      <td>0.000000e+00</td>\n",
              "      <td>0.000000e+00</td>\n",
              "      <td>1.000000e+00</td>\n",
              "      <td>0.000000e+00</td>\n",
              "      <td>0.000000e+00</td>\n",
              "      <td>0.000000e+00</td>\n",
              "      <td>0.000000e+00</td>\n",
              "      <td>1.000000e+00</td>\n",
              "      <td>0.000000e+00</td>\n",
              "      <td>0.000000e+00</td>\n",
              "    </tr>\n",
              "    <tr>\n",
              "      <th>max</th>\n",
              "      <td>2.000000e+00</td>\n",
              "      <td>9.000000e+00</td>\n",
              "      <td>-6.133553e+01</td>\n",
              "      <td>5.188108e+01</td>\n",
              "      <td>-6.133553e+01</td>\n",
              "      <td>4.392103e+01</td>\n",
              "      <td>9.795228e+02</td>\n",
              "      <td>1.241298e+03</td>\n",
              "      <td>2016.0</td>\n",
              "      <td>6.000000e+00</td>\n",
              "      <td>3.100000e+01</td>\n",
              "      <td>5.900000e+01</td>\n",
              "      <td>2016.0</td>\n",
              "      <td>6.000000e+00</td>\n",
              "      <td>3.100000e+01</td>\n",
              "      <td>5.900000e+01</td>\n",
              "      <td>1.000000e+00</td>\n",
              "      <td>1.000000e+00</td>\n",
              "      <td>1.000000e+00</td>\n",
              "      <td>1.000000e+00</td>\n",
              "      <td>1.000000e+00</td>\n",
              "      <td>1.000000e+00</td>\n",
              "      <td>1.000000e+00</td>\n",
              "      <td>1.000000e+00</td>\n",
              "      <td>1.000000e+00</td>\n",
              "      <td>1.000000e+00</td>\n",
              "    </tr>\n",
              "  </tbody>\n",
              "</table>\n",
              "</div>"
            ],
            "text/plain": [
              "          vendor_id  ...  drop_hour_peak_hour_eve(16-19)\n",
              "count  1.458644e+06  ...                    1.458644e+06\n",
              "mean   1.534950e+00  ...                    2.205500e-01\n",
              "std    4.987772e-01  ...                    4.146177e-01\n",
              "min    1.000000e+00  ...                    0.000000e+00\n",
              "25%    1.000000e+00  ...                    0.000000e+00\n",
              "50%    2.000000e+00  ...                    0.000000e+00\n",
              "75%    2.000000e+00  ...                    0.000000e+00\n",
              "max    2.000000e+00  ...                    1.000000e+00\n",
              "\n",
              "[8 rows x 26 columns]"
            ]
          },
          "metadata": {
            "tags": []
          },
          "execution_count": 61
        }
      ]
    },
    {
      "cell_type": "code",
      "metadata": {
        "colab": {
          "base_uri": "https://localhost:8080/"
        },
        "id": "nXzF82mIHdrX",
        "outputId": "166c58a7-6caf-4056-f303-6e8beaa0cb0c"
      },
      "source": [
        "Q1 = np.percentile(df['trip_duration'],25)\r\n",
        "print(Q1)\r\n",
        "Q3= np.percentile(df['trip_duration'],75)\r\n",
        "print(Q3)\r\n",
        "IQR=Q3 - Q1\r\n"
      ],
      "execution_count": 62,
      "outputs": [
        {
          "output_type": "stream",
          "text": [
            "0.11027777777777778\n",
            "0.2986111111111111\n"
          ],
          "name": "stdout"
        }
      ]
    },
    {
      "cell_type": "code",
      "metadata": {
        "id": "q1MoDawRLvpv"
      },
      "source": [
        "L=Q1-1.5*IQR\r\n",
        "U=Q3+1.5*IQR\r\n"
      ],
      "execution_count": 63,
      "outputs": []
    },
    {
      "cell_type": "code",
      "metadata": {
        "id": "EmAZkmopMSdh"
      },
      "source": [
        "df=df[(df['trip_duration']<U) & (df['trip_duration']>L)]"
      ],
      "execution_count": 64,
      "outputs": []
    },
    {
      "cell_type": "code",
      "metadata": {
        "colab": {
          "base_uri": "https://localhost:8080/"
        },
        "id": "xDvGrWfmlB18",
        "outputId": "a2b3e81d-f2b1-416e-e5c9-24617dcd1ad0"
      },
      "source": [
        "df.shape"
      ],
      "execution_count": 65,
      "outputs": [
        {
          "output_type": "execute_result",
          "data": {
            "text/plain": [
              "(1384320, 32)"
            ]
          },
          "metadata": {
            "tags": []
          },
          "execution_count": 65
        }
      ]
    },
    {
      "cell_type": "code",
      "metadata": {
        "colab": {
          "base_uri": "https://localhost:8080/",
          "height": 325
        },
        "id": "a8yGq_w86BH3",
        "outputId": "6380a529-553b-4cb3-d404-dadee4587e2b"
      },
      "source": [
        "df.describe()"
      ],
      "execution_count": 66,
      "outputs": [
        {
          "output_type": "execute_result",
          "data": {
            "text/html": [
              "<div>\n",
              "<style scoped>\n",
              "    .dataframe tbody tr th:only-of-type {\n",
              "        vertical-align: middle;\n",
              "    }\n",
              "\n",
              "    .dataframe tbody tr th {\n",
              "        vertical-align: top;\n",
              "    }\n",
              "\n",
              "    .dataframe thead th {\n",
              "        text-align: right;\n",
              "    }\n",
              "</style>\n",
              "<table border=\"1\" class=\"dataframe\">\n",
              "  <thead>\n",
              "    <tr style=\"text-align: right;\">\n",
              "      <th></th>\n",
              "      <th>vendor_id</th>\n",
              "      <th>passenger_count</th>\n",
              "      <th>pickup_longitude</th>\n",
              "      <th>pickup_latitude</th>\n",
              "      <th>dropoff_longitude</th>\n",
              "      <th>dropoff_latitude</th>\n",
              "      <th>trip_duration</th>\n",
              "      <th>Travel_distance</th>\n",
              "      <th>pick_year</th>\n",
              "      <th>pick_month</th>\n",
              "      <th>pick_day_num</th>\n",
              "      <th>pick_minute</th>\n",
              "      <th>drop_year</th>\n",
              "      <th>drop_month</th>\n",
              "      <th>drop_day_num</th>\n",
              "      <th>drop_minute</th>\n",
              "      <th>pick_hour_late_night(23 onwards)</th>\n",
              "      <th>pick_hour_morning_peak_hour(7-9)</th>\n",
              "      <th>pick_hour_non_peak_hour_afternoon(9-16)</th>\n",
              "      <th>pick_hour_non_peak_hour_eve(19-23)</th>\n",
              "      <th>pick_hour_peak_hour_eve(16-19)</th>\n",
              "      <th>drop_hour_late_night(23 onwards)</th>\n",
              "      <th>drop_hour_morning_peak_hour(7-9)</th>\n",
              "      <th>drop_hour_non_peak_hour_afternoon(9-16)</th>\n",
              "      <th>drop_hour_non_peak_hour_eve(19-23)</th>\n",
              "      <th>drop_hour_peak_hour_eve(16-19)</th>\n",
              "    </tr>\n",
              "  </thead>\n",
              "  <tbody>\n",
              "    <tr>\n",
              "      <th>count</th>\n",
              "      <td>1.384320e+06</td>\n",
              "      <td>1.384320e+06</td>\n",
              "      <td>1.384320e+06</td>\n",
              "      <td>1.384320e+06</td>\n",
              "      <td>1.384320e+06</td>\n",
              "      <td>1.384320e+06</td>\n",
              "      <td>1.384320e+06</td>\n",
              "      <td>1.384320e+06</td>\n",
              "      <td>1384320.0</td>\n",
              "      <td>1.384320e+06</td>\n",
              "      <td>1.384320e+06</td>\n",
              "      <td>1.384320e+06</td>\n",
              "      <td>1384320.0</td>\n",
              "      <td>1.384320e+06</td>\n",
              "      <td>1.384320e+06</td>\n",
              "      <td>1.384320e+06</td>\n",
              "      <td>1.384320e+06</td>\n",
              "      <td>1.384320e+06</td>\n",
              "      <td>1.384320e+06</td>\n",
              "      <td>1.384320e+06</td>\n",
              "      <td>1.384320e+06</td>\n",
              "      <td>1.384320e+06</td>\n",
              "      <td>1.384320e+06</td>\n",
              "      <td>1.384320e+06</td>\n",
              "      <td>1.384320e+06</td>\n",
              "      <td>1.384320e+06</td>\n",
              "    </tr>\n",
              "    <tr>\n",
              "      <th>mean</th>\n",
              "      <td>1.533519e+00</td>\n",
              "      <td>1.660958e+00</td>\n",
              "      <td>-7.397674e+01</td>\n",
              "      <td>4.075224e+01</td>\n",
              "      <td>-7.397494e+01</td>\n",
              "      <td>4.075287e+01</td>\n",
              "      <td>2.032223e-01</td>\n",
              "      <td>2.912353e+00</td>\n",
              "      <td>2016.0</td>\n",
              "      <td>3.500096e+00</td>\n",
              "      <td>1.549163e+01</td>\n",
              "      <td>2.961886e+01</td>\n",
              "      <td>2016.0</td>\n",
              "      <td>3.500096e+00</td>\n",
              "      <td>1.549163e+01</td>\n",
              "      <td>2.961886e+01</td>\n",
              "      <td>1.441545e-01</td>\n",
              "      <td>1.310441e-01</td>\n",
              "      <td>2.851826e-01</td>\n",
              "      <td>2.224298e-01</td>\n",
              "      <td>2.171889e-01</td>\n",
              "      <td>1.441545e-01</td>\n",
              "      <td>1.310441e-01</td>\n",
              "      <td>2.851826e-01</td>\n",
              "      <td>2.224298e-01</td>\n",
              "      <td>2.171889e-01</td>\n",
              "    </tr>\n",
              "    <tr>\n",
              "      <th>std</th>\n",
              "      <td>4.988754e-01</td>\n",
              "      <td>1.312743e+00</td>\n",
              "      <td>6.836562e-02</td>\n",
              "      <td>3.094072e-02</td>\n",
              "      <td>6.912880e-02</td>\n",
              "      <td>3.380612e-02</td>\n",
              "      <td>1.244360e-01</td>\n",
              "      <td>3.293087e+00</td>\n",
              "      <td>0.0</td>\n",
              "      <td>1.679744e+00</td>\n",
              "      <td>8.710773e+00</td>\n",
              "      <td>1.732178e+01</td>\n",
              "      <td>0.0</td>\n",
              "      <td>1.679744e+00</td>\n",
              "      <td>8.710773e+00</td>\n",
              "      <td>1.732178e+01</td>\n",
              "      <td>3.512465e-01</td>\n",
              "      <td>3.374487e-01</td>\n",
              "      <td>4.515015e-01</td>\n",
              "      <td>4.158785e-01</td>\n",
              "      <td>4.123324e-01</td>\n",
              "      <td>3.512465e-01</td>\n",
              "      <td>3.374487e-01</td>\n",
              "      <td>4.515015e-01</td>\n",
              "      <td>4.158785e-01</td>\n",
              "      <td>4.123324e-01</td>\n",
              "    </tr>\n",
              "    <tr>\n",
              "      <th>min</th>\n",
              "      <td>1.000000e+00</td>\n",
              "      <td>0.000000e+00</td>\n",
              "      <td>-1.219333e+02</td>\n",
              "      <td>3.435970e+01</td>\n",
              "      <td>-1.219333e+02</td>\n",
              "      <td>3.218114e+01</td>\n",
              "      <td>2.777778e-04</td>\n",
              "      <td>0.000000e+00</td>\n",
              "      <td>2016.0</td>\n",
              "      <td>1.000000e+00</td>\n",
              "      <td>1.000000e+00</td>\n",
              "      <td>0.000000e+00</td>\n",
              "      <td>2016.0</td>\n",
              "      <td>1.000000e+00</td>\n",
              "      <td>1.000000e+00</td>\n",
              "      <td>0.000000e+00</td>\n",
              "      <td>0.000000e+00</td>\n",
              "      <td>0.000000e+00</td>\n",
              "      <td>0.000000e+00</td>\n",
              "      <td>0.000000e+00</td>\n",
              "      <td>0.000000e+00</td>\n",
              "      <td>0.000000e+00</td>\n",
              "      <td>0.000000e+00</td>\n",
              "      <td>0.000000e+00</td>\n",
              "      <td>0.000000e+00</td>\n",
              "      <td>0.000000e+00</td>\n",
              "    </tr>\n",
              "    <tr>\n",
              "      <th>25%</th>\n",
              "      <td>1.000000e+00</td>\n",
              "      <td>1.000000e+00</td>\n",
              "      <td>-7.399203e+01</td>\n",
              "      <td>4.073819e+01</td>\n",
              "      <td>-7.399140e+01</td>\n",
              "      <td>4.073706e+01</td>\n",
              "      <td>1.066667e-01</td>\n",
              "      <td>1.198579e+00</td>\n",
              "      <td>2016.0</td>\n",
              "      <td>2.000000e+00</td>\n",
              "      <td>8.000000e+00</td>\n",
              "      <td>1.500000e+01</td>\n",
              "      <td>2016.0</td>\n",
              "      <td>2.000000e+00</td>\n",
              "      <td>8.000000e+00</td>\n",
              "      <td>1.500000e+01</td>\n",
              "      <td>0.000000e+00</td>\n",
              "      <td>0.000000e+00</td>\n",
              "      <td>0.000000e+00</td>\n",
              "      <td>0.000000e+00</td>\n",
              "      <td>0.000000e+00</td>\n",
              "      <td>0.000000e+00</td>\n",
              "      <td>0.000000e+00</td>\n",
              "      <td>0.000000e+00</td>\n",
              "      <td>0.000000e+00</td>\n",
              "      <td>0.000000e+00</td>\n",
              "    </tr>\n",
              "    <tr>\n",
              "      <th>50%</th>\n",
              "      <td>2.000000e+00</td>\n",
              "      <td>1.000000e+00</td>\n",
              "      <td>-7.398201e+01</td>\n",
              "      <td>4.075438e+01</td>\n",
              "      <td>-7.397998e+01</td>\n",
              "      <td>4.075485e+01</td>\n",
              "      <td>1.755556e-01</td>\n",
              "      <td>1.993074e+00</td>\n",
              "      <td>2016.0</td>\n",
              "      <td>3.000000e+00</td>\n",
              "      <td>1.500000e+01</td>\n",
              "      <td>3.000000e+01</td>\n",
              "      <td>2016.0</td>\n",
              "      <td>3.000000e+00</td>\n",
              "      <td>1.500000e+01</td>\n",
              "      <td>3.000000e+01</td>\n",
              "      <td>0.000000e+00</td>\n",
              "      <td>0.000000e+00</td>\n",
              "      <td>0.000000e+00</td>\n",
              "      <td>0.000000e+00</td>\n",
              "      <td>0.000000e+00</td>\n",
              "      <td>0.000000e+00</td>\n",
              "      <td>0.000000e+00</td>\n",
              "      <td>0.000000e+00</td>\n",
              "      <td>0.000000e+00</td>\n",
              "      <td>0.000000e+00</td>\n",
              "    </tr>\n",
              "    <tr>\n",
              "      <th>75%</th>\n",
              "      <td>2.000000e+00</td>\n",
              "      <td>2.000000e+00</td>\n",
              "      <td>-7.396843e+01</td>\n",
              "      <td>4.076829e+01</td>\n",
              "      <td>-7.396389e+01</td>\n",
              "      <td>4.077006e+01</td>\n",
              "      <td>2.752778e-01</td>\n",
              "      <td>3.486688e+00</td>\n",
              "      <td>2016.0</td>\n",
              "      <td>5.000000e+00</td>\n",
              "      <td>2.300000e+01</td>\n",
              "      <td>4.500000e+01</td>\n",
              "      <td>2016.0</td>\n",
              "      <td>5.000000e+00</td>\n",
              "      <td>2.300000e+01</td>\n",
              "      <td>4.500000e+01</td>\n",
              "      <td>0.000000e+00</td>\n",
              "      <td>0.000000e+00</td>\n",
              "      <td>1.000000e+00</td>\n",
              "      <td>0.000000e+00</td>\n",
              "      <td>0.000000e+00</td>\n",
              "      <td>0.000000e+00</td>\n",
              "      <td>0.000000e+00</td>\n",
              "      <td>1.000000e+00</td>\n",
              "      <td>0.000000e+00</td>\n",
              "      <td>0.000000e+00</td>\n",
              "    </tr>\n",
              "    <tr>\n",
              "      <th>max</th>\n",
              "      <td>2.000000e+00</td>\n",
              "      <td>9.000000e+00</td>\n",
              "      <td>-6.133553e+01</td>\n",
              "      <td>5.188108e+01</td>\n",
              "      <td>-6.133553e+01</td>\n",
              "      <td>4.391176e+01</td>\n",
              "      <td>5.808333e-01</td>\n",
              "      <td>1.241298e+03</td>\n",
              "      <td>2016.0</td>\n",
              "      <td>6.000000e+00</td>\n",
              "      <td>3.100000e+01</td>\n",
              "      <td>5.900000e+01</td>\n",
              "      <td>2016.0</td>\n",
              "      <td>6.000000e+00</td>\n",
              "      <td>3.100000e+01</td>\n",
              "      <td>5.900000e+01</td>\n",
              "      <td>1.000000e+00</td>\n",
              "      <td>1.000000e+00</td>\n",
              "      <td>1.000000e+00</td>\n",
              "      <td>1.000000e+00</td>\n",
              "      <td>1.000000e+00</td>\n",
              "      <td>1.000000e+00</td>\n",
              "      <td>1.000000e+00</td>\n",
              "      <td>1.000000e+00</td>\n",
              "      <td>1.000000e+00</td>\n",
              "      <td>1.000000e+00</td>\n",
              "    </tr>\n",
              "  </tbody>\n",
              "</table>\n",
              "</div>"
            ],
            "text/plain": [
              "          vendor_id  ...  drop_hour_peak_hour_eve(16-19)\n",
              "count  1.384320e+06  ...                    1.384320e+06\n",
              "mean   1.533519e+00  ...                    2.171889e-01\n",
              "std    4.988754e-01  ...                    4.123324e-01\n",
              "min    1.000000e+00  ...                    0.000000e+00\n",
              "25%    1.000000e+00  ...                    0.000000e+00\n",
              "50%    2.000000e+00  ...                    0.000000e+00\n",
              "75%    2.000000e+00  ...                    0.000000e+00\n",
              "max    2.000000e+00  ...                    1.000000e+00\n",
              "\n",
              "[8 rows x 26 columns]"
            ]
          },
          "metadata": {
            "tags": []
          },
          "execution_count": 66
        }
      ]
    },
    {
      "cell_type": "code",
      "metadata": {
        "id": "85-g6w187ZE7"
      },
      "source": [
        "df['speed_kmph']=df['Travel_distance']/df['trip_duration']"
      ],
      "execution_count": 67,
      "outputs": []
    },
    {
      "cell_type": "code",
      "metadata": {
        "colab": {
          "base_uri": "https://localhost:8080/",
          "height": 322
        },
        "id": "onPfiOHm8FSI",
        "outputId": "c3624715-77b5-4f3c-91bc-3d214440349b"
      },
      "source": [
        "df.head()"
      ],
      "execution_count": 68,
      "outputs": [
        {
          "output_type": "execute_result",
          "data": {
            "text/html": [
              "<div>\n",
              "<style scoped>\n",
              "    .dataframe tbody tr th:only-of-type {\n",
              "        vertical-align: middle;\n",
              "    }\n",
              "\n",
              "    .dataframe tbody tr th {\n",
              "        vertical-align: top;\n",
              "    }\n",
              "\n",
              "    .dataframe thead th {\n",
              "        text-align: right;\n",
              "    }\n",
              "</style>\n",
              "<table border=\"1\" class=\"dataframe\">\n",
              "  <thead>\n",
              "    <tr style=\"text-align: right;\">\n",
              "      <th></th>\n",
              "      <th>id</th>\n",
              "      <th>vendor_id</th>\n",
              "      <th>pickup_datetime</th>\n",
              "      <th>dropoff_datetime</th>\n",
              "      <th>passenger_count</th>\n",
              "      <th>pickup_longitude</th>\n",
              "      <th>pickup_latitude</th>\n",
              "      <th>dropoff_longitude</th>\n",
              "      <th>dropoff_latitude</th>\n",
              "      <th>store_and_fwd_flag</th>\n",
              "      <th>trip_duration</th>\n",
              "      <th>Travel_distance</th>\n",
              "      <th>Day</th>\n",
              "      <th>pick_year</th>\n",
              "      <th>pick_month</th>\n",
              "      <th>pick_day_num</th>\n",
              "      <th>pick_minute</th>\n",
              "      <th>drop_year</th>\n",
              "      <th>drop_month</th>\n",
              "      <th>drop_day_num</th>\n",
              "      <th>drop_minute</th>\n",
              "      <th>pick_Day</th>\n",
              "      <th>pick_hour_late_night(23 onwards)</th>\n",
              "      <th>pick_hour_morning_peak_hour(7-9)</th>\n",
              "      <th>pick_hour_non_peak_hour_afternoon(9-16)</th>\n",
              "      <th>pick_hour_non_peak_hour_eve(19-23)</th>\n",
              "      <th>pick_hour_peak_hour_eve(16-19)</th>\n",
              "      <th>drop_hour_late_night(23 onwards)</th>\n",
              "      <th>drop_hour_morning_peak_hour(7-9)</th>\n",
              "      <th>drop_hour_non_peak_hour_afternoon(9-16)</th>\n",
              "      <th>drop_hour_non_peak_hour_eve(19-23)</th>\n",
              "      <th>drop_hour_peak_hour_eve(16-19)</th>\n",
              "      <th>speed_kmph</th>\n",
              "    </tr>\n",
              "  </thead>\n",
              "  <tbody>\n",
              "    <tr>\n",
              "      <th>0</th>\n",
              "      <td>id2875421</td>\n",
              "      <td>2</td>\n",
              "      <td>2016-03-14 17:24:55</td>\n",
              "      <td>2016-03-14 17:24:55</td>\n",
              "      <td>1</td>\n",
              "      <td>-73.982155</td>\n",
              "      <td>40.767937</td>\n",
              "      <td>-73.964630</td>\n",
              "      <td>40.765602</td>\n",
              "      <td>N</td>\n",
              "      <td>0.126389</td>\n",
              "      <td>1.498991</td>\n",
              "      <td>Monday</td>\n",
              "      <td>2016</td>\n",
              "      <td>3</td>\n",
              "      <td>14</td>\n",
              "      <td>24</td>\n",
              "      <td>2016</td>\n",
              "      <td>3</td>\n",
              "      <td>14</td>\n",
              "      <td>24</td>\n",
              "      <td>Monday</td>\n",
              "      <td>0</td>\n",
              "      <td>0</td>\n",
              "      <td>0</td>\n",
              "      <td>0</td>\n",
              "      <td>1</td>\n",
              "      <td>0</td>\n",
              "      <td>0</td>\n",
              "      <td>0</td>\n",
              "      <td>0</td>\n",
              "      <td>1</td>\n",
              "      <td>11.860150</td>\n",
              "    </tr>\n",
              "    <tr>\n",
              "      <th>1</th>\n",
              "      <td>id2377394</td>\n",
              "      <td>1</td>\n",
              "      <td>2016-06-12 00:43:35</td>\n",
              "      <td>2016-06-12 00:43:35</td>\n",
              "      <td>1</td>\n",
              "      <td>-73.980415</td>\n",
              "      <td>40.738564</td>\n",
              "      <td>-73.999481</td>\n",
              "      <td>40.731152</td>\n",
              "      <td>N</td>\n",
              "      <td>0.184167</td>\n",
              "      <td>1.806074</td>\n",
              "      <td>Sunday</td>\n",
              "      <td>2016</td>\n",
              "      <td>6</td>\n",
              "      <td>12</td>\n",
              "      <td>43</td>\n",
              "      <td>2016</td>\n",
              "      <td>6</td>\n",
              "      <td>12</td>\n",
              "      <td>43</td>\n",
              "      <td>Sunday</td>\n",
              "      <td>1</td>\n",
              "      <td>0</td>\n",
              "      <td>0</td>\n",
              "      <td>0</td>\n",
              "      <td>0</td>\n",
              "      <td>1</td>\n",
              "      <td>0</td>\n",
              "      <td>0</td>\n",
              "      <td>0</td>\n",
              "      <td>0</td>\n",
              "      <td>9.806736</td>\n",
              "    </tr>\n",
              "    <tr>\n",
              "      <th>3</th>\n",
              "      <td>id3504673</td>\n",
              "      <td>2</td>\n",
              "      <td>2016-04-06 19:32:31</td>\n",
              "      <td>2016-04-06 19:32:31</td>\n",
              "      <td>1</td>\n",
              "      <td>-74.010040</td>\n",
              "      <td>40.719971</td>\n",
              "      <td>-74.012268</td>\n",
              "      <td>40.706718</td>\n",
              "      <td>N</td>\n",
              "      <td>0.119167</td>\n",
              "      <td>1.485965</td>\n",
              "      <td>Wednesday</td>\n",
              "      <td>2016</td>\n",
              "      <td>4</td>\n",
              "      <td>6</td>\n",
              "      <td>32</td>\n",
              "      <td>2016</td>\n",
              "      <td>4</td>\n",
              "      <td>6</td>\n",
              "      <td>32</td>\n",
              "      <td>Wednesday</td>\n",
              "      <td>0</td>\n",
              "      <td>0</td>\n",
              "      <td>0</td>\n",
              "      <td>0</td>\n",
              "      <td>1</td>\n",
              "      <td>0</td>\n",
              "      <td>0</td>\n",
              "      <td>0</td>\n",
              "      <td>0</td>\n",
              "      <td>1</td>\n",
              "      <td>12.469634</td>\n",
              "    </tr>\n",
              "    <tr>\n",
              "      <th>4</th>\n",
              "      <td>id2181028</td>\n",
              "      <td>2</td>\n",
              "      <td>2016-03-26 13:30:55</td>\n",
              "      <td>2016-03-26 13:30:55</td>\n",
              "      <td>1</td>\n",
              "      <td>-73.973053</td>\n",
              "      <td>40.793209</td>\n",
              "      <td>-73.972923</td>\n",
              "      <td>40.782520</td>\n",
              "      <td>N</td>\n",
              "      <td>0.120833</td>\n",
              "      <td>1.188962</td>\n",
              "      <td>Saturday</td>\n",
              "      <td>2016</td>\n",
              "      <td>3</td>\n",
              "      <td>26</td>\n",
              "      <td>30</td>\n",
              "      <td>2016</td>\n",
              "      <td>3</td>\n",
              "      <td>26</td>\n",
              "      <td>30</td>\n",
              "      <td>Saturday</td>\n",
              "      <td>0</td>\n",
              "      <td>0</td>\n",
              "      <td>1</td>\n",
              "      <td>0</td>\n",
              "      <td>0</td>\n",
              "      <td>0</td>\n",
              "      <td>0</td>\n",
              "      <td>1</td>\n",
              "      <td>0</td>\n",
              "      <td>0</td>\n",
              "      <td>9.839682</td>\n",
              "    </tr>\n",
              "    <tr>\n",
              "      <th>5</th>\n",
              "      <td>id0801584</td>\n",
              "      <td>2</td>\n",
              "      <td>2016-01-30 22:01:40</td>\n",
              "      <td>2016-01-30 22:01:40</td>\n",
              "      <td>6</td>\n",
              "      <td>-73.982857</td>\n",
              "      <td>40.742195</td>\n",
              "      <td>-73.992081</td>\n",
              "      <td>40.749184</td>\n",
              "      <td>N</td>\n",
              "      <td>0.123056</td>\n",
              "      <td>1.099287</td>\n",
              "      <td>Saturday</td>\n",
              "      <td>2016</td>\n",
              "      <td>1</td>\n",
              "      <td>30</td>\n",
              "      <td>1</td>\n",
              "      <td>2016</td>\n",
              "      <td>1</td>\n",
              "      <td>30</td>\n",
              "      <td>1</td>\n",
              "      <td>Saturday</td>\n",
              "      <td>0</td>\n",
              "      <td>0</td>\n",
              "      <td>0</td>\n",
              "      <td>1</td>\n",
              "      <td>0</td>\n",
              "      <td>0</td>\n",
              "      <td>0</td>\n",
              "      <td>0</td>\n",
              "      <td>1</td>\n",
              "      <td>0</td>\n",
              "      <td>8.933261</td>\n",
              "    </tr>\n",
              "  </tbody>\n",
              "</table>\n",
              "</div>"
            ],
            "text/plain": [
              "          id  vendor_id  ... drop_hour_peak_hour_eve(16-19) speed_kmph\n",
              "0  id2875421          2  ...                              1  11.860150\n",
              "1  id2377394          1  ...                              0   9.806736\n",
              "3  id3504673          2  ...                              1  12.469634\n",
              "4  id2181028          2  ...                              0   9.839682\n",
              "5  id0801584          2  ...                              0   8.933261\n",
              "\n",
              "[5 rows x 33 columns]"
            ]
          },
          "metadata": {
            "tags": []
          },
          "execution_count": 68
        }
      ]
    },
    {
      "cell_type": "code",
      "metadata": {
        "id": "xZR2t21xkHGl"
      },
      "source": [
        "df.drop(df[df.passenger_count>= 6].index, inplace=True)\r\n",
        "\r\n"
      ],
      "execution_count": 69,
      "outputs": []
    },
    {
      "cell_type": "code",
      "metadata": {
        "colab": {
          "base_uri": "https://localhost:8080/"
        },
        "id": "2UCJtDYYUOdu",
        "outputId": "255513cb-bfbd-4036-88da-81a1d00fe018"
      },
      "source": [
        "df.columns"
      ],
      "execution_count": 70,
      "outputs": [
        {
          "output_type": "execute_result",
          "data": {
            "text/plain": [
              "Index(['id', 'vendor_id', 'pickup_datetime', 'dropoff_datetime',\n",
              "       'passenger_count', 'pickup_longitude', 'pickup_latitude',\n",
              "       'dropoff_longitude', 'dropoff_latitude', 'store_and_fwd_flag',\n",
              "       'trip_duration', 'Travel_distance', 'Day', 'pick_year', 'pick_month',\n",
              "       'pick_day_num', 'pick_minute', 'drop_year', 'drop_month',\n",
              "       'drop_day_num', 'drop_minute', 'pick_Day',\n",
              "       'pick_hour_late_night(23 onwards)', 'pick_hour_morning_peak_hour(7-9)',\n",
              "       'pick_hour_non_peak_hour_afternoon(9-16)',\n",
              "       'pick_hour_non_peak_hour_eve(19-23)', 'pick_hour_peak_hour_eve(16-19)',\n",
              "       'drop_hour_late_night(23 onwards)', 'drop_hour_morning_peak_hour(7-9)',\n",
              "       'drop_hour_non_peak_hour_afternoon(9-16)',\n",
              "       'drop_hour_non_peak_hour_eve(19-23)', 'drop_hour_peak_hour_eve(16-19)',\n",
              "       'speed_kmph'],\n",
              "      dtype='object')"
            ]
          },
          "metadata": {
            "tags": []
          },
          "execution_count": 70
        }
      ]
    },
    {
      "cell_type": "code",
      "metadata": {
        "id": "9exFFL0YBZMH"
      },
      "source": [
        "trip_df=pd.DataFrame(df[[ 'vendor_id', \r\n",
        "       'passenger_count',\r\n",
        "       'trip_duration', 'Travel_distance', 'speed_kmph','Day', 'pick_month',\r\n",
        "       'pick_hour_late_night(23 onwards)', 'pick_hour_morning_peak_hour(7-9)',\r\n",
        "       'pick_hour_non_peak_hour_afternoon(9-16)',\r\n",
        "       'pick_hour_non_peak_hour_eve(19-23)', 'pick_hour_peak_hour_eve(16-19)',\r\n",
        "       'drop_hour_late_night(23 onwards)', 'drop_hour_morning_peak_hour(7-9)',\r\n",
        "       'drop_hour_non_peak_hour_afternoon(9-16)',\r\n",
        "       'drop_hour_non_peak_hour_eve(19-23)', 'drop_hour_peak_hour_eve(16-19)'\r\n",
        "       ]])"
      ],
      "execution_count": 71,
      "outputs": []
    },
    {
      "cell_type": "code",
      "metadata": {
        "colab": {
          "base_uri": "https://localhost:8080/",
          "height": 325
        },
        "id": "sW_8e8XC-QV_",
        "outputId": "d72da73c-b3bd-452b-dc3d-8424d86b2145"
      },
      "source": [
        "trip_df.describe()"
      ],
      "execution_count": 72,
      "outputs": [
        {
          "output_type": "execute_result",
          "data": {
            "text/html": [
              "<div>\n",
              "<style scoped>\n",
              "    .dataframe tbody tr th:only-of-type {\n",
              "        vertical-align: middle;\n",
              "    }\n",
              "\n",
              "    .dataframe tbody tr th {\n",
              "        vertical-align: top;\n",
              "    }\n",
              "\n",
              "    .dataframe thead th {\n",
              "        text-align: right;\n",
              "    }\n",
              "</style>\n",
              "<table border=\"1\" class=\"dataframe\">\n",
              "  <thead>\n",
              "    <tr style=\"text-align: right;\">\n",
              "      <th></th>\n",
              "      <th>vendor_id</th>\n",
              "      <th>passenger_count</th>\n",
              "      <th>trip_duration</th>\n",
              "      <th>Travel_distance</th>\n",
              "      <th>speed_kmph</th>\n",
              "      <th>pick_month</th>\n",
              "      <th>pick_hour_late_night(23 onwards)</th>\n",
              "      <th>pick_hour_morning_peak_hour(7-9)</th>\n",
              "      <th>pick_hour_non_peak_hour_afternoon(9-16)</th>\n",
              "      <th>pick_hour_non_peak_hour_eve(19-23)</th>\n",
              "      <th>pick_hour_peak_hour_eve(16-19)</th>\n",
              "      <th>drop_hour_late_night(23 onwards)</th>\n",
              "      <th>drop_hour_morning_peak_hour(7-9)</th>\n",
              "      <th>drop_hour_non_peak_hour_afternoon(9-16)</th>\n",
              "      <th>drop_hour_non_peak_hour_eve(19-23)</th>\n",
              "      <th>drop_hour_peak_hour_eve(16-19)</th>\n",
              "    </tr>\n",
              "  </thead>\n",
              "  <tbody>\n",
              "    <tr>\n",
              "      <th>count</th>\n",
              "      <td>1.338516e+06</td>\n",
              "      <td>1.338516e+06</td>\n",
              "      <td>1.338516e+06</td>\n",
              "      <td>1.338516e+06</td>\n",
              "      <td>1.338516e+06</td>\n",
              "      <td>1.338516e+06</td>\n",
              "      <td>1.338516e+06</td>\n",
              "      <td>1.338516e+06</td>\n",
              "      <td>1.338516e+06</td>\n",
              "      <td>1.338516e+06</td>\n",
              "      <td>1.338516e+06</td>\n",
              "      <td>1.338516e+06</td>\n",
              "      <td>1.338516e+06</td>\n",
              "      <td>1.338516e+06</td>\n",
              "      <td>1.338516e+06</td>\n",
              "      <td>1.338516e+06</td>\n",
              "    </tr>\n",
              "    <tr>\n",
              "      <th>mean</th>\n",
              "      <td>1.517658e+00</td>\n",
              "      <td>1.512471e+00</td>\n",
              "      <td>2.032302e-01</td>\n",
              "      <td>2.913486e+00</td>\n",
              "      <td>1.429681e+01</td>\n",
              "      <td>3.500914e+00</td>\n",
              "      <td>1.442635e-01</td>\n",
              "      <td>1.307627e-01</td>\n",
              "      <td>2.844224e-01</td>\n",
              "      <td>2.230037e-01</td>\n",
              "      <td>2.175476e-01</td>\n",
              "      <td>1.442635e-01</td>\n",
              "      <td>1.307627e-01</td>\n",
              "      <td>2.844224e-01</td>\n",
              "      <td>2.230037e-01</td>\n",
              "      <td>2.175476e-01</td>\n",
              "    </tr>\n",
              "    <tr>\n",
              "      <th>std</th>\n",
              "      <td>4.996883e-01</td>\n",
              "      <td>1.056353e+00</td>\n",
              "      <td>1.244650e-01</td>\n",
              "      <td>3.306931e+00</td>\n",
              "      <td>1.538023e+01</td>\n",
              "      <td>1.679714e+00</td>\n",
              "      <td>3.513568e-01</td>\n",
              "      <td>3.371408e-01</td>\n",
              "      <td>4.511391e-01</td>\n",
              "      <td>4.162609e-01</td>\n",
              "      <td>4.125782e-01</td>\n",
              "      <td>3.513568e-01</td>\n",
              "      <td>3.371408e-01</td>\n",
              "      <td>4.511391e-01</td>\n",
              "      <td>4.162609e-01</td>\n",
              "      <td>4.125782e-01</td>\n",
              "    </tr>\n",
              "    <tr>\n",
              "      <th>min</th>\n",
              "      <td>1.000000e+00</td>\n",
              "      <td>0.000000e+00</td>\n",
              "      <td>2.777778e-04</td>\n",
              "      <td>0.000000e+00</td>\n",
              "      <td>0.000000e+00</td>\n",
              "      <td>1.000000e+00</td>\n",
              "      <td>0.000000e+00</td>\n",
              "      <td>0.000000e+00</td>\n",
              "      <td>0.000000e+00</td>\n",
              "      <td>0.000000e+00</td>\n",
              "      <td>0.000000e+00</td>\n",
              "      <td>0.000000e+00</td>\n",
              "      <td>0.000000e+00</td>\n",
              "      <td>0.000000e+00</td>\n",
              "      <td>0.000000e+00</td>\n",
              "      <td>0.000000e+00</td>\n",
              "    </tr>\n",
              "    <tr>\n",
              "      <th>25%</th>\n",
              "      <td>1.000000e+00</td>\n",
              "      <td>1.000000e+00</td>\n",
              "      <td>1.066667e-01</td>\n",
              "      <td>1.198924e+00</td>\n",
              "      <td>9.081335e+00</td>\n",
              "      <td>2.000000e+00</td>\n",
              "      <td>0.000000e+00</td>\n",
              "      <td>0.000000e+00</td>\n",
              "      <td>0.000000e+00</td>\n",
              "      <td>0.000000e+00</td>\n",
              "      <td>0.000000e+00</td>\n",
              "      <td>0.000000e+00</td>\n",
              "      <td>0.000000e+00</td>\n",
              "      <td>0.000000e+00</td>\n",
              "      <td>0.000000e+00</td>\n",
              "      <td>0.000000e+00</td>\n",
              "    </tr>\n",
              "    <tr>\n",
              "      <th>50%</th>\n",
              "      <td>2.000000e+00</td>\n",
              "      <td>1.000000e+00</td>\n",
              "      <td>1.755556e-01</td>\n",
              "      <td>1.993989e+00</td>\n",
              "      <td>1.267328e+01</td>\n",
              "      <td>3.000000e+00</td>\n",
              "      <td>0.000000e+00</td>\n",
              "      <td>0.000000e+00</td>\n",
              "      <td>0.000000e+00</td>\n",
              "      <td>0.000000e+00</td>\n",
              "      <td>0.000000e+00</td>\n",
              "      <td>0.000000e+00</td>\n",
              "      <td>0.000000e+00</td>\n",
              "      <td>0.000000e+00</td>\n",
              "      <td>0.000000e+00</td>\n",
              "      <td>0.000000e+00</td>\n",
              "    </tr>\n",
              "    <tr>\n",
              "      <th>75%</th>\n",
              "      <td>2.000000e+00</td>\n",
              "      <td>2.000000e+00</td>\n",
              "      <td>2.752778e-01</td>\n",
              "      <td>3.488369e+00</td>\n",
              "      <td>1.759959e+01</td>\n",
              "      <td>5.000000e+00</td>\n",
              "      <td>0.000000e+00</td>\n",
              "      <td>0.000000e+00</td>\n",
              "      <td>1.000000e+00</td>\n",
              "      <td>0.000000e+00</td>\n",
              "      <td>0.000000e+00</td>\n",
              "      <td>0.000000e+00</td>\n",
              "      <td>0.000000e+00</td>\n",
              "      <td>1.000000e+00</td>\n",
              "      <td>0.000000e+00</td>\n",
              "      <td>0.000000e+00</td>\n",
              "    </tr>\n",
              "    <tr>\n",
              "      <th>max</th>\n",
              "      <td>2.000000e+00</td>\n",
              "      <td>5.000000e+00</td>\n",
              "      <td>5.808333e-01</td>\n",
              "      <td>1.241298e+03</td>\n",
              "      <td>9.277748e+03</td>\n",
              "      <td>6.000000e+00</td>\n",
              "      <td>1.000000e+00</td>\n",
              "      <td>1.000000e+00</td>\n",
              "      <td>1.000000e+00</td>\n",
              "      <td>1.000000e+00</td>\n",
              "      <td>1.000000e+00</td>\n",
              "      <td>1.000000e+00</td>\n",
              "      <td>1.000000e+00</td>\n",
              "      <td>1.000000e+00</td>\n",
              "      <td>1.000000e+00</td>\n",
              "      <td>1.000000e+00</td>\n",
              "    </tr>\n",
              "  </tbody>\n",
              "</table>\n",
              "</div>"
            ],
            "text/plain": [
              "          vendor_id  ...  drop_hour_peak_hour_eve(16-19)\n",
              "count  1.338516e+06  ...                    1.338516e+06\n",
              "mean   1.517658e+00  ...                    2.175476e-01\n",
              "std    4.996883e-01  ...                    4.125782e-01\n",
              "min    1.000000e+00  ...                    0.000000e+00\n",
              "25%    1.000000e+00  ...                    0.000000e+00\n",
              "50%    2.000000e+00  ...                    0.000000e+00\n",
              "75%    2.000000e+00  ...                    0.000000e+00\n",
              "max    2.000000e+00  ...                    1.000000e+00\n",
              "\n",
              "[8 rows x 16 columns]"
            ]
          },
          "metadata": {
            "tags": []
          },
          "execution_count": 72
        }
      ]
    },
    {
      "cell_type": "code",
      "metadata": {
        "id": "SfOWkSLrHsji"
      },
      "source": [
        "trip_df['vendor_id'] = trip_df['vendor_id'].apply(lambda x : 1 if x == 2 else 0)\r\n"
      ],
      "execution_count": 73,
      "outputs": []
    },
    {
      "cell_type": "code",
      "metadata": {
        "id": "pbpIKb-rIYpI"
      },
      "source": [
        "trip_df = pd.get_dummies(trip_df, columns=[\"Day\"])"
      ],
      "execution_count": 74,
      "outputs": []
    },
    {
      "cell_type": "code",
      "metadata": {
        "id": "d6Cp0_xEIv7y"
      },
      "source": [
        "trip_df = pd.get_dummies(trip_df, columns=[\"passenger_count\"])"
      ],
      "execution_count": 75,
      "outputs": []
    },
    {
      "cell_type": "code",
      "metadata": {
        "id": "kSmz3P4pI4zr"
      },
      "source": [
        "trip_df = pd.get_dummies(trip_df, columns=[\"pick_month\"])"
      ],
      "execution_count": 76,
      "outputs": []
    },
    {
      "cell_type": "code",
      "metadata": {
        "colab": {
          "base_uri": "https://localhost:8080/",
          "height": 235
        },
        "id": "14xo2QhG-UKD",
        "outputId": "3ce9b415-c5fb-4fe9-d5c0-def39d13994a"
      },
      "source": [
        "trip_df.head()"
      ],
      "execution_count": 77,
      "outputs": [
        {
          "output_type": "execute_result",
          "data": {
            "text/html": [
              "<div>\n",
              "<style scoped>\n",
              "    .dataframe tbody tr th:only-of-type {\n",
              "        vertical-align: middle;\n",
              "    }\n",
              "\n",
              "    .dataframe tbody tr th {\n",
              "        vertical-align: top;\n",
              "    }\n",
              "\n",
              "    .dataframe thead th {\n",
              "        text-align: right;\n",
              "    }\n",
              "</style>\n",
              "<table border=\"1\" class=\"dataframe\">\n",
              "  <thead>\n",
              "    <tr style=\"text-align: right;\">\n",
              "      <th></th>\n",
              "      <th>vendor_id</th>\n",
              "      <th>trip_duration</th>\n",
              "      <th>Travel_distance</th>\n",
              "      <th>speed_kmph</th>\n",
              "      <th>pick_hour_late_night(23 onwards)</th>\n",
              "      <th>pick_hour_morning_peak_hour(7-9)</th>\n",
              "      <th>pick_hour_non_peak_hour_afternoon(9-16)</th>\n",
              "      <th>pick_hour_non_peak_hour_eve(19-23)</th>\n",
              "      <th>pick_hour_peak_hour_eve(16-19)</th>\n",
              "      <th>drop_hour_late_night(23 onwards)</th>\n",
              "      <th>drop_hour_morning_peak_hour(7-9)</th>\n",
              "      <th>drop_hour_non_peak_hour_afternoon(9-16)</th>\n",
              "      <th>drop_hour_non_peak_hour_eve(19-23)</th>\n",
              "      <th>drop_hour_peak_hour_eve(16-19)</th>\n",
              "      <th>Day_Friday</th>\n",
              "      <th>Day_Monday</th>\n",
              "      <th>Day_Saturday</th>\n",
              "      <th>Day_Sunday</th>\n",
              "      <th>Day_Thursday</th>\n",
              "      <th>Day_Tuesday</th>\n",
              "      <th>Day_Wednesday</th>\n",
              "      <th>passenger_count_0</th>\n",
              "      <th>passenger_count_1</th>\n",
              "      <th>passenger_count_2</th>\n",
              "      <th>passenger_count_3</th>\n",
              "      <th>passenger_count_4</th>\n",
              "      <th>passenger_count_5</th>\n",
              "      <th>pick_month_1</th>\n",
              "      <th>pick_month_2</th>\n",
              "      <th>pick_month_3</th>\n",
              "      <th>pick_month_4</th>\n",
              "      <th>pick_month_5</th>\n",
              "      <th>pick_month_6</th>\n",
              "    </tr>\n",
              "  </thead>\n",
              "  <tbody>\n",
              "    <tr>\n",
              "      <th>0</th>\n",
              "      <td>1</td>\n",
              "      <td>0.126389</td>\n",
              "      <td>1.498991</td>\n",
              "      <td>11.860150</td>\n",
              "      <td>0</td>\n",
              "      <td>0</td>\n",
              "      <td>0</td>\n",
              "      <td>0</td>\n",
              "      <td>1</td>\n",
              "      <td>0</td>\n",
              "      <td>0</td>\n",
              "      <td>0</td>\n",
              "      <td>0</td>\n",
              "      <td>1</td>\n",
              "      <td>0</td>\n",
              "      <td>1</td>\n",
              "      <td>0</td>\n",
              "      <td>0</td>\n",
              "      <td>0</td>\n",
              "      <td>0</td>\n",
              "      <td>0</td>\n",
              "      <td>0</td>\n",
              "      <td>1</td>\n",
              "      <td>0</td>\n",
              "      <td>0</td>\n",
              "      <td>0</td>\n",
              "      <td>0</td>\n",
              "      <td>0</td>\n",
              "      <td>0</td>\n",
              "      <td>1</td>\n",
              "      <td>0</td>\n",
              "      <td>0</td>\n",
              "      <td>0</td>\n",
              "    </tr>\n",
              "    <tr>\n",
              "      <th>1</th>\n",
              "      <td>0</td>\n",
              "      <td>0.184167</td>\n",
              "      <td>1.806074</td>\n",
              "      <td>9.806736</td>\n",
              "      <td>1</td>\n",
              "      <td>0</td>\n",
              "      <td>0</td>\n",
              "      <td>0</td>\n",
              "      <td>0</td>\n",
              "      <td>1</td>\n",
              "      <td>0</td>\n",
              "      <td>0</td>\n",
              "      <td>0</td>\n",
              "      <td>0</td>\n",
              "      <td>0</td>\n",
              "      <td>0</td>\n",
              "      <td>0</td>\n",
              "      <td>1</td>\n",
              "      <td>0</td>\n",
              "      <td>0</td>\n",
              "      <td>0</td>\n",
              "      <td>0</td>\n",
              "      <td>1</td>\n",
              "      <td>0</td>\n",
              "      <td>0</td>\n",
              "      <td>0</td>\n",
              "      <td>0</td>\n",
              "      <td>0</td>\n",
              "      <td>0</td>\n",
              "      <td>0</td>\n",
              "      <td>0</td>\n",
              "      <td>0</td>\n",
              "      <td>1</td>\n",
              "    </tr>\n",
              "    <tr>\n",
              "      <th>3</th>\n",
              "      <td>1</td>\n",
              "      <td>0.119167</td>\n",
              "      <td>1.485965</td>\n",
              "      <td>12.469634</td>\n",
              "      <td>0</td>\n",
              "      <td>0</td>\n",
              "      <td>0</td>\n",
              "      <td>0</td>\n",
              "      <td>1</td>\n",
              "      <td>0</td>\n",
              "      <td>0</td>\n",
              "      <td>0</td>\n",
              "      <td>0</td>\n",
              "      <td>1</td>\n",
              "      <td>0</td>\n",
              "      <td>0</td>\n",
              "      <td>0</td>\n",
              "      <td>0</td>\n",
              "      <td>0</td>\n",
              "      <td>0</td>\n",
              "      <td>1</td>\n",
              "      <td>0</td>\n",
              "      <td>1</td>\n",
              "      <td>0</td>\n",
              "      <td>0</td>\n",
              "      <td>0</td>\n",
              "      <td>0</td>\n",
              "      <td>0</td>\n",
              "      <td>0</td>\n",
              "      <td>0</td>\n",
              "      <td>1</td>\n",
              "      <td>0</td>\n",
              "      <td>0</td>\n",
              "    </tr>\n",
              "    <tr>\n",
              "      <th>4</th>\n",
              "      <td>1</td>\n",
              "      <td>0.120833</td>\n",
              "      <td>1.188962</td>\n",
              "      <td>9.839682</td>\n",
              "      <td>0</td>\n",
              "      <td>0</td>\n",
              "      <td>1</td>\n",
              "      <td>0</td>\n",
              "      <td>0</td>\n",
              "      <td>0</td>\n",
              "      <td>0</td>\n",
              "      <td>1</td>\n",
              "      <td>0</td>\n",
              "      <td>0</td>\n",
              "      <td>0</td>\n",
              "      <td>0</td>\n",
              "      <td>1</td>\n",
              "      <td>0</td>\n",
              "      <td>0</td>\n",
              "      <td>0</td>\n",
              "      <td>0</td>\n",
              "      <td>0</td>\n",
              "      <td>1</td>\n",
              "      <td>0</td>\n",
              "      <td>0</td>\n",
              "      <td>0</td>\n",
              "      <td>0</td>\n",
              "      <td>0</td>\n",
              "      <td>0</td>\n",
              "      <td>1</td>\n",
              "      <td>0</td>\n",
              "      <td>0</td>\n",
              "      <td>0</td>\n",
              "    </tr>\n",
              "    <tr>\n",
              "      <th>6</th>\n",
              "      <td>0</td>\n",
              "      <td>0.094722</td>\n",
              "      <td>1.326695</td>\n",
              "      <td>14.006163</td>\n",
              "      <td>0</td>\n",
              "      <td>0</td>\n",
              "      <td>0</td>\n",
              "      <td>1</td>\n",
              "      <td>0</td>\n",
              "      <td>0</td>\n",
              "      <td>0</td>\n",
              "      <td>0</td>\n",
              "      <td>1</td>\n",
              "      <td>0</td>\n",
              "      <td>1</td>\n",
              "      <td>0</td>\n",
              "      <td>0</td>\n",
              "      <td>0</td>\n",
              "      <td>0</td>\n",
              "      <td>0</td>\n",
              "      <td>0</td>\n",
              "      <td>0</td>\n",
              "      <td>0</td>\n",
              "      <td>0</td>\n",
              "      <td>0</td>\n",
              "      <td>1</td>\n",
              "      <td>0</td>\n",
              "      <td>0</td>\n",
              "      <td>0</td>\n",
              "      <td>0</td>\n",
              "      <td>0</td>\n",
              "      <td>0</td>\n",
              "      <td>1</td>\n",
              "    </tr>\n",
              "  </tbody>\n",
              "</table>\n",
              "</div>"
            ],
            "text/plain": [
              "   vendor_id  trip_duration  ...  pick_month_5  pick_month_6\n",
              "0          1       0.126389  ...             0             0\n",
              "1          0       0.184167  ...             0             1\n",
              "3          1       0.119167  ...             0             0\n",
              "4          1       0.120833  ...             0             0\n",
              "6          0       0.094722  ...             0             1\n",
              "\n",
              "[5 rows x 33 columns]"
            ]
          },
          "metadata": {
            "tags": []
          },
          "execution_count": 77
        }
      ]
    },
    {
      "cell_type": "code",
      "metadata": {
        "colab": {
          "base_uri": "https://localhost:8080/"
        },
        "id": "JcyyX8kmYZ2u",
        "outputId": "38bba88b-73bd-49f2-af2a-21c70968cff3"
      },
      "source": [
        "trip_df.shape"
      ],
      "execution_count": 78,
      "outputs": [
        {
          "output_type": "execute_result",
          "data": {
            "text/plain": [
              "(1338516, 33)"
            ]
          },
          "metadata": {
            "tags": []
          },
          "execution_count": 78
        }
      ]
    },
    {
      "cell_type": "markdown",
      "metadata": {
        "id": "Y2cq1TWbVJd1"
      },
      "source": [
        "#Our data is ready...Let's fit it in a model."
      ]
    },
    {
      "cell_type": "code",
      "metadata": {
        "id": "Wcyjil0VEH6g"
      },
      "source": [
        "# Importing the libraries\r\n",
        "import numpy as np\r\n",
        "import pandas as pd\r\n",
        "from numpy import math\r\n",
        "import xgboost\r\n",
        "from sklearn.preprocessing import MinMaxScaler\r\n",
        "from sklearn.preprocessing import MinMaxScaler\r\n",
        "from sklearn.model_selection import train_test_split\r\n",
        "from sklearn.linear_model import LinearRegression\r\n",
        "from sklearn.metrics import r2_score\r\n",
        "from sklearn.metrics import mean_squared_error\r\n",
        "import seaborn as sns\r\n",
        "from datetime import datetime\r\n",
        "import warnings\r\n",
        "from pylab import rcParams\r\n",
        "rcParams['figure.figsize'] = 15, 10\r\n",
        "%matplotlib inline\r\n",
        "from sklearn.decomposition import PCA\r\n",
        "import matplotlib.pyplot as plt\r\n",
        "import seaborn as sns; sns.set()\r\n",
        "warnings.filterwarnings('ignore')"
      ],
      "execution_count": 79,
      "outputs": []
    },
    {
      "cell_type": "code",
      "metadata": {
        "colab": {
          "base_uri": "https://localhost:8080/",
          "height": 515
        },
        "id": "_Imwm_YqZIHg",
        "outputId": "506061d7-de8b-4197-d2a4-7d92c8c82bea"
      },
      "source": [
        "sns.heatmap(trip_df.corr())"
      ],
      "execution_count": 80,
      "outputs": [
        {
          "output_type": "execute_result",
          "data": {
            "text/plain": [
              "<matplotlib.axes._subplots.AxesSubplot at 0x7f2815cea2e8>"
            ]
          },
          "metadata": {
            "tags": []
          },
          "execution_count": 80
        },
        {
          "output_type": "display_data",
          "data": {
            "image/png": "[encoded data removed]",
            "text/plain": [
              "<Figure size 432x288 with 2 Axes>"
            ]
          },
          "metadata": {
            "tags": []
          }
        }
      ]
    },
    {
      "cell_type": "code",
      "metadata": {
        "colab": {
          "base_uri": "https://localhost:8080/"
        },
        "id": "XczAbkNfZMeW",
        "outputId": "fb183342-af3a-4f06-a29b-021dbffc9082"
      },
      "source": [
        "scalar= MinMaxScaler(feature_range=(0, 1))\r\n",
        "scalar.fit(trip_df)"
      ],
      "execution_count": 81,
      "outputs": [
        {
          "output_type": "execute_result",
          "data": {
            "text/plain": [
              "MinMaxScaler(copy=True, feature_range=(0, 1))"
            ]
          },
          "metadata": {
            "tags": []
          },
          "execution_count": 81
        }
      ]
    },
    {
      "cell_type": "code",
      "metadata": {
        "id": "qAhy72Lnw_u8"
      },
      "source": [
        "xg_df=trip_df.sample(frac=0.2)"
      ],
      "execution_count": 82,
      "outputs": []
    },
    {
      "cell_type": "code",
      "metadata": {
        "id": "p3FnyUBTgY4A"
      },
      "source": [
        "X=xg_df.drop(['trip_duration'],axis=1)\r\n",
        "y=xg_df['trip_duration']"
      ],
      "execution_count": 83,
      "outputs": []
    },
    {
      "cell_type": "code",
      "metadata": {
        "id": "m33G5-7fgolK"
      },
      "source": [
        "x_train,x_test,y_train,y_test = train_test_split(X,y,test_size=0.2,random_state=42)"
      ],
      "execution_count": 84,
      "outputs": []
    },
    {
      "cell_type": "code",
      "metadata": {
        "id": "AfRgi65OhIZ6"
      },
      "source": [
        "from xgboost.sklearn import XGBRegressor\r\n"
      ],
      "execution_count": 85,
      "outputs": []
    },
    {
      "cell_type": "code",
      "metadata": {
        "id": "L8UkrgXXg_5x"
      },
      "source": [
        "xgb=XGBRegressor(verbose=0)"
      ],
      "execution_count": 86,
      "outputs": []
    },
    {
      "cell_type": "code",
      "metadata": {
        "colab": {
          "base_uri": "https://localhost:8080/"
        },
        "id": "lzaa964ihMDM",
        "outputId": "41ccd9f2-d1dc-4f8d-cc6f-ec8cada7002f"
      },
      "source": [
        "xgb.fit(x_train,y_train)\r\n"
      ],
      "execution_count": 106,
      "outputs": [
        {
          "output_type": "stream",
          "text": [
            "[19:59:26] WARNING: /workspace/src/objective/regression_obj.cu:152: reg:linear is now deprecated in favor of reg:squarederror.\n"
          ],
          "name": "stdout"
        },
        {
          "output_type": "execute_result",
          "data": {
            "text/plain": [
              "XGBRegressor(base_score=0.5, booster='gbtree', colsample_bylevel=1,\n",
              "             colsample_bynode=1, colsample_bytree=1, gamma=0,\n",
              "             importance_type='gain', learning_rate=0.1, max_delta_step=0,\n",
              "             max_depth=3, min_child_weight=1, missing=None, n_estimators=100,\n",
              "             n_jobs=1, nthread=None, objective='reg:linear', random_state=0,\n",
              "             reg_alpha=0, reg_lambda=1, scale_pos_weight=1, seed=None,\n",
              "             silent=None, subsample=1, verbose=0, verbosity=1)"
            ]
          },
          "metadata": {
            "tags": []
          },
          "execution_count": 106
        }
      ]
    },
    {
      "cell_type": "code",
      "metadata": {
        "id": "KBxpXMuJh9RO"
      },
      "source": [
        "tr_pred=xgb.predict(x_train)\r\n",
        "ts_pred=xgb.predict(x_test)"
      ],
      "execution_count": 107,
      "outputs": []
    },
    {
      "cell_type": "code",
      "metadata": {
        "colab": {
          "base_uri": "https://localhost:8080/"
        },
        "id": "hDESfbK_iKYk",
        "outputId": "71eb8ffb-4aaa-4f99-da57-2117a0cca99b"
      },
      "source": [
        "#TRAIN metrics\r\n",
        "MSE  = mean_squared_error((y_train), (tr_pred))\r\n",
        "print(\"MSE :\" , MSE)\r\n",
        "\r\n",
        "RMSE = np.sqrt(MSE)\r\n",
        "print(\"RMSE :\" ,RMSE)\r\n",
        "\r\n",
        "r2 = r2_score((y_train), (tr_pred))\r\n",
        "print(\"R2 :\" ,r2)\r\n",
        "print(\"Adjusted R2 : \",1-(1-r2_score((y_train), (tr_pred)))*((x_train.shape[0]-1)/(x_train.shape[0]-x_train.shape[1]-1)))\r\n"
      ],
      "execution_count": 109,
      "outputs": [
        {
          "output_type": "stream",
          "text": [
            "MSE : 0.00020816403868916582\n",
            "RMSE : 0.014427890999351423\n",
            "R2 : 0.9865925643762911\n",
            "Adjusted R2 :  0.9865905607339075\n"
          ],
          "name": "stdout"
        }
      ]
    },
    {
      "cell_type": "code",
      "metadata": {
        "colab": {
          "base_uri": "https://localhost:8080/"
        },
        "id": "KNAcKzNlkKnw",
        "outputId": "48f71e38-181e-4e2d-be46-4c8ecf652604"
      },
      "source": [
        "#TEST metrics\r\n",
        "MSE  = mean_squared_error((y_test), (ts_pred))\r\n",
        "print(\"MSE :\" , MSE)\r\n",
        "\r\n",
        "RMSE = np.sqrt(MSE)\r\n",
        "print(\"RMSE :\" ,RMSE)\r\n",
        "\r\n",
        "r2 = r2_score((y_test), (ts_pred))\r\n",
        "print(\"R2 :\" ,r2)\r\n",
        "print(\"Adjusted R2 : \",1-(1-r2_score((y_test), (ts_pred)))*((x_test.shape[0]-1)/(x_test.shape[0]-x_test.shape[1]-1)))\r\n"
      ],
      "execution_count": 110,
      "outputs": [
        {
          "output_type": "stream",
          "text": [
            "MSE : 0.00020286335096271756\n",
            "RMSE : 0.014243010600386337\n",
            "R2 : 0.98690072766035\n",
            "Adjusted R2 :  0.9868928937529928\n"
          ],
          "name": "stdout"
        }
      ]
    },
    {
      "cell_type": "markdown",
      "metadata": {
        "id": "uFeiSbqQsHcK"
      },
      "source": [
        "#Gridsearch cv"
      ]
    },
    {
      "cell_type": "code",
      "metadata": {
        "id": "OheVIAU0tN7m"
      },
      "source": [
        "from sklearn.model_selection import GridSearchCV\r\n"
      ],
      "execution_count": 91,
      "outputs": []
    },
    {
      "cell_type": "code",
      "metadata": {
        "id": "NbudemaWsE7Y"
      },
      "source": [
        "# Number of trees\r\n",
        "n_estimators = [50,80,100]\r\n",
        "\r\n",
        "# Maximum depth of trees\r\n",
        "max_depth = [3,5,8]\r\n",
        "learning_rate=[0.1,0.3,0.5]\r\n",
        "\r\n",
        "# HYperparameter Grid\r\n",
        "param_xgb = {'n_estimators' : n_estimators,\r\n",
        "              'max_depth' : max_depth,\r\n",
        "              'learning_rate':learning_rate}"
      ],
      "execution_count": 99,
      "outputs": []
    },
    {
      "cell_type": "code",
      "metadata": {
        "id": "min8MBwBjrXE"
      },
      "source": [
        "grid = GridSearchCV(estimator=xgb,param_grid = param_xgb,cv = 5, verbose=2,scoring=\"r2\")\r\n"
      ],
      "execution_count": 100,
      "outputs": []
    },
    {
      "cell_type": "code",
      "metadata": {
        "colab": {
          "base_uri": "https://localhost:8080/"
        },
        "id": "MIclDRnc2bmO",
        "outputId": "e51538ac-67a6-4ed0-82fc-efb329ce3bd7"
      },
      "source": [
        "grid.fit(x_train,y_train)"
      ],
      "execution_count": 101,
      "outputs": [
        {
          "output_type": "stream",
          "text": [
            "Fitting 5 folds for each of 27 candidates, totalling 135 fits\n",
            "[CV] learning_rate=0.1, max_depth=3, n_estimators=50 .................\n",
            "[19:09:02] WARNING: /workspace/src/objective/regression_obj.cu:152: reg:linear is now deprecated in favor of reg:squarederror.\n"
          ],
          "name": "stdout"
        },
        {
          "output_type": "stream",
          "text": [
            "[Parallel(n_jobs=1)]: Using backend SequentialBackend with 1 concurrent workers.\n"
          ],
          "name": "stderr"
        },
        {
          "output_type": "stream",
          "text": [
            "[CV] .. learning_rate=0.1, max_depth=3, n_estimators=50, total=   9.1s\n",
            "[CV] learning_rate=0.1, max_depth=3, n_estimators=50 .................\n",
            "[19:09:12] WARNING: /workspace/src/objective/regression_obj.cu:152: reg:linear is now deprecated in favor of reg:squarederror.\n"
          ],
          "name": "stdout"
        },
        {
          "output_type": "stream",
          "text": [
            "[Parallel(n_jobs=1)]: Done   1 out of   1 | elapsed:    9.1s remaining:    0.0s\n"
          ],
          "name": "stderr"
        },
        {
          "output_type": "stream",
          "text": [
            "[CV] .. learning_rate=0.1, max_depth=3, n_estimators=50, total=   8.7s\n",
            "[CV] learning_rate=0.1, max_depth=3, n_estimators=50 .................\n",
            "[19:09:20] WARNING: /workspace/src/objective/regression_obj.cu:152: reg:linear is now deprecated in favor of reg:squarederror.\n",
            "[CV] .. learning_rate=0.1, max_depth=3, n_estimators=50, total=   8.9s\n",
            "[CV] learning_rate=0.1, max_depth=3, n_estimators=50 .................\n",
            "[19:09:29] WARNING: /workspace/src/objective/regression_obj.cu:152: reg:linear is now deprecated in favor of reg:squarederror.\n",
            "[CV] .. learning_rate=0.1, max_depth=3, n_estimators=50, total=   8.8s\n",
            "[CV] learning_rate=0.1, max_depth=3, n_estimators=50 .................\n",
            "[19:09:38] WARNING: /workspace/src/objective/regression_obj.cu:152: reg:linear is now deprecated in favor of reg:squarederror.\n",
            "[CV] .. learning_rate=0.1, max_depth=3, n_estimators=50, total=   8.9s\n",
            "[CV] learning_rate=0.1, max_depth=3, n_estimators=80 .................\n",
            "[19:09:47] WARNING: /workspace/src/objective/regression_obj.cu:152: reg:linear is now deprecated in favor of reg:squarederror.\n",
            "[CV] .. learning_rate=0.1, max_depth=3, n_estimators=80, total=  13.7s\n",
            "[CV] learning_rate=0.1, max_depth=3, n_estimators=80 .................\n",
            "[19:10:01] WARNING: /workspace/src/objective/regression_obj.cu:152: reg:linear is now deprecated in favor of reg:squarederror.\n",
            "[CV] .. learning_rate=0.1, max_depth=3, n_estimators=80, total=  13.7s\n",
            "[CV] learning_rate=0.1, max_depth=3, n_estimators=80 .................\n",
            "[19:10:14] WARNING: /workspace/src/objective/regression_obj.cu:152: reg:linear is now deprecated in favor of reg:squarederror.\n",
            "[CV] .. learning_rate=0.1, max_depth=3, n_estimators=80, total=  13.8s\n",
            "[CV] learning_rate=0.1, max_depth=3, n_estimators=80 .................\n",
            "[19:10:28] WARNING: /workspace/src/objective/regression_obj.cu:152: reg:linear is now deprecated in favor of reg:squarederror.\n",
            "[CV] .. learning_rate=0.1, max_depth=3, n_estimators=80, total=  13.8s\n",
            "[CV] learning_rate=0.1, max_depth=3, n_estimators=80 .................\n",
            "[19:10:42] WARNING: /workspace/src/objective/regression_obj.cu:152: reg:linear is now deprecated in favor of reg:squarederror.\n",
            "[CV] .. learning_rate=0.1, max_depth=3, n_estimators=80, total=  13.9s\n",
            "[CV] learning_rate=0.1, max_depth=3, n_estimators=100 ................\n",
            "[19:10:56] WARNING: /workspace/src/objective/regression_obj.cu:152: reg:linear is now deprecated in favor of reg:squarederror.\n",
            "[CV] . learning_rate=0.1, max_depth=3, n_estimators=100, total=  18.0s\n",
            "[CV] learning_rate=0.1, max_depth=3, n_estimators=100 ................\n",
            "[19:11:14] WARNING: /workspace/src/objective/regression_obj.cu:152: reg:linear is now deprecated in favor of reg:squarederror.\n",
            "[CV] . learning_rate=0.1, max_depth=3, n_estimators=100, total=  17.3s\n",
            "[CV] learning_rate=0.1, max_depth=3, n_estimators=100 ................\n",
            "[19:11:31] WARNING: /workspace/src/objective/regression_obj.cu:152: reg:linear is now deprecated in favor of reg:squarederror.\n",
            "[CV] . learning_rate=0.1, max_depth=3, n_estimators=100, total=  17.4s\n",
            "[CV] learning_rate=0.1, max_depth=3, n_estimators=100 ................\n",
            "[19:11:48] WARNING: /workspace/src/objective/regression_obj.cu:152: reg:linear is now deprecated in favor of reg:squarederror.\n",
            "[CV] . learning_rate=0.1, max_depth=3, n_estimators=100, total=  17.0s\n",
            "[CV] learning_rate=0.1, max_depth=3, n_estimators=100 ................\n",
            "[19:12:06] WARNING: /workspace/src/objective/regression_obj.cu:152: reg:linear is now deprecated in favor of reg:squarederror.\n",
            "[CV] . learning_rate=0.1, max_depth=3, n_estimators=100, total=  17.1s\n",
            "[CV] learning_rate=0.1, max_depth=5, n_estimators=50 .................\n",
            "[19:12:23] WARNING: /workspace/src/objective/regression_obj.cu:152: reg:linear is now deprecated in favor of reg:squarederror.\n",
            "[CV] .. learning_rate=0.1, max_depth=5, n_estimators=50, total=  13.1s\n",
            "[CV] learning_rate=0.1, max_depth=5, n_estimators=50 .................\n",
            "[19:12:36] WARNING: /workspace/src/objective/regression_obj.cu:152: reg:linear is now deprecated in favor of reg:squarederror.\n",
            "[CV] .. learning_rate=0.1, max_depth=5, n_estimators=50, total=  13.2s\n",
            "[CV] learning_rate=0.1, max_depth=5, n_estimators=50 .................\n",
            "[19:12:49] WARNING: /workspace/src/objective/regression_obj.cu:152: reg:linear is now deprecated in favor of reg:squarederror.\n",
            "[CV] .. learning_rate=0.1, max_depth=5, n_estimators=50, total=  13.2s\n",
            "[CV] learning_rate=0.1, max_depth=5, n_estimators=50 .................\n",
            "[19:13:02] WARNING: /workspace/src/objective/regression_obj.cu:152: reg:linear is now deprecated in favor of reg:squarederror.\n",
            "[CV] .. learning_rate=0.1, max_depth=5, n_estimators=50, total=  13.3s\n",
            "[CV] learning_rate=0.1, max_depth=5, n_estimators=50 .................\n",
            "[19:13:15] WARNING: /workspace/src/objective/regression_obj.cu:152: reg:linear is now deprecated in favor of reg:squarederror.\n",
            "[CV] .. learning_rate=0.1, max_depth=5, n_estimators=50, total=  13.6s\n",
            "[CV] learning_rate=0.1, max_depth=5, n_estimators=80 .................\n",
            "[19:13:29] WARNING: /workspace/src/objective/regression_obj.cu:152: reg:linear is now deprecated in favor of reg:squarederror.\n",
            "[CV] .. learning_rate=0.1, max_depth=5, n_estimators=80, total=  20.9s\n",
            "[CV] learning_rate=0.1, max_depth=5, n_estimators=80 .................\n",
            "[19:13:50] WARNING: /workspace/src/objective/regression_obj.cu:152: reg:linear is now deprecated in favor of reg:squarederror.\n",
            "[CV] .. learning_rate=0.1, max_depth=5, n_estimators=80, total=  21.9s\n",
            "[CV] learning_rate=0.1, max_depth=5, n_estimators=80 .................\n",
            "[19:14:12] WARNING: /workspace/src/objective/regression_obj.cu:152: reg:linear is now deprecated in favor of reg:squarederror.\n",
            "[CV] .. learning_rate=0.1, max_depth=5, n_estimators=80, total=  21.3s\n",
            "[CV] learning_rate=0.1, max_depth=5, n_estimators=80 .................\n",
            "[19:14:33] WARNING: /workspace/src/objective/regression_obj.cu:152: reg:linear is now deprecated in favor of reg:squarederror.\n",
            "[CV] .. learning_rate=0.1, max_depth=5, n_estimators=80, total=  20.6s\n",
            "[CV] learning_rate=0.1, max_depth=5, n_estimators=80 .................\n",
            "[19:14:54] WARNING: /workspace/src/objective/regression_obj.cu:152: reg:linear is now deprecated in favor of reg:squarederror.\n",
            "[CV] .. learning_rate=0.1, max_depth=5, n_estimators=80, total=  20.7s\n",
            "[CV] learning_rate=0.1, max_depth=5, n_estimators=100 ................\n",
            "[19:15:14] WARNING: /workspace/src/objective/regression_obj.cu:152: reg:linear is now deprecated in favor of reg:squarederror.\n",
            "[CV] . learning_rate=0.1, max_depth=5, n_estimators=100, total=  25.7s\n",
            "[CV] learning_rate=0.1, max_depth=5, n_estimators=100 ................\n",
            "[19:15:40] WARNING: /workspace/src/objective/regression_obj.cu:152: reg:linear is now deprecated in favor of reg:squarederror.\n",
            "[CV] . learning_rate=0.1, max_depth=5, n_estimators=100, total=  25.8s\n",
            "[CV] learning_rate=0.1, max_depth=5, n_estimators=100 ................\n",
            "[19:16:06] WARNING: /workspace/src/objective/regression_obj.cu:152: reg:linear is now deprecated in favor of reg:squarederror.\n",
            "[CV] . learning_rate=0.1, max_depth=5, n_estimators=100, total=  26.1s\n",
            "[CV] learning_rate=0.1, max_depth=5, n_estimators=100 ................\n",
            "[19:16:32] WARNING: /workspace/src/objective/regression_obj.cu:152: reg:linear is now deprecated in favor of reg:squarederror.\n",
            "[CV] . learning_rate=0.1, max_depth=5, n_estimators=100, total=  25.6s\n",
            "[CV] learning_rate=0.1, max_depth=5, n_estimators=100 ................\n",
            "[19:16:58] WARNING: /workspace/src/objective/regression_obj.cu:152: reg:linear is now deprecated in favor of reg:squarederror.\n",
            "[CV] . learning_rate=0.1, max_depth=5, n_estimators=100, total=  25.8s\n",
            "[CV] learning_rate=0.1, max_depth=8, n_estimators=50 .................\n",
            "[19:17:23] WARNING: /workspace/src/objective/regression_obj.cu:152: reg:linear is now deprecated in favor of reg:squarederror.\n",
            "[CV] .. learning_rate=0.1, max_depth=8, n_estimators=50, total=  20.4s\n",
            "[CV] learning_rate=0.1, max_depth=8, n_estimators=50 .................\n",
            "[19:17:44] WARNING: /workspace/src/objective/regression_obj.cu:152: reg:linear is now deprecated in favor of reg:squarederror.\n",
            "[CV] .. learning_rate=0.1, max_depth=8, n_estimators=50, total=  20.4s\n",
            "[CV] learning_rate=0.1, max_depth=8, n_estimators=50 .................\n",
            "[19:18:04] WARNING: /workspace/src/objective/regression_obj.cu:152: reg:linear is now deprecated in favor of reg:squarederror.\n",
            "[CV] .. learning_rate=0.1, max_depth=8, n_estimators=50, total=  20.3s\n",
            "[CV] learning_rate=0.1, max_depth=8, n_estimators=50 .................\n",
            "[19:18:25] WARNING: /workspace/src/objective/regression_obj.cu:152: reg:linear is now deprecated in favor of reg:squarederror.\n",
            "[CV] .. learning_rate=0.1, max_depth=8, n_estimators=50, total=  20.9s\n",
            "[CV] learning_rate=0.1, max_depth=8, n_estimators=50 .................\n",
            "[19:18:45] WARNING: /workspace/src/objective/regression_obj.cu:152: reg:linear is now deprecated in favor of reg:squarederror.\n",
            "[CV] .. learning_rate=0.1, max_depth=8, n_estimators=50, total=  20.4s\n",
            "[CV] learning_rate=0.1, max_depth=8, n_estimators=80 .................\n",
            "[19:19:06] WARNING: /workspace/src/objective/regression_obj.cu:152: reg:linear is now deprecated in favor of reg:squarederror.\n",
            "[CV] .. learning_rate=0.1, max_depth=8, n_estimators=80, total=  33.0s\n",
            "[CV] learning_rate=0.1, max_depth=8, n_estimators=80 .................\n",
            "[19:19:39] WARNING: /workspace/src/objective/regression_obj.cu:152: reg:linear is now deprecated in favor of reg:squarederror.\n",
            "[CV] .. learning_rate=0.1, max_depth=8, n_estimators=80, total=  33.0s\n",
            "[CV] learning_rate=0.1, max_depth=8, n_estimators=80 .................\n",
            "[19:20:12] WARNING: /workspace/src/objective/regression_obj.cu:152: reg:linear is now deprecated in favor of reg:squarederror.\n",
            "[CV] .. learning_rate=0.1, max_depth=8, n_estimators=80, total=  32.8s\n",
            "[CV] learning_rate=0.1, max_depth=8, n_estimators=80 .................\n",
            "[19:20:45] WARNING: /workspace/src/objective/regression_obj.cu:152: reg:linear is now deprecated in favor of reg:squarederror.\n",
            "[CV] .. learning_rate=0.1, max_depth=8, n_estimators=80, total=  32.8s\n",
            "[CV] learning_rate=0.1, max_depth=8, n_estimators=80 .................\n",
            "[19:21:17] WARNING: /workspace/src/objective/regression_obj.cu:152: reg:linear is now deprecated in favor of reg:squarederror.\n",
            "[CV] .. learning_rate=0.1, max_depth=8, n_estimators=80, total=  33.0s\n",
            "[CV] learning_rate=0.1, max_depth=8, n_estimators=100 ................\n",
            "[19:21:50] WARNING: /workspace/src/objective/regression_obj.cu:152: reg:linear is now deprecated in favor of reg:squarederror.\n",
            "[CV] . learning_rate=0.1, max_depth=8, n_estimators=100, total=  41.4s\n",
            "[CV] learning_rate=0.1, max_depth=8, n_estimators=100 ................\n",
            "[19:22:32] WARNING: /workspace/src/objective/regression_obj.cu:152: reg:linear is now deprecated in favor of reg:squarederror.\n",
            "[CV] . learning_rate=0.1, max_depth=8, n_estimators=100, total=  41.7s\n",
            "[CV] learning_rate=0.1, max_depth=8, n_estimators=100 ................\n",
            "[19:23:14] WARNING: /workspace/src/objective/regression_obj.cu:152: reg:linear is now deprecated in favor of reg:squarederror.\n",
            "[CV] . learning_rate=0.1, max_depth=8, n_estimators=100, total=  41.7s\n",
            "[CV] learning_rate=0.1, max_depth=8, n_estimators=100 ................\n",
            "[19:23:55] WARNING: /workspace/src/objective/regression_obj.cu:152: reg:linear is now deprecated in favor of reg:squarederror.\n",
            "[CV] . learning_rate=0.1, max_depth=8, n_estimators=100, total=  44.4s\n",
            "[CV] learning_rate=0.1, max_depth=8, n_estimators=100 ................\n",
            "[19:24:40] WARNING: /workspace/src/objective/regression_obj.cu:152: reg:linear is now deprecated in favor of reg:squarederror.\n",
            "[CV] . learning_rate=0.1, max_depth=8, n_estimators=100, total=  42.4s\n",
            "[CV] learning_rate=0.3, max_depth=3, n_estimators=50 .................\n",
            "[19:25:22] WARNING: /workspace/src/objective/regression_obj.cu:152: reg:linear is now deprecated in favor of reg:squarederror.\n",
            "[CV] .. learning_rate=0.3, max_depth=3, n_estimators=50, total=   8.8s\n",
            "[CV] learning_rate=0.3, max_depth=3, n_estimators=50 .................\n",
            "[19:25:31] WARNING: /workspace/src/objective/regression_obj.cu:152: reg:linear is now deprecated in favor of reg:squarederror.\n",
            "[CV] .. learning_rate=0.3, max_depth=3, n_estimators=50, total=   8.8s\n",
            "[CV] learning_rate=0.3, max_depth=3, n_estimators=50 .................\n",
            "[19:25:40] WARNING: /workspace/src/objective/regression_obj.cu:152: reg:linear is now deprecated in favor of reg:squarederror.\n",
            "[CV] .. learning_rate=0.3, max_depth=3, n_estimators=50, total=   8.8s\n",
            "[CV] learning_rate=0.3, max_depth=3, n_estimators=50 .................\n",
            "[19:25:49] WARNING: /workspace/src/objective/regression_obj.cu:152: reg:linear is now deprecated in favor of reg:squarederror.\n",
            "[CV] .. learning_rate=0.3, max_depth=3, n_estimators=50, total=   8.8s\n",
            "[CV] learning_rate=0.3, max_depth=3, n_estimators=50 .................\n",
            "[19:25:57] WARNING: /workspace/src/objective/regression_obj.cu:152: reg:linear is now deprecated in favor of reg:squarederror.\n",
            "[CV] .. learning_rate=0.3, max_depth=3, n_estimators=50, total=   8.8s\n",
            "[CV] learning_rate=0.3, max_depth=3, n_estimators=80 .................\n",
            "[19:26:06] WARNING: /workspace/src/objective/regression_obj.cu:152: reg:linear is now deprecated in favor of reg:squarederror.\n",
            "[CV] .. learning_rate=0.3, max_depth=3, n_estimators=80, total=  13.7s\n",
            "[CV] learning_rate=0.3, max_depth=3, n_estimators=80 .................\n",
            "[19:26:20] WARNING: /workspace/src/objective/regression_obj.cu:152: reg:linear is now deprecated in favor of reg:squarederror.\n",
            "[CV] .. learning_rate=0.3, max_depth=3, n_estimators=80, total=  13.7s\n",
            "[CV] learning_rate=0.3, max_depth=3, n_estimators=80 .................\n",
            "[19:26:34] WARNING: /workspace/src/objective/regression_obj.cu:152: reg:linear is now deprecated in favor of reg:squarederror.\n",
            "[CV] .. learning_rate=0.3, max_depth=3, n_estimators=80, total=  13.7s\n",
            "[CV] learning_rate=0.3, max_depth=3, n_estimators=80 .................\n",
            "[19:26:47] WARNING: /workspace/src/objective/regression_obj.cu:152: reg:linear is now deprecated in favor of reg:squarederror.\n",
            "[CV] .. learning_rate=0.3, max_depth=3, n_estimators=80, total=  13.5s\n",
            "[CV] learning_rate=0.3, max_depth=3, n_estimators=80 .................\n",
            "[19:27:01] WARNING: /workspace/src/objective/regression_obj.cu:152: reg:linear is now deprecated in favor of reg:squarederror.\n",
            "[CV] .. learning_rate=0.3, max_depth=3, n_estimators=80, total=  13.6s\n",
            "[CV] learning_rate=0.3, max_depth=3, n_estimators=100 ................\n",
            "[19:27:14] WARNING: /workspace/src/objective/regression_obj.cu:152: reg:linear is now deprecated in favor of reg:squarederror.\n",
            "[CV] . learning_rate=0.3, max_depth=3, n_estimators=100, total=  16.9s\n",
            "[CV] learning_rate=0.3, max_depth=3, n_estimators=100 ................\n",
            "[19:27:31] WARNING: /workspace/src/objective/regression_obj.cu:152: reg:linear is now deprecated in favor of reg:squarederror.\n",
            "[CV] . learning_rate=0.3, max_depth=3, n_estimators=100, total=  16.9s\n",
            "[CV] learning_rate=0.3, max_depth=3, n_estimators=100 ................\n",
            "[19:27:48] WARNING: /workspace/src/objective/regression_obj.cu:152: reg:linear is now deprecated in favor of reg:squarederror.\n",
            "[CV] . learning_rate=0.3, max_depth=3, n_estimators=100, total=  16.9s\n",
            "[CV] learning_rate=0.3, max_depth=3, n_estimators=100 ................\n",
            "[19:28:05] WARNING: /workspace/src/objective/regression_obj.cu:152: reg:linear is now deprecated in favor of reg:squarederror.\n",
            "[CV] . learning_rate=0.3, max_depth=3, n_estimators=100, total=  17.0s\n",
            "[CV] learning_rate=0.3, max_depth=3, n_estimators=100 ................\n",
            "[19:28:22] WARNING: /workspace/src/objective/regression_obj.cu:152: reg:linear is now deprecated in favor of reg:squarederror.\n",
            "[CV] . learning_rate=0.3, max_depth=3, n_estimators=100, total=  16.8s\n",
            "[CV] learning_rate=0.3, max_depth=5, n_estimators=50 .................\n",
            "[19:28:39] WARNING: /workspace/src/objective/regression_obj.cu:152: reg:linear is now deprecated in favor of reg:squarederror.\n",
            "[CV] .. learning_rate=0.3, max_depth=5, n_estimators=50, total=  13.2s\n",
            "[CV] learning_rate=0.3, max_depth=5, n_estimators=50 .................\n",
            "[19:28:52] WARNING: /workspace/src/objective/regression_obj.cu:152: reg:linear is now deprecated in favor of reg:squarederror.\n",
            "[CV] .. learning_rate=0.3, max_depth=5, n_estimators=50, total=  13.2s\n",
            "[CV] learning_rate=0.3, max_depth=5, n_estimators=50 .................\n",
            "[19:29:05] WARNING: /workspace/src/objective/regression_obj.cu:152: reg:linear is now deprecated in favor of reg:squarederror.\n",
            "[CV] .. learning_rate=0.3, max_depth=5, n_estimators=50, total=  13.2s\n",
            "[CV] learning_rate=0.3, max_depth=5, n_estimators=50 .................\n",
            "[19:29:19] WARNING: /workspace/src/objective/regression_obj.cu:152: reg:linear is now deprecated in favor of reg:squarederror.\n",
            "[CV] .. learning_rate=0.3, max_depth=5, n_estimators=50, total=  13.5s\n",
            "[CV] learning_rate=0.3, max_depth=5, n_estimators=50 .................\n",
            "[19:29:32] WARNING: /workspace/src/objective/regression_obj.cu:152: reg:linear is now deprecated in favor of reg:squarederror.\n",
            "[CV] .. learning_rate=0.3, max_depth=5, n_estimators=50, total=  14.8s\n",
            "[CV] learning_rate=0.3, max_depth=5, n_estimators=80 .................\n",
            "[19:29:47] WARNING: /workspace/src/objective/regression_obj.cu:152: reg:linear is now deprecated in favor of reg:squarederror.\n",
            "[CV] .. learning_rate=0.3, max_depth=5, n_estimators=80, total=  20.8s\n",
            "[CV] learning_rate=0.3, max_depth=5, n_estimators=80 .................\n",
            "[19:30:08] WARNING: /workspace/src/objective/regression_obj.cu:152: reg:linear is now deprecated in favor of reg:squarederror.\n",
            "[CV] .. learning_rate=0.3, max_depth=5, n_estimators=80, total=  21.0s\n",
            "[CV] learning_rate=0.3, max_depth=5, n_estimators=80 .................\n",
            "[19:30:29] WARNING: /workspace/src/objective/regression_obj.cu:152: reg:linear is now deprecated in favor of reg:squarederror.\n",
            "[CV] .. learning_rate=0.3, max_depth=5, n_estimators=80, total=  21.1s\n",
            "[CV] learning_rate=0.3, max_depth=5, n_estimators=80 .................\n",
            "[19:30:50] WARNING: /workspace/src/objective/regression_obj.cu:152: reg:linear is now deprecated in favor of reg:squarederror.\n",
            "[CV] .. learning_rate=0.3, max_depth=5, n_estimators=80, total=  20.6s\n",
            "[CV] learning_rate=0.3, max_depth=5, n_estimators=80 .................\n",
            "[19:31:11] WARNING: /workspace/src/objective/regression_obj.cu:152: reg:linear is now deprecated in favor of reg:squarederror.\n",
            "[CV] .. learning_rate=0.3, max_depth=5, n_estimators=80, total=  20.9s\n",
            "[CV] learning_rate=0.3, max_depth=5, n_estimators=100 ................\n",
            "[19:31:31] WARNING: /workspace/src/objective/regression_obj.cu:152: reg:linear is now deprecated in favor of reg:squarederror.\n",
            "[CV] . learning_rate=0.3, max_depth=5, n_estimators=100, total=  26.1s\n",
            "[CV] learning_rate=0.3, max_depth=5, n_estimators=100 ................\n",
            "[19:31:57] WARNING: /workspace/src/objective/regression_obj.cu:152: reg:linear is now deprecated in favor of reg:squarederror.\n",
            "[CV] . learning_rate=0.3, max_depth=5, n_estimators=100, total=  26.2s\n",
            "[CV] learning_rate=0.3, max_depth=5, n_estimators=100 ................\n",
            "[19:32:24] WARNING: /workspace/src/objective/regression_obj.cu:152: reg:linear is now deprecated in favor of reg:squarederror.\n",
            "[CV] . learning_rate=0.3, max_depth=5, n_estimators=100, total=  25.8s\n",
            "[CV] learning_rate=0.3, max_depth=5, n_estimators=100 ................\n",
            "[19:32:49] WARNING: /workspace/src/objective/regression_obj.cu:152: reg:linear is now deprecated in favor of reg:squarederror.\n",
            "[CV] . learning_rate=0.3, max_depth=5, n_estimators=100, total=  25.6s\n",
            "[CV] learning_rate=0.3, max_depth=5, n_estimators=100 ................\n",
            "[19:33:15] WARNING: /workspace/src/objective/regression_obj.cu:152: reg:linear is now deprecated in favor of reg:squarederror.\n",
            "[CV] . learning_rate=0.3, max_depth=5, n_estimators=100, total=  26.0s\n",
            "[CV] learning_rate=0.3, max_depth=8, n_estimators=50 .................\n",
            "[19:33:41] WARNING: /workspace/src/objective/regression_obj.cu:152: reg:linear is now deprecated in favor of reg:squarederror.\n",
            "[CV] .. learning_rate=0.3, max_depth=8, n_estimators=50, total=  21.2s\n",
            "[CV] learning_rate=0.3, max_depth=8, n_estimators=50 .................\n",
            "[19:34:02] WARNING: /workspace/src/objective/regression_obj.cu:152: reg:linear is now deprecated in favor of reg:squarederror.\n",
            "[CV] .. learning_rate=0.3, max_depth=8, n_estimators=50, total=  21.2s\n",
            "[CV] learning_rate=0.3, max_depth=8, n_estimators=50 .................\n",
            "[19:34:23] WARNING: /workspace/src/objective/regression_obj.cu:152: reg:linear is now deprecated in favor of reg:squarederror.\n",
            "[CV] .. learning_rate=0.3, max_depth=8, n_estimators=50, total=  22.1s\n",
            "[CV] learning_rate=0.3, max_depth=8, n_estimators=50 .................\n",
            "[19:34:46] WARNING: /workspace/src/objective/regression_obj.cu:152: reg:linear is now deprecated in favor of reg:squarederror.\n",
            "[CV] .. learning_rate=0.3, max_depth=8, n_estimators=50, total=  21.9s\n",
            "[CV] learning_rate=0.3, max_depth=8, n_estimators=50 .................\n",
            "[19:35:08] WARNING: /workspace/src/objective/regression_obj.cu:152: reg:linear is now deprecated in favor of reg:squarederror.\n",
            "[CV] .. learning_rate=0.3, max_depth=8, n_estimators=50, total=  21.3s\n",
            "[CV] learning_rate=0.3, max_depth=8, n_estimators=80 .................\n",
            "[19:35:29] WARNING: /workspace/src/objective/regression_obj.cu:152: reg:linear is now deprecated in favor of reg:squarederror.\n",
            "[CV] .. learning_rate=0.3, max_depth=8, n_estimators=80, total=  33.6s\n",
            "[CV] learning_rate=0.3, max_depth=8, n_estimators=80 .................\n",
            "[19:36:02] WARNING: /workspace/src/objective/regression_obj.cu:152: reg:linear is now deprecated in favor of reg:squarederror.\n",
            "[CV] .. learning_rate=0.3, max_depth=8, n_estimators=80, total=  34.1s\n",
            "[CV] learning_rate=0.3, max_depth=8, n_estimators=80 .................\n",
            "[19:36:37] WARNING: /workspace/src/objective/regression_obj.cu:152: reg:linear is now deprecated in favor of reg:squarederror.\n",
            "[CV] .. learning_rate=0.3, max_depth=8, n_estimators=80, total=  33.7s\n",
            "[CV] learning_rate=0.3, max_depth=8, n_estimators=80 .................\n",
            "[19:37:10] WARNING: /workspace/src/objective/regression_obj.cu:152: reg:linear is now deprecated in favor of reg:squarederror.\n",
            "[CV] .. learning_rate=0.3, max_depth=8, n_estimators=80, total=  33.8s\n",
            "[CV] learning_rate=0.3, max_depth=8, n_estimators=80 .................\n",
            "[19:37:44] WARNING: /workspace/src/objective/regression_obj.cu:152: reg:linear is now deprecated in favor of reg:squarederror.\n",
            "[CV] .. learning_rate=0.3, max_depth=8, n_estimators=80, total=  33.6s\n",
            "[CV] learning_rate=0.3, max_depth=8, n_estimators=100 ................\n",
            "[19:38:18] WARNING: /workspace/src/objective/regression_obj.cu:152: reg:linear is now deprecated in favor of reg:squarederror.\n",
            "[CV] . learning_rate=0.3, max_depth=8, n_estimators=100, total=  41.9s\n",
            "[CV] learning_rate=0.3, max_depth=8, n_estimators=100 ................\n",
            "[19:39:00] WARNING: /workspace/src/objective/regression_obj.cu:152: reg:linear is now deprecated in favor of reg:squarederror.\n",
            "[CV] . learning_rate=0.3, max_depth=8, n_estimators=100, total=  42.0s\n",
            "[CV] learning_rate=0.3, max_depth=8, n_estimators=100 ................\n",
            "[19:39:41] WARNING: /workspace/src/objective/regression_obj.cu:152: reg:linear is now deprecated in favor of reg:squarederror.\n",
            "[CV] . learning_rate=0.3, max_depth=8, n_estimators=100, total=  43.3s\n",
            "[CV] learning_rate=0.3, max_depth=8, n_estimators=100 ................\n",
            "[19:40:25] WARNING: /workspace/src/objective/regression_obj.cu:152: reg:linear is now deprecated in favor of reg:squarederror.\n",
            "[CV] . learning_rate=0.3, max_depth=8, n_estimators=100, total=  41.6s\n",
            "[CV] learning_rate=0.3, max_depth=8, n_estimators=100 ................\n",
            "[19:41:06] WARNING: /workspace/src/objective/regression_obj.cu:152: reg:linear is now deprecated in favor of reg:squarederror.\n",
            "[CV] . learning_rate=0.3, max_depth=8, n_estimators=100, total=  41.9s\n",
            "[CV] learning_rate=0.5, max_depth=3, n_estimators=50 .................\n",
            "[19:41:48] WARNING: /workspace/src/objective/regression_obj.cu:152: reg:linear is now deprecated in favor of reg:squarederror.\n",
            "[CV] .. learning_rate=0.5, max_depth=3, n_estimators=50, total=   8.7s\n",
            "[CV] learning_rate=0.5, max_depth=3, n_estimators=50 .................\n",
            "[19:41:57] WARNING: /workspace/src/objective/regression_obj.cu:152: reg:linear is now deprecated in favor of reg:squarederror.\n",
            "[CV] .. learning_rate=0.5, max_depth=3, n_estimators=50, total=   8.7s\n",
            "[CV] learning_rate=0.5, max_depth=3, n_estimators=50 .................\n",
            "[19:42:06] WARNING: /workspace/src/objective/regression_obj.cu:152: reg:linear is now deprecated in favor of reg:squarederror.\n",
            "[CV] .. learning_rate=0.5, max_depth=3, n_estimators=50, total=   8.7s\n",
            "[CV] learning_rate=0.5, max_depth=3, n_estimators=50 .................\n",
            "[19:42:14] WARNING: /workspace/src/objective/regression_obj.cu:152: reg:linear is now deprecated in favor of reg:squarederror.\n",
            "[CV] .. learning_rate=0.5, max_depth=3, n_estimators=50, total=   8.7s\n",
            "[CV] learning_rate=0.5, max_depth=3, n_estimators=50 .................\n",
            "[19:42:23] WARNING: /workspace/src/objective/regression_obj.cu:152: reg:linear is now deprecated in favor of reg:squarederror.\n",
            "[CV] .. learning_rate=0.5, max_depth=3, n_estimators=50, total=   8.7s\n",
            "[CV] learning_rate=0.5, max_depth=3, n_estimators=80 .................\n",
            "[19:42:32] WARNING: /workspace/src/objective/regression_obj.cu:152: reg:linear is now deprecated in favor of reg:squarederror.\n",
            "[CV] .. learning_rate=0.5, max_depth=3, n_estimators=80, total=  13.6s\n",
            "[CV] learning_rate=0.5, max_depth=3, n_estimators=80 .................\n",
            "[19:42:45] WARNING: /workspace/src/objective/regression_obj.cu:152: reg:linear is now deprecated in favor of reg:squarederror.\n",
            "[CV] .. learning_rate=0.5, max_depth=3, n_estimators=80, total=  13.6s\n",
            "[CV] learning_rate=0.5, max_depth=3, n_estimators=80 .................\n",
            "[19:42:59] WARNING: /workspace/src/objective/regression_obj.cu:152: reg:linear is now deprecated in favor of reg:squarederror.\n",
            "[CV] .. learning_rate=0.5, max_depth=3, n_estimators=80, total=  13.8s\n",
            "[CV] learning_rate=0.5, max_depth=3, n_estimators=80 .................\n",
            "[19:43:13] WARNING: /workspace/src/objective/regression_obj.cu:152: reg:linear is now deprecated in favor of reg:squarederror.\n",
            "[CV] .. learning_rate=0.5, max_depth=3, n_estimators=80, total=  13.5s\n",
            "[CV] learning_rate=0.5, max_depth=3, n_estimators=80 .................\n",
            "[19:43:26] WARNING: /workspace/src/objective/regression_obj.cu:152: reg:linear is now deprecated in favor of reg:squarederror.\n",
            "[CV] .. learning_rate=0.5, max_depth=3, n_estimators=80, total=  13.8s\n",
            "[CV] learning_rate=0.5, max_depth=3, n_estimators=100 ................\n",
            "[19:43:40] WARNING: /workspace/src/objective/regression_obj.cu:152: reg:linear is now deprecated in favor of reg:squarederror.\n",
            "[CV] . learning_rate=0.5, max_depth=3, n_estimators=100, total=  16.8s\n",
            "[CV] learning_rate=0.5, max_depth=3, n_estimators=100 ................\n",
            "[19:43:57] WARNING: /workspace/src/objective/regression_obj.cu:152: reg:linear is now deprecated in favor of reg:squarederror.\n",
            "[CV] . learning_rate=0.5, max_depth=3, n_estimators=100, total=  17.0s\n",
            "[CV] learning_rate=0.5, max_depth=3, n_estimators=100 ................\n",
            "[19:44:14] WARNING: /workspace/src/objective/regression_obj.cu:152: reg:linear is now deprecated in favor of reg:squarederror.\n",
            "[CV] . learning_rate=0.5, max_depth=3, n_estimators=100, total=  17.1s\n",
            "[CV] learning_rate=0.5, max_depth=3, n_estimators=100 ................\n",
            "[19:44:31] WARNING: /workspace/src/objective/regression_obj.cu:152: reg:linear is now deprecated in favor of reg:squarederror.\n",
            "[CV] . learning_rate=0.5, max_depth=3, n_estimators=100, total=  17.4s\n",
            "[CV] learning_rate=0.5, max_depth=3, n_estimators=100 ................\n",
            "[19:44:48] WARNING: /workspace/src/objective/regression_obj.cu:152: reg:linear is now deprecated in favor of reg:squarederror.\n",
            "[CV] . learning_rate=0.5, max_depth=3, n_estimators=100, total=  17.2s\n",
            "[CV] learning_rate=0.5, max_depth=5, n_estimators=50 .................\n",
            "[19:45:06] WARNING: /workspace/src/objective/regression_obj.cu:152: reg:linear is now deprecated in favor of reg:squarederror.\n",
            "[CV] .. learning_rate=0.5, max_depth=5, n_estimators=50, total=  13.1s\n",
            "[CV] learning_rate=0.5, max_depth=5, n_estimators=50 .................\n",
            "[19:45:19] WARNING: /workspace/src/objective/regression_obj.cu:152: reg:linear is now deprecated in favor of reg:squarederror.\n",
            "[CV] .. learning_rate=0.5, max_depth=5, n_estimators=50, total=  13.3s\n",
            "[CV] learning_rate=0.5, max_depth=5, n_estimators=50 .................\n",
            "[19:45:32] WARNING: /workspace/src/objective/regression_obj.cu:152: reg:linear is now deprecated in favor of reg:squarederror.\n",
            "[CV] .. learning_rate=0.5, max_depth=5, n_estimators=50, total=  13.8s\n",
            "[CV] learning_rate=0.5, max_depth=5, n_estimators=50 .................\n",
            "[19:45:46] WARNING: /workspace/src/objective/regression_obj.cu:152: reg:linear is now deprecated in favor of reg:squarederror.\n",
            "[CV] .. learning_rate=0.5, max_depth=5, n_estimators=50, total=  13.1s\n",
            "[CV] learning_rate=0.5, max_depth=5, n_estimators=50 .................\n",
            "[19:45:59] WARNING: /workspace/src/objective/regression_obj.cu:152: reg:linear is now deprecated in favor of reg:squarederror.\n",
            "[CV] .. learning_rate=0.5, max_depth=5, n_estimators=50, total=  13.1s\n",
            "[CV] learning_rate=0.5, max_depth=5, n_estimators=80 .................\n",
            "[19:46:12] WARNING: /workspace/src/objective/regression_obj.cu:152: reg:linear is now deprecated in favor of reg:squarederror.\n",
            "[CV] .. learning_rate=0.5, max_depth=5, n_estimators=80, total=  20.5s\n",
            "[CV] learning_rate=0.5, max_depth=5, n_estimators=80 .................\n",
            "[19:46:32] WARNING: /workspace/src/objective/regression_obj.cu:152: reg:linear is now deprecated in favor of reg:squarederror.\n",
            "[CV] .. learning_rate=0.5, max_depth=5, n_estimators=80, total=  20.7s\n",
            "[CV] learning_rate=0.5, max_depth=5, n_estimators=80 .................\n",
            "[19:46:53] WARNING: /workspace/src/objective/regression_obj.cu:152: reg:linear is now deprecated in favor of reg:squarederror.\n",
            "[CV] .. learning_rate=0.5, max_depth=5, n_estimators=80, total=  20.5s\n",
            "[CV] learning_rate=0.5, max_depth=5, n_estimators=80 .................\n",
            "[19:47:14] WARNING: /workspace/src/objective/regression_obj.cu:152: reg:linear is now deprecated in favor of reg:squarederror.\n",
            "[CV] .. learning_rate=0.5, max_depth=5, n_estimators=80, total=  20.7s\n",
            "[CV] learning_rate=0.5, max_depth=5, n_estimators=80 .................\n",
            "[19:47:34] WARNING: /workspace/src/objective/regression_obj.cu:152: reg:linear is now deprecated in favor of reg:squarederror.\n",
            "[CV] .. learning_rate=0.5, max_depth=5, n_estimators=80, total=  20.5s\n",
            "[CV] learning_rate=0.5, max_depth=5, n_estimators=100 ................\n",
            "[19:47:55] WARNING: /workspace/src/objective/regression_obj.cu:152: reg:linear is now deprecated in favor of reg:squarederror.\n",
            "[CV] . learning_rate=0.5, max_depth=5, n_estimators=100, total=  25.8s\n",
            "[CV] learning_rate=0.5, max_depth=5, n_estimators=100 ................\n",
            "[19:48:21] WARNING: /workspace/src/objective/regression_obj.cu:152: reg:linear is now deprecated in favor of reg:squarederror.\n",
            "[CV] . learning_rate=0.5, max_depth=5, n_estimators=100, total=  25.5s\n",
            "[CV] learning_rate=0.5, max_depth=5, n_estimators=100 ................\n",
            "[19:48:46] WARNING: /workspace/src/objective/regression_obj.cu:152: reg:linear is now deprecated in favor of reg:squarederror.\n",
            "[CV] . learning_rate=0.5, max_depth=5, n_estimators=100, total=  25.5s\n",
            "[CV] learning_rate=0.5, max_depth=5, n_estimators=100 ................\n",
            "[19:49:12] WARNING: /workspace/src/objective/regression_obj.cu:152: reg:linear is now deprecated in favor of reg:squarederror.\n",
            "[CV] . learning_rate=0.5, max_depth=5, n_estimators=100, total=  25.5s\n",
            "[CV] learning_rate=0.5, max_depth=5, n_estimators=100 ................\n",
            "[19:49:37] WARNING: /workspace/src/objective/regression_obj.cu:152: reg:linear is now deprecated in favor of reg:squarederror.\n",
            "[CV] . learning_rate=0.5, max_depth=5, n_estimators=100, total=  25.8s\n",
            "[CV] learning_rate=0.5, max_depth=8, n_estimators=50 .................\n",
            "[19:50:03] WARNING: /workspace/src/objective/regression_obj.cu:152: reg:linear is now deprecated in favor of reg:squarederror.\n",
            "[CV] .. learning_rate=0.5, max_depth=8, n_estimators=50, total=  21.4s\n",
            "[CV] learning_rate=0.5, max_depth=8, n_estimators=50 .................\n",
            "[19:50:24] WARNING: /workspace/src/objective/regression_obj.cu:152: reg:linear is now deprecated in favor of reg:squarederror.\n",
            "[CV] .. learning_rate=0.5, max_depth=8, n_estimators=50, total=  20.8s\n",
            "[CV] learning_rate=0.5, max_depth=8, n_estimators=50 .................\n",
            "[19:50:45] WARNING: /workspace/src/objective/regression_obj.cu:152: reg:linear is now deprecated in favor of reg:squarederror.\n",
            "[CV] .. learning_rate=0.5, max_depth=8, n_estimators=50, total=  21.2s\n",
            "[CV] learning_rate=0.5, max_depth=8, n_estimators=50 .................\n",
            "[19:51:06] WARNING: /workspace/src/objective/regression_obj.cu:152: reg:linear is now deprecated in favor of reg:squarederror.\n",
            "[CV] .. learning_rate=0.5, max_depth=8, n_estimators=50, total=  20.9s\n",
            "[CV] learning_rate=0.5, max_depth=8, n_estimators=50 .................\n",
            "[19:51:27] WARNING: /workspace/src/objective/regression_obj.cu:152: reg:linear is now deprecated in favor of reg:squarederror.\n",
            "[CV] .. learning_rate=0.5, max_depth=8, n_estimators=50, total=  21.0s\n",
            "[CV] learning_rate=0.5, max_depth=8, n_estimators=80 .................\n",
            "[19:51:48] WARNING: /workspace/src/objective/regression_obj.cu:152: reg:linear is now deprecated in favor of reg:squarederror.\n",
            "[CV] .. learning_rate=0.5, max_depth=8, n_estimators=80, total=  33.1s\n",
            "[CV] learning_rate=0.5, max_depth=8, n_estimators=80 .................\n",
            "[19:52:21] WARNING: /workspace/src/objective/regression_obj.cu:152: reg:linear is now deprecated in favor of reg:squarederror.\n",
            "[CV] .. learning_rate=0.5, max_depth=8, n_estimators=80, total=  33.5s\n",
            "[CV] learning_rate=0.5, max_depth=8, n_estimators=80 .................\n",
            "[19:52:55] WARNING: /workspace/src/objective/regression_obj.cu:152: reg:linear is now deprecated in favor of reg:squarederror.\n",
            "[CV] .. learning_rate=0.5, max_depth=8, n_estimators=80, total=  32.8s\n",
            "[CV] learning_rate=0.5, max_depth=8, n_estimators=80 .................\n",
            "[19:53:28] WARNING: /workspace/src/objective/regression_obj.cu:152: reg:linear is now deprecated in favor of reg:squarederror.\n",
            "[CV] .. learning_rate=0.5, max_depth=8, n_estimators=80, total=  33.3s\n",
            "[CV] learning_rate=0.5, max_depth=8, n_estimators=80 .................\n",
            "[19:54:01] WARNING: /workspace/src/objective/regression_obj.cu:152: reg:linear is now deprecated in favor of reg:squarederror.\n",
            "[CV] .. learning_rate=0.5, max_depth=8, n_estimators=80, total=  33.6s\n",
            "[CV] learning_rate=0.5, max_depth=8, n_estimators=100 ................\n",
            "[19:54:35] WARNING: /workspace/src/objective/regression_obj.cu:152: reg:linear is now deprecated in favor of reg:squarederror.\n",
            "[CV] . learning_rate=0.5, max_depth=8, n_estimators=100, total=  41.7s\n",
            "[CV] learning_rate=0.5, max_depth=8, n_estimators=100 ................\n",
            "[19:55:16] WARNING: /workspace/src/objective/regression_obj.cu:152: reg:linear is now deprecated in favor of reg:squarederror.\n",
            "[CV] . learning_rate=0.5, max_depth=8, n_estimators=100, total=  42.1s\n",
            "[CV] learning_rate=0.5, max_depth=8, n_estimators=100 ................\n",
            "[19:55:58] WARNING: /workspace/src/objective/regression_obj.cu:152: reg:linear is now deprecated in favor of reg:squarederror.\n",
            "[CV] . learning_rate=0.5, max_depth=8, n_estimators=100, total=  41.9s\n",
            "[CV] learning_rate=0.5, max_depth=8, n_estimators=100 ................\n",
            "[19:56:40] WARNING: /workspace/src/objective/regression_obj.cu:152: reg:linear is now deprecated in favor of reg:squarederror.\n",
            "[CV] . learning_rate=0.5, max_depth=8, n_estimators=100, total=  41.3s\n",
            "[CV] learning_rate=0.5, max_depth=8, n_estimators=100 ................\n",
            "[19:57:22] WARNING: /workspace/src/objective/regression_obj.cu:152: reg:linear is now deprecated in favor of reg:squarederror.\n",
            "[CV] . learning_rate=0.5, max_depth=8, n_estimators=100, total=  41.6s\n",
            "[19:58:03] WARNING: /workspace/src/objective/regression_obj.cu:152: reg:linear is now deprecated in favor of reg:squarederror.\n"
          ],
          "name": "stdout"
        },
        {
          "output_type": "stream",
          "text": [
            "[Parallel(n_jobs=1)]: Done 135 out of 135 | elapsed: 49.0min finished\n"
          ],
          "name": "stderr"
        },
        {
          "output_type": "execute_result",
          "data": {
            "text/plain": [
              "GridSearchCV(cv=5, error_score=nan,\n",
              "             estimator=XGBRegressor(base_score=0.5, booster='gbtree',\n",
              "                                    colsample_bylevel=1, colsample_bynode=1,\n",
              "                                    colsample_bytree=1, gamma=0,\n",
              "                                    importance_type='gain', learning_rate=0.1,\n",
              "                                    max_delta_step=0, max_depth=3,\n",
              "                                    min_child_weight=1, missing=None,\n",
              "                                    n_estimators=100, n_jobs=1, nthread=None,\n",
              "                                    objective='reg:linear', random_state=0,\n",
              "                                    reg_alpha=0, reg_lambda=1,\n",
              "                                    scale_pos_weight=1, seed=None, silent=None,\n",
              "                                    subsample=1, verbose=0, verbosity=1),\n",
              "             iid='deprecated', n_jobs=None,\n",
              "             param_grid={'learning_rate': [0.1, 0.3, 0.5],\n",
              "                         'max_depth': [3, 5, 8],\n",
              "                         'n_estimators': [50, 80, 100]},\n",
              "             pre_dispatch='2*n_jobs', refit=True, return_train_score=False,\n",
              "             scoring='r2', verbose=2)"
            ]
          },
          "metadata": {
            "tags": []
          },
          "execution_count": 101
        }
      ]
    },
    {
      "cell_type": "code",
      "metadata": {
        "colab": {
          "base_uri": "https://localhost:8080/"
        },
        "id": "WEbxzUrRXsM9",
        "outputId": "c7a98a47-40da-42cf-8154-6034a17d0d4f"
      },
      "source": [
        "grid.best_params_"
      ],
      "execution_count": 102,
      "outputs": [
        {
          "output_type": "execute_result",
          "data": {
            "text/plain": [
              "{'learning_rate': 0.1, 'max_depth': 8, 'n_estimators': 80}"
            ]
          },
          "metadata": {
            "tags": []
          },
          "execution_count": 102
        }
      ]
    },
    {
      "cell_type": "code",
      "metadata": {
        "id": "BSxc1yJa6ln2"
      },
      "source": [
        "gtr_pred=grid.predict(x_train)\r\n",
        "gts_pred=grid.predict(x_test)"
      ],
      "execution_count": 103,
      "outputs": []
    },
    {
      "cell_type": "code",
      "metadata": {
        "colab": {
          "base_uri": "https://localhost:8080/"
        },
        "id": "FXeKS8p-X9hN",
        "outputId": "f15b6ecc-5645-45aa-c263-1032f108ae4a"
      },
      "source": [
        "#TRAIN metrics\r\n",
        "MSE  = mean_squared_error((y_train), (gtr_pred))\r\n",
        "print(\"MSE :\" , MSE)\r\n",
        "\r\n",
        "RMSE = np.sqrt(MSE)\r\n",
        "print(\"RMSE :\" ,RMSE)\r\n",
        "\r\n",
        "r2 = r2_score((y_train), (gtr_pred))\r\n",
        "print(\"R2 :\" ,r2)\r\n",
        "print(\"Adjusted R2 : \",1-(1-r2_score((y_train), (gtr_pred)))*((x_train.shape[0]-1)/(x_train.shape[0]-x_train.shape[1]-1)))"
      ],
      "execution_count": 104,
      "outputs": [
        {
          "output_type": "stream",
          "text": [
            "MSE : 5.402093581082618e-05\n",
            "RMSE : 0.007349893591802957\n",
            "R2 : 0.996520617952183\n",
            "Adjusted R2 :  0.9965200979841939\n"
          ],
          "name": "stdout"
        }
      ]
    },
    {
      "cell_type": "code",
      "metadata": {
        "colab": {
          "base_uri": "https://localhost:8080/"
        },
        "id": "fHubnMbbYTzT",
        "outputId": "eefce2e0-3231-4e78-db62-b072e98d0a6b"
      },
      "source": [
        "#TEST metrics\r\n",
        "MSE  = mean_squared_error((y_test), (gts_pred))\r\n",
        "print(\"MSE :\" , MSE)\r\n",
        "\r\n",
        "RMSE = np.sqrt(MSE)\r\n",
        "print(\"RMSE :\" ,RMSE)\r\n",
        "\r\n",
        "r2 = r2_score((y_test), (gts_pred))\r\n",
        "print(\"R2 :\" ,r2)\r\n",
        "print(\"Adjusted R2 : \",1-(1-r2_score((y_test), (gts_pred)))*((x_test.shape[0]-1)/(x_test.shape[0]-x_test.shape[1]-1)))"
      ],
      "execution_count": 105,
      "outputs": [
        {
          "output_type": "stream",
          "text": [
            "MSE : 5.9604510316059484e-05\n",
            "RMSE : 0.00772039573571585\n",
            "R2 : 0.9961512234240623\n",
            "Adjusted R2 :  0.9961489216962752\n"
          ],
          "name": "stdout"
        }
      ]
    },
    {
      "cell_type": "markdown",
      "metadata": {
        "id": "eOdJmVvNcA1G"
      },
      "source": [
        "#We got good accuracy using gridsearch."
      ]
    },
    {
      "cell_type": "code",
      "metadata": {
        "id": "F6AWwHdjb-Jk"
      },
      "source": [
        ""
      ],
      "execution_count": null,
      "outputs": []
    }
  ]
}